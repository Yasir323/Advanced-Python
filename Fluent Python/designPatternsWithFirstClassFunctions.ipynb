{
 "cells": [
  {
   "cell_type": "code",
   "execution_count": 1,
   "id": "324b0a60-6a59-4e3f-a173-209106ac00f5",
   "metadata": {},
   "outputs": [],
   "source": [
    "import inspect\n",
    "from collections import namedtuple\n",
    "from abc import ABC, abstractmethod"
   ]
  },
  {
   "cell_type": "markdown",
   "id": "034974de-4fd5-423b-b257-968c2d36ed8c",
   "metadata": {},
   "source": [
    "# Classic Strategy"
   ]
  },
  {
   "cell_type": "code",
   "execution_count": 2,
   "id": "2e16811b-35a1-4a4c-97ed-a6d339c0bef8",
   "metadata": {},
   "outputs": [],
   "source": [
    "Customer = namedtuple('Customer', 'name fidelity')"
   ]
  },
  {
   "cell_type": "code",
   "execution_count": 3,
   "id": "3825e5d9-81bd-401c-ba38-868e88e2725d",
   "metadata": {},
   "outputs": [],
   "source": [
    "class LineItem:\n",
    "    \n",
    "    def __init__(self, product, quantity, price):\n",
    "        self.product = product\n",
    "        self.quantity = quantity\n",
    "        self.price = price\n",
    "    \n",
    "    def total(self):\n",
    "        return self.price * self.quantity"
   ]
  },
  {
   "cell_type": "code",
   "execution_count": 4,
   "id": "2c2d0cdc-ee33-4d20-81bc-d4118867af11",
   "metadata": {},
   "outputs": [],
   "source": [
    "class Order:  # context\n",
    "    \n",
    "    def __init__(self, customer, cart, promotion=None):\n",
    "        self.customer = customer\n",
    "        self.cart = list(cart)\n",
    "        self.promotion = promotion\n",
    "    \n",
    "    def total(self):\n",
    "        if not hasattr(self, '__total'):\n",
    "            self.__total = sum(item.total() for item in self.cart)\n",
    "        return self.__total\n",
    "    \n",
    "    def due(self):\n",
    "        if self.promotion is None:\n",
    "            discount = 0\n",
    "        else:\n",
    "            discount = self.promotion.discount(self)\n",
    "        return self.total() - discount\n",
    "    \n",
    "    def __repr__(self):\n",
    "        fmt = '<Order total: {:.2f} due: {:.2f}>'\n",
    "        return fmt.format(self.total(), self.due())"
   ]
  },
  {
   "cell_type": "code",
   "execution_count": 5,
   "id": "0d036e7e-e8db-4f78-91f2-8b4abc6346b0",
   "metadata": {},
   "outputs": [],
   "source": [
    "class Promotion(ABC):  # the Strategy: an abstract base class\n",
    "    \n",
    "    @abstractmethod\n",
    "    def discount(self, order):\n",
    "        \"\"\"Return discount as a positive dollar amount\"\"\""
   ]
  },
  {
   "cell_type": "code",
   "execution_count": 6,
   "id": "7c38ee74-5632-4820-b85e-37ed2152af69",
   "metadata": {},
   "outputs": [],
   "source": [
    "class FidelityPromo(Promotion):  # First Concrete Strategy\n",
    "    \"\"\"5% discount for customers with 1000 or more fidelity points\"\"\"\n",
    "\n",
    "    def discount(self, order):\n",
    "        return order.total() * .05 if order.customer.fidelity >= 1000 else 0"
   ]
  },
  {
   "cell_type": "code",
   "execution_count": 7,
   "id": "166516d2-346a-4f24-8cae-41609ab8281c",
   "metadata": {},
   "outputs": [],
   "source": [
    "class BulkItemPromo(Promotion): # second Concrete Strategy\n",
    "    \"\"\"10% discount for each LineItem with 20 or more units\"\"\"\n",
    "    \n",
    "    def discount(self, order):\n",
    "        discount = 0\n",
    "        for item in order.cart:\n",
    "            if item.quantity >= 20:\n",
    "                discount += item.total() * .1\n",
    "        return discount"
   ]
  },
  {
   "cell_type": "code",
   "execution_count": 8,
   "id": "869f9dbe-2d06-46b5-a6d9-c314e83cf16e",
   "metadata": {},
   "outputs": [],
   "source": [
    "class LargeOrderPromo(Promotion): # third Concrete Strategy\n",
    "    \"\"\"7% discount for orders with 10 or more distinct items\"\"\"\n",
    "    \n",
    "    def discount(self, order):\n",
    "        distinct_items = {item.product for item in order.cart}\n",
    "        if len(distinct_items) >= 10:\n",
    "            return order.total() * .07\n",
    "        return 0"
   ]
  },
  {
   "cell_type": "code",
   "execution_count": 9,
   "id": "05c8abfc-06be-472c-acf2-8cd92a4c19e6",
   "metadata": {},
   "outputs": [],
   "source": [
    "joe = Customer('John Doe', 0)\n",
    "ann = Customer('Ann Smith', 1100)\n",
    "cart = [\n",
    "    LineItem('banana', 4, .5),\n",
    "    LineItem('apple', 10, 1.5),\n",
    "    LineItem('watermellon', 5, 5.0)\n",
    "]"
   ]
  },
  {
   "cell_type": "code",
   "execution_count": 10,
   "id": "b93c7cca-6c92-440d-8348-d71b05f7692a",
   "metadata": {},
   "outputs": [
    {
     "data": {
      "text/plain": [
       "<Order total: 42.00 due: 42.00>"
      ]
     },
     "execution_count": 10,
     "metadata": {},
     "output_type": "execute_result"
    }
   ],
   "source": [
    "Order(joe, cart, FidelityPromo())"
   ]
  },
  {
   "cell_type": "code",
   "execution_count": 11,
   "id": "a313f106-10f1-42a2-a8f0-fe920a370abd",
   "metadata": {},
   "outputs": [
    {
     "data": {
      "text/plain": [
       "<Order total: 42.00 due: 39.90>"
      ]
     },
     "execution_count": 11,
     "metadata": {},
     "output_type": "execute_result"
    }
   ],
   "source": [
    "Order(ann, cart, FidelityPromo())"
   ]
  },
  {
   "cell_type": "code",
   "execution_count": 12,
   "id": "c053057c-ab44-43ed-83fe-065f2604c40b",
   "metadata": {},
   "outputs": [],
   "source": [
    "banana_cart = [LineItem('banana', 30, .5),\n",
    "               LineItem('apple', 10, 1.5)]"
   ]
  },
  {
   "cell_type": "code",
   "execution_count": 13,
   "id": "d5b3d286-dd7d-4c84-9869-719fc85033ce",
   "metadata": {},
   "outputs": [
    {
     "data": {
      "text/plain": [
       "<Order total: 30.00 due: 28.50>"
      ]
     },
     "execution_count": 13,
     "metadata": {},
     "output_type": "execute_result"
    }
   ],
   "source": [
    "Order(joe, banana_cart, BulkItemPromo())"
   ]
  },
  {
   "cell_type": "code",
   "execution_count": 14,
   "id": "751024a8-a481-4ddc-b9ec-3f9a17eadddd",
   "metadata": {},
   "outputs": [],
   "source": [
    "long_order = [LineItem(str(item_code), 1, 1.0)\n",
    "    for item_code in range(10)]"
   ]
  },
  {
   "cell_type": "code",
   "execution_count": 15,
   "id": "c8c6b648-b148-4eb0-8bdb-db03b756d574",
   "metadata": {},
   "outputs": [
    {
     "data": {
      "text/plain": [
       "<Order total: 10.00 due: 9.30>"
      ]
     },
     "execution_count": 15,
     "metadata": {},
     "output_type": "execute_result"
    }
   ],
   "source": [
    "Order(joe, long_order, LargeOrderPromo())"
   ]
  },
  {
   "cell_type": "code",
   "execution_count": 16,
   "id": "99b3899f-c9d5-45a7-bfbe-9e18e23d9e04",
   "metadata": {},
   "outputs": [
    {
     "data": {
      "text/plain": [
       "<Order total: 42.00 due: 42.00>"
      ]
     },
     "execution_count": 16,
     "metadata": {},
     "output_type": "execute_result"
    }
   ],
   "source": [
    "Order(joe, cart, LargeOrderPromo())"
   ]
  },
  {
   "cell_type": "markdown",
   "id": "97f5112f-2f44-4ed8-a115-1db59d8fe80c",
   "metadata": {},
   "source": [
    "## Function-Oriented Strategy\n",
    "Each concrete strategy in Example is a class with a single method, discount. Furthermore, the strategy instances have no state (no instance attributes). You could say they look a lot like plain functions, and you would be right."
   ]
  },
  {
   "cell_type": "code",
   "execution_count": 17,
   "id": "c53f0c67-fb4f-42e1-a171-dbb5f549c970",
   "metadata": {},
   "outputs": [],
   "source": [
    "Customer = namedtuple('Customer', 'name fidelity')"
   ]
  },
  {
   "cell_type": "code",
   "execution_count": 18,
   "id": "f1cb6043-2b53-494e-8004-dc00b61d50ec",
   "metadata": {},
   "outputs": [],
   "source": [
    "class LineItem:\n",
    "    def __init__(self, product, quantity, price):\n",
    "        self.product = product\n",
    "        self.quantity = quantity\n",
    "        self.price = price\n",
    "    def total(self):\n",
    "        return self.price * self.quantity"
   ]
  },
  {
   "cell_type": "code",
   "execution_count": 19,
   "id": "768fd640-a200-4b4c-9993-09960e5922bb",
   "metadata": {},
   "outputs": [],
   "source": [
    "class Order: # the Context\n",
    "    def __init__(self, customer, cart, promotion=None):\n",
    "        self.customer = customer\n",
    "        self.cart = list(cart)\n",
    "        self.promotion = promotion\n",
    "    def total(self):\n",
    "        if not hasattr(self, '__total'):\n",
    "            self.__total = sum(item.total() for item in self.cart)\n",
    "        return self.__total\n",
    "    def due(self):\n",
    "        if self.promotion is None:\n",
    "            discount = 0\n",
    "        else:\n",
    "            discount = self.promotion(self)\n",
    "        return self.total() - discount\n",
    "    def __repr__(self):\n",
    "        fmt = '<Order total: {:.2f} due: {:.2f}>'\n",
    "        return fmt.format(self.total(), self.due())"
   ]
  },
  {
   "cell_type": "code",
   "execution_count": 20,
   "id": "24bfefcc-881c-44aa-8d23-ba7b72d800d6",
   "metadata": {},
   "outputs": [],
   "source": [
    "def fidelity_promo(order):\n",
    "    \"\"\"5% discount for customers with 1000 or more fidelity points\"\"\"\n",
    "    return order.total() * .05 if order.customer.fidelity >= 1000 else 0"
   ]
  },
  {
   "cell_type": "code",
   "execution_count": 21,
   "id": "a4feef62-d364-487a-bbbe-6c93a7c78761",
   "metadata": {},
   "outputs": [],
   "source": [
    "def bulk_item_promo(order):\n",
    "    \"\"\"10% discount for each LineItem with 20 or more units\"\"\"\n",
    "    discount = 0\n",
    "    for item in order.cart:\n",
    "        if item.quantity >= 20:\n",
    "            discount += item.total() * .1\n",
    "    return discount"
   ]
  },
  {
   "cell_type": "code",
   "execution_count": 22,
   "id": "0557192c-9eeb-4631-9b80-d405d9fcca76",
   "metadata": {},
   "outputs": [],
   "source": [
    "def large_order_promo(order):\n",
    "    \"\"\"7% discount for orders with 10 or more distinct items\"\"\"\n",
    "    distinct_items = {item.product for item in order.cart}\n",
    "    if len(distinct_items) >= 10:\n",
    "        return order.total() * .07\n",
    "    return 0"
   ]
  },
  {
   "cell_type": "code",
   "execution_count": 23,
   "id": "58dbba14-02ad-4fda-8dc4-7517648a24dc",
   "metadata": {},
   "outputs": [],
   "source": [
    "joe = Customer('John Doe', 0)\n",
    "ann = Customer('Ann Smith', 1100)\n",
    "cart = [LineItem('banana', 4, .5),\n",
    "    LineItem('apple', 10, 1.5),\n",
    "    LineItem('watermellon', 5, 5.0)]"
   ]
  },
  {
   "cell_type": "code",
   "execution_count": 24,
   "id": "d7c18c6f-ad5a-48cb-866c-4983dd6aeed6",
   "metadata": {},
   "outputs": [
    {
     "data": {
      "text/plain": [
       "<Order total: 42.00 due: 42.00>"
      ]
     },
     "execution_count": 24,
     "metadata": {},
     "output_type": "execute_result"
    }
   ],
   "source": [
    "Order(joe, cart, fidelity_promo)"
   ]
  },
  {
   "cell_type": "code",
   "execution_count": 25,
   "id": "1fdb6097-f6e5-4a6e-9ad1-8bcc1744eb4e",
   "metadata": {},
   "outputs": [
    {
     "data": {
      "text/plain": [
       "<Order total: 42.00 due: 39.90>"
      ]
     },
     "execution_count": 25,
     "metadata": {},
     "output_type": "execute_result"
    }
   ],
   "source": [
    "Order(ann, cart, fidelity_promo)"
   ]
  },
  {
   "cell_type": "code",
   "execution_count": 26,
   "id": "347bed41-af73-4b86-9870-a6a4dc8a3114",
   "metadata": {},
   "outputs": [
    {
     "data": {
      "text/plain": [
       "<Order total: 30.00 due: 28.50>"
      ]
     },
     "execution_count": 26,
     "metadata": {},
     "output_type": "execute_result"
    }
   ],
   "source": [
    "banana_cart = [LineItem('banana', 30, .5),\n",
    "    LineItem('apple', 10, 1.5)]\n",
    "Order(joe, banana_cart, bulk_item_promo)"
   ]
  },
  {
   "cell_type": "code",
   "execution_count": 27,
   "id": "efac71d2-5f9f-4952-ad1b-40487f35c7b1",
   "metadata": {},
   "outputs": [
    {
     "data": {
      "text/plain": [
       "<Order total: 10.00 due: 9.30>"
      ]
     },
     "execution_count": 27,
     "metadata": {},
     "output_type": "execute_result"
    }
   ],
   "source": [
    "long_order = [LineItem(str(item_code), 1, 1.0)\n",
    "    for item_code in range(10)]\n",
    "Order(joe, long_order, large_order_promo)"
   ]
  },
  {
   "cell_type": "code",
   "execution_count": 28,
   "id": "36f1b1d0-9949-4aa5-8840-341b721bd65e",
   "metadata": {},
   "outputs": [
    {
     "data": {
      "text/plain": [
       "<Order total: 42.00 due: 42.00>"
      ]
     },
     "execution_count": 28,
     "metadata": {},
     "output_type": "execute_result"
    }
   ],
   "source": [
    "Order(joe, cart, large_order_promo)"
   ]
  },
  {
   "cell_type": "markdown",
   "id": "941079e0-fdec-42db-bc58-a8ceb54b8556",
   "metadata": {},
   "source": [
    "### best_promo finds the maximum discount iterating over a list of functions"
   ]
  },
  {
   "cell_type": "code",
   "execution_count": 29,
   "id": "b0b1e531-089b-4eb3-96e9-71996b046bc7",
   "metadata": {},
   "outputs": [],
   "source": [
    "promos = [fidelity_promo, bulk_item_promo, large_order_promo]"
   ]
  },
  {
   "cell_type": "code",
   "execution_count": 30,
   "id": "1e033a29-8c18-4725-b2ca-e413d9bdc354",
   "metadata": {},
   "outputs": [],
   "source": [
    "def best_promo(order):\n",
    "    \"\"\"Select best discount available\n",
    "    \"\"\"\n",
    "    return max(promo(order) for promo in promos)"
   ]
  },
  {
   "cell_type": "markdown",
   "id": "22726501-1218-41b1-abdb-0b695d2bbb4b",
   "metadata": {},
   "source": [
    "### Finding Strategies in a Module\n",
    "Modules in Python are also first-class objects, and the standard library provides several functions to handle them."
   ]
  },
  {
   "cell_type": "code",
   "execution_count": 31,
   "id": "d71a1474-a790-4ba2-bbfd-ac3e07b8766a",
   "metadata": {},
   "outputs": [],
   "source": [
    "promos = [globals()[name] for name in globals()\n",
    "    if name.endswith('_promo')\n",
    "    and name != 'best_promo']"
   ]
  },
  {
   "cell_type": "code",
   "execution_count": 32,
   "id": "93192e22-bf5a-4a6e-b45b-9232c2ca0b1f",
   "metadata": {},
   "outputs": [],
   "source": [
    "def best_promo(order):\n",
    "    \"\"\"Select best discount available\n",
    "    \"\"\"\n",
    "    return max(promo(order) for promo in promos)"
   ]
  },
  {
   "cell_type": "markdown",
   "id": "993e6ce5-5ddd-4d78-a236-06db4ef2d79f",
   "metadata": {},
   "source": [
    "### The promos list is built by introspection of a new promotions module\n",
    "Another way of collecting the available promotions would be to create a module and put all the strategy functions there, except for best_promo."
   ]
  },
  {
   "cell_type": "code",
   "execution_count": 33,
   "id": "8958fc65-df39-4d76-b95a-ca015f453ef6",
   "metadata": {},
   "outputs": [],
   "source": [
    "# promos = [func for name, func in\n",
    "#           inspect.getmembers(promotions, inspect.isfunction)]"
   ]
  },
  {
   "cell_type": "code",
   "execution_count": 34,
   "id": "e64f3981-627c-49e0-8fa6-0488c0b429b3",
   "metadata": {},
   "outputs": [],
   "source": [
    "# def best_promo(order):\n",
    "#     \"\"\"Select best discount available\n",
    "#     \"\"\"\n",
    "#     return max(promo(order) for promo in promos)"
   ]
  }
 ],
 "metadata": {
  "kernelspec": {
   "display_name": "Python 3 (ipykernel)",
   "language": "python",
   "name": "python3"
  },
  "language_info": {
   "codemirror_mode": {
    "name": "ipython",
    "version": 3
   },
   "file_extension": ".py",
   "mimetype": "text/x-python",
   "name": "python",
   "nbconvert_exporter": "python",
   "pygments_lexer": "ipython3",
   "version": "3.8.12"
  }
 },
 "nbformat": 4,
 "nbformat_minor": 5
}
