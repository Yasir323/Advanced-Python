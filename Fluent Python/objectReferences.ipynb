{
 "cells": [
  {
   "cell_type": "code",
   "execution_count": 1,
   "id": "9176d509-f18c-4627-8c87-06d55e481214",
   "metadata": {},
   "outputs": [],
   "source": [
    "import copy\n",
    "import weakref"
   ]
  },
  {
   "cell_type": "markdown",
   "id": "84d817a2-3788-4992-8c4f-835fd95c529b",
   "metadata": {},
   "source": [
    "### Variables are assigned to objects only after the objects are created"
   ]
  },
  {
   "cell_type": "code",
   "execution_count": 2,
   "id": "54344d68-94e9-4bb8-a1ad-38d6d7ab0ad6",
   "metadata": {},
   "outputs": [],
   "source": [
    "class Gizmo:\n",
    "    def __init__(self):\n",
    "        print(\"Gizmo id: {}\".format(id(self)))"
   ]
  },
  {
   "cell_type": "code",
   "execution_count": 3,
   "id": "23bb8700-fc9c-4e29-baf5-14726435ae02",
   "metadata": {},
   "outputs": [
    {
     "name": "stdout",
     "output_type": "stream",
     "text": [
      "Gizmo id: 1551333151456\n"
     ]
    }
   ],
   "source": [
    "x = Gizmo()"
   ]
  },
  {
   "cell_type": "code",
   "execution_count": 4,
   "id": "6574b568-c80a-4608-a1cf-8e6434a3eff5",
   "metadata": {},
   "outputs": [],
   "source": [
    "# The second Gizmo is actually instantiated before the\n",
    "# multiplication is attempted.\n",
    "# y = Gizmo() * 10"
   ]
  },
  {
   "cell_type": "code",
   "execution_count": 5,
   "id": "6ea9aeb3-cc84-4260-a844-a3409be9d0b9",
   "metadata": {},
   "outputs": [
    {
     "data": {
      "text/plain": [
       "['Gizmo',\n",
       " 'In',\n",
       " 'Out',\n",
       " '_',\n",
       " '__',\n",
       " '___',\n",
       " '__builtin__',\n",
       " '__builtins__',\n",
       " '__doc__',\n",
       " '__loader__',\n",
       " '__name__',\n",
       " '__package__',\n",
       " '__spec__',\n",
       " '_dh',\n",
       " '_i',\n",
       " '_i1',\n",
       " '_i2',\n",
       " '_i3',\n",
       " '_i4',\n",
       " '_i5',\n",
       " '_ih',\n",
       " '_ii',\n",
       " '_iii',\n",
       " '_oh',\n",
       " 'copy',\n",
       " 'exit',\n",
       " 'get_ipython',\n",
       " 'quit',\n",
       " 'weakref',\n",
       " 'x']"
      ]
     },
     "execution_count": 5,
     "metadata": {},
     "output_type": "execute_result"
    }
   ],
   "source": [
    "dir()"
   ]
  },
  {
   "cell_type": "markdown",
   "id": "dc804cf7-8348-4106-955e-b6b265fd2dc6",
   "metadata": {},
   "source": [
    "But variable y was never created, because the exception happened while the righthand side of the assignment was being evaluated."
   ]
  },
  {
   "cell_type": "markdown",
   "id": "218518f2-8023-47de-99df-8a995050000b",
   "metadata": {},
   "source": [
    "## Identity, Equality, and Aliases"
   ]
  },
  {
   "cell_type": "code",
   "execution_count": 6,
   "id": "65bb0d82-52b4-4c85-b966-928fac0cab6f",
   "metadata": {},
   "outputs": [
    {
     "data": {
      "text/plain": [
       "True"
      ]
     },
     "execution_count": 6,
     "metadata": {},
     "output_type": "execute_result"
    }
   ],
   "source": [
    "charles = {'name': 'Charles L. Dodgson', 'born': 1832}\n",
    "lewis = charles  # lewis is an alias for charles\n",
    "lewis is charles"
   ]
  },
  {
   "cell_type": "code",
   "execution_count": 7,
   "id": "fec61519-b992-4c5c-b706-1cfea8381850",
   "metadata": {},
   "outputs": [
    {
     "data": {
      "text/plain": [
       "True"
      ]
     },
     "execution_count": 7,
     "metadata": {},
     "output_type": "execute_result"
    }
   ],
   "source": [
    "id(lewis) == id(charles)"
   ]
  },
  {
   "cell_type": "code",
   "execution_count": 8,
   "id": "931cc4f3-070f-41bb-a219-aacf341d3d27",
   "metadata": {},
   "outputs": [
    {
     "data": {
      "text/plain": [
       "{'name': 'Charles L. Dodgson', 'born': 1832, 'balance': 950}"
      ]
     },
     "execution_count": 8,
     "metadata": {},
     "output_type": "execute_result"
    }
   ],
   "source": [
    "lewis['balance'] = 950\n",
    "lewis"
   ]
  },
  {
   "cell_type": "code",
   "execution_count": 9,
   "id": "b700f27e-48a7-4002-b7fe-0a1a9b34622b",
   "metadata": {},
   "outputs": [
    {
     "data": {
      "text/plain": [
       "{'name': 'Charles L. Dodgson', 'born': 1832, 'balance': 950}"
      ]
     },
     "execution_count": 9,
     "metadata": {},
     "output_type": "execute_result"
    }
   ],
   "source": [
    "charles"
   ]
  },
  {
   "cell_type": "markdown",
   "id": "7ef0e0ec-1477-4bcc-a98a-93f0c23c258c",
   "metadata": {},
   "source": [
    "### alex and charles compare equal, but alex is not charles"
   ]
  },
  {
   "cell_type": "code",
   "execution_count": 10,
   "id": "ba3d765b-4795-445e-a2f5-2b67fbb5b5b8",
   "metadata": {},
   "outputs": [
    {
     "data": {
      "text/plain": [
       "True"
      ]
     },
     "execution_count": 10,
     "metadata": {},
     "output_type": "execute_result"
    }
   ],
   "source": [
    "alex = {'name': 'Charles L. Dodgson', 'born': 1832, 'balance': 950}\n",
    "alex == charles"
   ]
  },
  {
   "cell_type": "code",
   "execution_count": 11,
   "id": "e474d925-264a-41ae-9527-0e84a1a03a07",
   "metadata": {},
   "outputs": [
    {
     "data": {
      "text/plain": [
       "False"
      ]
     },
     "execution_count": 11,
     "metadata": {},
     "output_type": "execute_result"
    }
   ],
   "source": [
    "alex is charles"
   ]
  },
  {
   "cell_type": "code",
   "execution_count": 12,
   "id": "ccce84e0-5916-486e-acf7-da47f521decc",
   "metadata": {},
   "outputs": [
    {
     "data": {
      "text/plain": [
       "(1551333240640, 1551333155200)"
      ]
     },
     "execution_count": 12,
     "metadata": {},
     "output_type": "execute_result"
    }
   ],
   "source": [
    "id(alex), id(charles)"
   ]
  },
  {
   "cell_type": "markdown",
   "id": "ed8880a6-2ae8-4a1b-9aa1-f40a44247038",
   "metadata": {},
   "source": [
    "## The Relative Immutability of Tuples"
   ]
  },
  {
   "cell_type": "code",
   "execution_count": 13,
   "id": "723929ee-c360-4036-8a13-e67966b8e5c6",
   "metadata": {},
   "outputs": [],
   "source": [
    "t1 = (1, 2, [30, 40])\n",
    "t2 = (1, 2, [30, 40])"
   ]
  },
  {
   "cell_type": "code",
   "execution_count": 14,
   "id": "f2b8a6c1-6e42-4b77-8708-0cc9503751e8",
   "metadata": {},
   "outputs": [
    {
     "data": {
      "text/plain": [
       "True"
      ]
     },
     "execution_count": 14,
     "metadata": {},
     "output_type": "execute_result"
    }
   ],
   "source": [
    "t1 == t2"
   ]
  },
  {
   "cell_type": "code",
   "execution_count": 15,
   "id": "327e85fa-8e52-4228-b59b-aeb2a628764f",
   "metadata": {},
   "outputs": [
    {
     "data": {
      "text/plain": [
       "False"
      ]
     },
     "execution_count": 15,
     "metadata": {},
     "output_type": "execute_result"
    }
   ],
   "source": [
    "t1 is t2"
   ]
  },
  {
   "cell_type": "code",
   "execution_count": 16,
   "id": "8eaa9793-c387-41ce-861f-30efa6c5ec9d",
   "metadata": {},
   "outputs": [
    {
     "data": {
      "text/plain": [
       "1551333241280"
      ]
     },
     "execution_count": 16,
     "metadata": {},
     "output_type": "execute_result"
    }
   ],
   "source": [
    "id(t1[-1])"
   ]
  },
  {
   "cell_type": "code",
   "execution_count": 17,
   "id": "32f8d502-cc49-4a3c-8d0a-d3b4b91bdfac",
   "metadata": {},
   "outputs": [],
   "source": [
    "t1[-1].append(99)"
   ]
  },
  {
   "cell_type": "code",
   "execution_count": 18,
   "id": "75052bc6-53c5-4770-b697-fa18811766bd",
   "metadata": {},
   "outputs": [
    {
     "data": {
      "text/plain": [
       "(1, 2, [30, 40, 99])"
      ]
     },
     "execution_count": 18,
     "metadata": {},
     "output_type": "execute_result"
    }
   ],
   "source": [
    "t1"
   ]
  },
  {
   "cell_type": "code",
   "execution_count": 19,
   "id": "d8596ddd-be99-424a-b26b-5607c5cfda4e",
   "metadata": {},
   "outputs": [
    {
     "data": {
      "text/plain": [
       "1551333241280"
      ]
     },
     "execution_count": 19,
     "metadata": {},
     "output_type": "execute_result"
    }
   ],
   "source": [
    "id(t1[-1])  # The identity of t1[-1] has not changed, only its value."
   ]
  },
  {
   "cell_type": "code",
   "execution_count": 20,
   "id": "b512b476-74ed-4a65-a1d3-643f361dc4e5",
   "metadata": {},
   "outputs": [
    {
     "data": {
      "text/plain": [
       "(1, 2, [30, 40])"
      ]
     },
     "execution_count": 20,
     "metadata": {},
     "output_type": "execute_result"
    }
   ],
   "source": [
    "t2"
   ]
  },
  {
   "cell_type": "code",
   "execution_count": 21,
   "id": "cacfa715-af71-47e7-acd1-54b8234323d5",
   "metadata": {},
   "outputs": [
    {
     "data": {
      "text/plain": [
       "False"
      ]
     },
     "execution_count": 21,
     "metadata": {},
     "output_type": "execute_result"
    }
   ],
   "source": [
    "t1 == t2"
   ]
  },
  {
   "cell_type": "markdown",
   "id": "7c14327a-d629-42c2-b4db-1cf8d8ab4527",
   "metadata": {},
   "source": [
    "## Copies Are Shallow by Default"
   ]
  },
  {
   "cell_type": "code",
   "execution_count": 22,
   "id": "da8bc4e0-b726-4c9e-8391-25152038abf9",
   "metadata": {},
   "outputs": [
    {
     "data": {
      "text/plain": [
       "[3, [55, 44], (7, 8, 9)]"
      ]
     },
     "execution_count": 22,
     "metadata": {},
     "output_type": "execute_result"
    }
   ],
   "source": [
    "l1 = [3, [55, 44], (7, 8, 9)]\n",
    "l2 = list(l1)  # l2 is a shallow copy of l1.\n",
    "l2"
   ]
  },
  {
   "cell_type": "code",
   "execution_count": 23,
   "id": "c1ab78f0-f164-4d44-ba64-3f2db0206f8a",
   "metadata": {},
   "outputs": [
    {
     "data": {
      "text/plain": [
       "True"
      ]
     },
     "execution_count": 23,
     "metadata": {},
     "output_type": "execute_result"
    }
   ],
   "source": [
    "l2 == l1"
   ]
  },
  {
   "cell_type": "code",
   "execution_count": 24,
   "id": "485bb0b1-76ac-4eb1-849f-0c8104f45984",
   "metadata": {},
   "outputs": [
    {
     "data": {
      "text/plain": [
       "False"
      ]
     },
     "execution_count": 24,
     "metadata": {},
     "output_type": "execute_result"
    }
   ],
   "source": [
    "l2 is l1"
   ]
  },
  {
   "cell_type": "code",
   "execution_count": 25,
   "id": "bc0326d7-7846-4e29-852d-b83da418f6dd",
   "metadata": {},
   "outputs": [
    {
     "data": {
      "text/plain": [
       "[3, [44, 66], (7, 8, 9), 100]"
      ]
     },
     "execution_count": 25,
     "metadata": {},
     "output_type": "execute_result"
    }
   ],
   "source": [
    "l1.append(100)  # Appending 100 to l1 has no effect on l2\n",
    "l1[1].append(66)\n",
    "l1[1].remove(55)  # Here we remove 55 from the inner list l1[1]. This affects l2 because l2[1] is\n",
    "# bound to the same list as l1[1].\n",
    "l1"
   ]
  },
  {
   "cell_type": "code",
   "execution_count": 26,
   "id": "366cdb72-bb81-4931-8c5c-679ace0968a3",
   "metadata": {},
   "outputs": [
    {
     "data": {
      "text/plain": [
       "[3, [44, 66], (7, 8, 9)]"
      ]
     },
     "execution_count": 26,
     "metadata": {},
     "output_type": "execute_result"
    }
   ],
   "source": [
    "l2"
   ]
  },
  {
   "cell_type": "code",
   "execution_count": 27,
   "id": "79d8568e-c0b8-46a7-85e4-93c22568c69b",
   "metadata": {},
   "outputs": [],
   "source": [
    "# For a mutable object like the list referred by l2[1], the operator += changes the\n",
    "# list in place. This change is visible at l1[1], which is an alias for l2[1].\n",
    "l2[1] += [33, 22]\n",
    "# += on a tuple creates a new tuple and rebinds the variable l2[2] here. This is\n",
    "# the same as doing l2[2] = l2[2] + (10, 11). Now the tuples in the last\n",
    "# position of l1 and l2 are no longer the same object.\n",
    "l2[2] += (10, 11)"
   ]
  },
  {
   "cell_type": "code",
   "execution_count": 28,
   "id": "d792fcce-f153-48f7-834b-8181ee21e3fc",
   "metadata": {},
   "outputs": [
    {
     "data": {
      "text/plain": [
       "[3, [44, 66, 33, 22], (7, 8, 9), 100]"
      ]
     },
     "execution_count": 28,
     "metadata": {},
     "output_type": "execute_result"
    }
   ],
   "source": [
    "l1"
   ]
  },
  {
   "cell_type": "code",
   "execution_count": 29,
   "id": "e9d38509-913f-4a59-9c86-ef2dba2da514",
   "metadata": {},
   "outputs": [
    {
     "data": {
      "text/plain": [
       "[3, [44, 66, 33, 22], (7, 8, 9, 10, 11)]"
      ]
     },
     "execution_count": 29,
     "metadata": {},
     "output_type": "execute_result"
    }
   ],
   "source": [
    "l2"
   ]
  },
  {
   "cell_type": "markdown",
   "id": "c4166bca-664a-4284-9946-1d17018e77ae",
   "metadata": {},
   "source": [
    "## Deep and Shallow Copies of Arbitrary Objects"
   ]
  },
  {
   "cell_type": "code",
   "execution_count": 30,
   "id": "85d638cf-059f-415f-8fa1-d99178ca4b8a",
   "metadata": {},
   "outputs": [],
   "source": [
    "class Bus:\n",
    "    def __init__(self, passengers=None):\n",
    "        if passengers is None:\n",
    "            self.passengers = []\n",
    "        else:\n",
    "            self.passengers = list(passengers)\n",
    "    def pick(self, name):\n",
    "        self.passengers.append(name)\n",
    "    def drop(self, name):\n",
    "        self.passengers.remove(name)"
   ]
  },
  {
   "cell_type": "markdown",
   "id": "f404b1cf-7bb3-4405-8985-a06794da72cc",
   "metadata": {},
   "source": [
    "### Effects of using copy versus deepcopy"
   ]
  },
  {
   "cell_type": "code",
   "execution_count": 31,
   "id": "ddb7b337-4425-40dd-a72f-10db427cd124",
   "metadata": {},
   "outputs": [
    {
     "data": {
      "text/plain": [
       "(1551333460240, 1551333460480, 1551333460624)"
      ]
     },
     "execution_count": 31,
     "metadata": {},
     "output_type": "execute_result"
    }
   ],
   "source": [
    "bus1 = Bus(['Alice', 'Bill', 'Claire', 'David'])\n",
    "bus2 = copy.copy(bus1)\n",
    "bus3 = copy.deepcopy(bus1)\n",
    "id(bus1), id(bus2), id(bus3)"
   ]
  },
  {
   "cell_type": "code",
   "execution_count": 32,
   "id": "224f1106-8319-417f-9e75-94b0508cd3b5",
   "metadata": {},
   "outputs": [
    {
     "data": {
      "text/plain": [
       "['Alice', 'Claire', 'David']"
      ]
     },
     "execution_count": 32,
     "metadata": {},
     "output_type": "execute_result"
    }
   ],
   "source": [
    "bus1.drop('Bill')\n",
    "bus2.passengers"
   ]
  },
  {
   "cell_type": "code",
   "execution_count": 33,
   "id": "ac63a16c-1014-4f0c-99c3-8a9ff736af2d",
   "metadata": {},
   "outputs": [
    {
     "data": {
      "text/plain": [
       "(1551333437312, 1551333437312, 1551333434944)"
      ]
     },
     "execution_count": 33,
     "metadata": {},
     "output_type": "execute_result"
    }
   ],
   "source": [
    "id(bus1.passengers), id(bus2.passengers), id(bus3.passengers)\n",
    "# Inspection of the passengers atributes shows that bus1 and bus2 share the same\n",
    "# list object, because bus2 is a shallow copy of bus1."
   ]
  },
  {
   "cell_type": "code",
   "execution_count": 34,
   "id": "0f9df463-c2bf-41d1-aa11-c7ef76fb8e1d",
   "metadata": {},
   "outputs": [
    {
     "data": {
      "text/plain": [
       "['Alice', 'Bill', 'Claire', 'David']"
      ]
     },
     "execution_count": 34,
     "metadata": {},
     "output_type": "execute_result"
    }
   ],
   "source": [
    "bus3.passengers\n",
    "# bus3 is a deep copy of bus1, so its passengers attribute refers to another list."
   ]
  },
  {
   "cell_type": "markdown",
   "id": "8fbc2e78-b7fd-4cc9-8423-aeedba9842f2",
   "metadata": {},
   "source": [
    "### Cyclic references: b refers to a, and then is appended to a; deepcopy still manages to copy a"
   ]
  },
  {
   "cell_type": "code",
   "execution_count": 35,
   "id": "ab74de0d-3699-4506-9c91-e2297c190e25",
   "metadata": {},
   "outputs": [
    {
     "data": {
      "text/plain": [
       "[10, 20, [[...], 30]]"
      ]
     },
     "execution_count": 35,
     "metadata": {},
     "output_type": "execute_result"
    }
   ],
   "source": [
    "a = [10, 20]\n",
    "b = [a, 30]\n",
    "a.append(b)\n",
    "a"
   ]
  },
  {
   "cell_type": "code",
   "execution_count": 36,
   "id": "94d87006-c194-45c0-90f7-70b8c10bb972",
   "metadata": {},
   "outputs": [
    {
     "data": {
      "text/plain": [
       "[10, 20, [[...], 30]]"
      ]
     },
     "execution_count": 36,
     "metadata": {},
     "output_type": "execute_result"
    }
   ],
   "source": [
    "c = copy.deepcopy(a)\n",
    "c"
   ]
  },
  {
   "cell_type": "markdown",
   "id": "6319285b-76cc-49ac-bbde-602ec8ec5cd9",
   "metadata": {},
   "source": [
    "## Function Parameters as References\n",
    "***The only mode of parameter passing in Python is call by sharing***.\n",
    "\n",
    "### A function may change any mutable object it receives"
   ]
  },
  {
   "cell_type": "code",
   "execution_count": 37,
   "id": "b4f31a40-aa25-4da9-a78b-4cc3f09c068e",
   "metadata": {},
   "outputs": [],
   "source": [
    "def f(a, b):\n",
    "    a += b\n",
    "    return a"
   ]
  },
  {
   "cell_type": "code",
   "execution_count": 38,
   "id": "864acc66-1b3b-4fb5-b8f2-94ef165d7115",
   "metadata": {},
   "outputs": [
    {
     "data": {
      "text/plain": [
       "3"
      ]
     },
     "execution_count": 38,
     "metadata": {},
     "output_type": "execute_result"
    }
   ],
   "source": [
    "x, y = 1, 2\n",
    "f(x, y)"
   ]
  },
  {
   "cell_type": "code",
   "execution_count": 39,
   "id": "5c834205-2728-479c-bf90-a062e124d887",
   "metadata": {},
   "outputs": [
    {
     "data": {
      "text/plain": [
       "(1, 2)"
      ]
     },
     "execution_count": 39,
     "metadata": {},
     "output_type": "execute_result"
    }
   ],
   "source": [
    "x, y"
   ]
  },
  {
   "cell_type": "code",
   "execution_count": 40,
   "id": "6e8adf27-3398-4316-8ea3-d48da6da9b0a",
   "metadata": {},
   "outputs": [
    {
     "data": {
      "text/plain": [
       "[1, 2, 3, 4]"
      ]
     },
     "execution_count": 40,
     "metadata": {},
     "output_type": "execute_result"
    }
   ],
   "source": [
    "a = [1, 2]\n",
    "b = [3, 4]\n",
    "f(a, b)"
   ]
  },
  {
   "cell_type": "code",
   "execution_count": 41,
   "id": "6ab23311-aaaf-41b1-8027-697c92cda156",
   "metadata": {},
   "outputs": [
    {
     "data": {
      "text/plain": [
       "([1, 2, 3, 4], [3, 4])"
      ]
     },
     "execution_count": 41,
     "metadata": {},
     "output_type": "execute_result"
    }
   ],
   "source": [
    "a, b"
   ]
  },
  {
   "cell_type": "code",
   "execution_count": 42,
   "id": "b49117c1-790f-4efd-b419-2c04e6d11493",
   "metadata": {},
   "outputs": [
    {
     "data": {
      "text/plain": [
       "(1, 2, 3, 4)"
      ]
     },
     "execution_count": 42,
     "metadata": {},
     "output_type": "execute_result"
    }
   ],
   "source": [
    "a = (1, 2)\n",
    "b = (3, 4)\n",
    "f(a, b)"
   ]
  },
  {
   "cell_type": "code",
   "execution_count": 43,
   "id": "e1fda321-5343-4414-b5bb-bbcebf9d7dfe",
   "metadata": {},
   "outputs": [
    {
     "data": {
      "text/plain": [
       "((1, 2), (3, 4))"
      ]
     },
     "execution_count": 43,
     "metadata": {},
     "output_type": "execute_result"
    }
   ],
   "source": [
    "a, b"
   ]
  },
  {
   "cell_type": "markdown",
   "id": "86de95f7-ade4-4e72-be73-43d9fc629a0c",
   "metadata": {},
   "source": [
    "## Mutable Types as Parameter Defaults: Bad Idea"
   ]
  },
  {
   "cell_type": "code",
   "execution_count": 44,
   "id": "1d6c7fd1-fb40-4aa9-a1ca-0ce76799262b",
   "metadata": {},
   "outputs": [],
   "source": [
    "class HauntedBus:\n",
    "    \"\"\"A bus model haunted by ghost passengers\"\"\"\n",
    "    def __init__(self, passengers=[]):\n",
    "        self.passengers = passengers\n",
    "    def pick(self, name):\n",
    "        self.passengers.append(name)\n",
    "    def drop(self, name):\n",
    "        self.passengers.remove(name)"
   ]
  },
  {
   "cell_type": "code",
   "execution_count": 45,
   "id": "55570b00-d185-4bcf-8ab8-1118b3ce2eea",
   "metadata": {},
   "outputs": [],
   "source": [
    "bus1 = HauntedBus(['Alice', 'Bill'])"
   ]
  },
  {
   "cell_type": "code",
   "execution_count": 46,
   "id": "0c8608b1-a67d-4075-9fd3-a288d98809a7",
   "metadata": {},
   "outputs": [
    {
     "data": {
      "text/plain": [
       "['Alice', 'Bill']"
      ]
     },
     "execution_count": 46,
     "metadata": {},
     "output_type": "execute_result"
    }
   ],
   "source": [
    "bus1.passengers"
   ]
  },
  {
   "cell_type": "code",
   "execution_count": 47,
   "id": "b4729dc0-ff7a-4535-b975-4df6d0ace4b8",
   "metadata": {},
   "outputs": [
    {
     "data": {
      "text/plain": [
       "['Bill', 'Charlie']"
      ]
     },
     "execution_count": 47,
     "metadata": {},
     "output_type": "execute_result"
    }
   ],
   "source": [
    "bus1.pick(\"Charlie\")\n",
    "bus1.drop(\"Alice\")\n",
    "bus1.passengers"
   ]
  },
  {
   "cell_type": "code",
   "execution_count": 48,
   "id": "c262784c-7530-40f0-bb42-162862ebce93",
   "metadata": {},
   "outputs": [
    {
     "data": {
      "text/plain": [
       "['Carrie']"
      ]
     },
     "execution_count": 48,
     "metadata": {},
     "output_type": "execute_result"
    }
   ],
   "source": [
    "bus2 = HauntedBus()\n",
    "bus2.pick('Carrie')\n",
    "bus2.passengers"
   ]
  },
  {
   "cell_type": "code",
   "execution_count": 49,
   "id": "ee9c317b-b54c-4074-bb1a-0c98d2e8c8c6",
   "metadata": {},
   "outputs": [
    {
     "data": {
      "text/plain": [
       "['Carrie']"
      ]
     },
     "execution_count": 49,
     "metadata": {},
     "output_type": "execute_result"
    }
   ],
   "source": [
    "bus3 = HauntedBus()\n",
    "bus3.passengers"
   ]
  },
  {
   "cell_type": "code",
   "execution_count": 50,
   "id": "76c37d02-b638-4f53-8169-4b2d6a0f1bcd",
   "metadata": {},
   "outputs": [
    {
     "data": {
      "text/plain": [
       "['Carrie', 'Dave']"
      ]
     },
     "execution_count": 50,
     "metadata": {},
     "output_type": "execute_result"
    }
   ],
   "source": [
    "bus3.pick('Dave')\n",
    "bus2.passengers"
   ]
  },
  {
   "cell_type": "code",
   "execution_count": 51,
   "id": "fb1cba04-9629-40b5-a78f-75fd1cf0612b",
   "metadata": {},
   "outputs": [
    {
     "data": {
      "text/plain": [
       "True"
      ]
     },
     "execution_count": 51,
     "metadata": {},
     "output_type": "execute_result"
    }
   ],
   "source": [
    "bus2.passengers is bus3.passengers"
   ]
  },
  {
   "cell_type": "code",
   "execution_count": 52,
   "id": "95df1bee-37b3-4abf-9ab1-20e40d01386d",
   "metadata": {},
   "outputs": [
    {
     "data": {
      "text/plain": [
       "['Bill', 'Charlie']"
      ]
     },
     "execution_count": 52,
     "metadata": {},
     "output_type": "execute_result"
    }
   ],
   "source": [
    "bus1.passengers"
   ]
  },
  {
   "cell_type": "markdown",
   "id": "352f9114-7d48-433e-8987-b05c396c393c",
   "metadata": {},
   "source": [
    "The problem is that Bus instances that don’t get an initial passenger list end up sharing the same passenger list among themselves. When a HauntedBus is instantiated with passengers, it works as expected. Strange things happen only when a HauntedBus starts empty, because then self.passengers becomes an alias for the default value of the passengers parameter. ***The problem is that each default value is evaluated when the function is defined—i.e., usually when the module is loaded—and the default values become attributes of the function object***. So if a default value is a mutable object, and you change it, the change will affect every future call of the function."
   ]
  },
  {
   "cell_type": "code",
   "execution_count": 53,
   "id": "d94efcfb-6457-4e5d-a3bd-36225ca9b054",
   "metadata": {},
   "outputs": [
    {
     "data": {
      "text/plain": [
       "['__annotations__',\n",
       " '__call__',\n",
       " '__class__',\n",
       " '__closure__',\n",
       " '__code__',\n",
       " '__defaults__',\n",
       " '__delattr__',\n",
       " '__dict__',\n",
       " '__dir__',\n",
       " '__doc__',\n",
       " '__eq__',\n",
       " '__format__',\n",
       " '__ge__',\n",
       " '__get__',\n",
       " '__getattribute__',\n",
       " '__globals__',\n",
       " '__gt__',\n",
       " '__hash__',\n",
       " '__init__',\n",
       " '__init_subclass__',\n",
       " '__kwdefaults__',\n",
       " '__le__',\n",
       " '__lt__',\n",
       " '__module__',\n",
       " '__name__',\n",
       " '__ne__',\n",
       " '__new__',\n",
       " '__qualname__',\n",
       " '__reduce__',\n",
       " '__reduce_ex__',\n",
       " '__repr__',\n",
       " '__setattr__',\n",
       " '__sizeof__',\n",
       " '__str__',\n",
       " '__subclasshook__']"
      ]
     },
     "execution_count": 53,
     "metadata": {},
     "output_type": "execute_result"
    }
   ],
   "source": [
    "dir(HauntedBus.__init__) # doctest: +ELLIPSIS"
   ]
  },
  {
   "cell_type": "code",
   "execution_count": 54,
   "id": "6ce5307e-0d2d-47ed-9f24-d1075ac28b91",
   "metadata": {},
   "outputs": [
    {
     "data": {
      "text/plain": [
       "(['Carrie', 'Dave'],)"
      ]
     },
     "execution_count": 54,
     "metadata": {},
     "output_type": "execute_result"
    }
   ],
   "source": [
    "HauntedBus.__init__.__defaults__"
   ]
  },
  {
   "cell_type": "code",
   "execution_count": 55,
   "id": "61c6073e-0411-4b34-b38b-597aecc40859",
   "metadata": {},
   "outputs": [
    {
     "data": {
      "text/plain": [
       "True"
      ]
     },
     "execution_count": 55,
     "metadata": {},
     "output_type": "execute_result"
    }
   ],
   "source": [
    "HauntedBus.__init__.__defaults__[0] is bus2.passengers"
   ]
  },
  {
   "cell_type": "markdown",
   "id": "4e816304-14e1-4efd-8125-49adbb79e34b",
   "metadata": {},
   "source": [
    "## Defensive Programming with Mutable Parameters"
   ]
  },
  {
   "cell_type": "markdown",
   "id": "36b73589-48e1-413a-b71a-9b08d3424661",
   "metadata": {},
   "source": [
    "### Passengers disappear when dropped by a TwilightBus"
   ]
  },
  {
   "cell_type": "code",
   "execution_count": 56,
   "id": "b433bc47-7529-43e2-a3c3-b681a3fce5ef",
   "metadata": {},
   "outputs": [],
   "source": [
    "class TwilightBus:\n",
    "    \"\"\"A bus model that makes passengers vanish\"\"\"\n",
    "    def __init__(self, passengers=None):\n",
    "        if passengers is None:\n",
    "            self.passengers = []\n",
    "        else:\n",
    "            self.passengers = passengers\n",
    "    def pick(self, name):\n",
    "        self.passengers.append(name)\n",
    "    def drop(self, name):\n",
    "        self.passengers.remove(name)"
   ]
  },
  {
   "cell_type": "code",
   "execution_count": 57,
   "id": "4a1648ca-4d79-411c-80dd-deda01411143",
   "metadata": {},
   "outputs": [
    {
     "data": {
      "text/plain": [
       "['Sue', 'Maya', 'Diana']"
      ]
     },
     "execution_count": 57,
     "metadata": {},
     "output_type": "execute_result"
    }
   ],
   "source": [
    "basketball_team = ['Sue', 'Tina', 'Maya', 'Diana', 'Pat']\n",
    "bus = TwilightBus(basketball_team)\n",
    "bus.drop('Tina')\n",
    "bus.drop('Pat')\n",
    "basketball_team"
   ]
  },
  {
   "cell_type": "markdown",
   "id": "19f5ffcd-7bb9-44eb-a9d1-78dd6c885b96",
   "metadata": {},
   "source": [
    "The assignment `self.passengers = passengers` makes `self.passengers`an alias for `passengers`, which is itself an alias for the actual argument passed to `__init__` (i.e., `basket\n",
    "ball_team`).\n",
    "\n",
    "When the methods `.remove()` and `.append()` are used with `self.passengers`, we are actually mutating the original list received as argument to the constructor.\n",
    "\n",
    "The solution is to change the assignment to `self.passengers = list(passengers)`."
   ]
  },
  {
   "cell_type": "markdown",
   "id": "2a8a6235-5146-4103-85c4-10549e57f401",
   "metadata": {},
   "source": [
    "## del and Garbage Collection\n",
    "### Watching the end of an object when no more references point to it"
   ]
  },
  {
   "cell_type": "code",
   "execution_count": 58,
   "id": "8fc638f3-5ab7-4c63-8eb3-1e22ba3dfab4",
   "metadata": {},
   "outputs": [],
   "source": [
    "s1 = {1, 2, 3}\n",
    "s2 = s1"
   ]
  },
  {
   "cell_type": "code",
   "execution_count": 59,
   "id": "147e7615-5121-4218-bdc5-0e95e9e43c01",
   "metadata": {},
   "outputs": [],
   "source": [
    "def bye():\n",
    "    print('Gone with the wind...')"
   ]
  },
  {
   "cell_type": "code",
   "execution_count": 60,
   "id": "4677d98c-d7cc-4ad4-b01d-cd4b0aced9c8",
   "metadata": {},
   "outputs": [],
   "source": [
    "ender = weakref.finalize(s1, bye)"
   ]
  },
  {
   "cell_type": "code",
   "execution_count": 61,
   "id": "2d6d8690-f683-4217-8d27-44ff471cab57",
   "metadata": {},
   "outputs": [
    {
     "data": {
      "text/plain": [
       "True"
      ]
     },
     "execution_count": 61,
     "metadata": {},
     "output_type": "execute_result"
    }
   ],
   "source": [
    "ender.alive"
   ]
  },
  {
   "cell_type": "code",
   "execution_count": 62,
   "id": "ee974e74-db5d-40eb-b847-ac2b5ab54dfc",
   "metadata": {},
   "outputs": [
    {
     "data": {
      "text/plain": [
       "True"
      ]
     },
     "execution_count": 62,
     "metadata": {},
     "output_type": "execute_result"
    }
   ],
   "source": [
    "del s1\n",
    "ender.alive"
   ]
  },
  {
   "cell_type": "code",
   "execution_count": 63,
   "id": "e38683e0-86bc-4cdd-8630-8732cb94cfaa",
   "metadata": {},
   "outputs": [
    {
     "name": "stdout",
     "output_type": "stream",
     "text": [
      "Gone with the wind...\n"
     ]
    },
    {
     "data": {
      "text/plain": [
       "False"
      ]
     },
     "execution_count": 63,
     "metadata": {},
     "output_type": "execute_result"
    }
   ],
   "source": [
    "# s2 still references {1,2,3}\n",
    "s2 = 'spam'\n",
    "ender.alive"
   ]
  },
  {
   "cell_type": "markdown",
   "id": "3e7211d2-0d59-4ad6-93f0-8f6e7c05d847",
   "metadata": {},
   "source": [
    "## Weak References\n",
    "The presence of references is what keeps an object alive in memory. ***When the reference count of an object reaches zero, the garbage collector disposes of it***. But sometimes it is useful to have a reference to an object that does not keep it around longer than necessary. A common use case is a cache.\n",
    "\n",
    "***Weak references to an object do not increase its reference count. The object that is the target of a reference is called the referent***. Therefore, we say that a weak reference does not prevent the referent from being garbage collected."
   ]
  },
  {
   "cell_type": "code",
   "execution_count": 64,
   "id": "1220d962-dbdb-44aa-9fb9-70f2355f13be",
   "metadata": {},
   "outputs": [
    {
     "data": {
      "text/plain": [
       "<weakref at 0x0000016932B014F0; to 'set' at 0x000001693294DF20>"
      ]
     },
     "execution_count": 64,
     "metadata": {},
     "output_type": "execute_result"
    }
   ],
   "source": [
    "a_set = {0,1}\n",
    "wref = weakref.ref(a_set)\n",
    "wref"
   ]
  },
  {
   "cell_type": "code",
   "execution_count": 65,
   "id": "c3fbb74f-bf6f-4e5e-84fc-710f2db99e6d",
   "metadata": {},
   "outputs": [
    {
     "data": {
      "text/plain": [
       "{0, 1}"
      ]
     },
     "execution_count": 65,
     "metadata": {},
     "output_type": "execute_result"
    }
   ],
   "source": [
    "wref()"
   ]
  },
  {
   "cell_type": "code",
   "execution_count": 66,
   "id": "2cbea7c8-9ffa-4622-8076-be61e184dba8",
   "metadata": {},
   "outputs": [
    {
     "data": {
      "text/plain": [
       "{0, 1}"
      ]
     },
     "execution_count": 66,
     "metadata": {},
     "output_type": "execute_result"
    }
   ],
   "source": [
    "a_set = {2,3,4}\n",
    "wref()"
   ]
  },
  {
   "cell_type": "code",
   "execution_count": 67,
   "id": "1c7f6e43-6bfa-470f-bd18-30e347707284",
   "metadata": {},
   "outputs": [
    {
     "data": {
      "text/plain": [
       "False"
      ]
     },
     "execution_count": 67,
     "metadata": {},
     "output_type": "execute_result"
    }
   ],
   "source": [
    "wref() is None\n",
    "# When this expression is evaluated, {0, 1} lives, therefore wref() is not None.\n",
    "# But _ is then bound to the resulting value, False. Now there are no more strong\n",
    "# references to {0, 1}."
   ]
  },
  {
   "cell_type": "code",
   "execution_count": 68,
   "id": "b91bb8d8-b01a-4c23-b7d7-715741d01968",
   "metadata": {},
   "outputs": [
    {
     "data": {
      "text/plain": [
       "False"
      ]
     },
     "execution_count": 68,
     "metadata": {},
     "output_type": "execute_result"
    }
   ],
   "source": [
    "wref() is None  # the result should be true\n",
    "# Because the {0, 1} object is now gone, this last call to wref() returns None."
   ]
  },
  {
   "cell_type": "markdown",
   "id": "7044afef-7d8a-49ec-9495-0b2bb5805bf0",
   "metadata": {},
   "source": [
    "## The WeakValueDictionary Skit"
   ]
  },
  {
   "cell_type": "code",
   "execution_count": 69,
   "id": "44badce1-1674-4760-a60b-b62aeb866401",
   "metadata": {},
   "outputs": [],
   "source": [
    "class Cheese:\n",
    "    def __init__(self, kind):\n",
    "        self.kind = kind\n",
    "    def __repr__(self):\n",
    "        return 'Cheese(%r)' % self.kind"
   ]
  },
  {
   "cell_type": "code",
   "execution_count": 70,
   "id": "3e0910bf-31bf-4a37-909d-a892416c7246",
   "metadata": {},
   "outputs": [],
   "source": [
    "stock = weakref.WeakValueDictionary()\n",
    "catalog = [Cheese('Red Leicester'), Cheese('Tilsit'),\n",
    "    Cheese('Brie'), Cheese('Parmesan')]"
   ]
  },
  {
   "cell_type": "code",
   "execution_count": 71,
   "id": "b682647e-8fdf-4cd9-ab8b-3cb3b6c4d278",
   "metadata": {},
   "outputs": [],
   "source": [
    "for cheese in catalog:\n",
    "    stock[cheese.kind] = cheese"
   ]
  },
  {
   "cell_type": "code",
   "execution_count": 72,
   "id": "d3970a01-3243-4f87-a409-8cfa89edc042",
   "metadata": {},
   "outputs": [
    {
     "data": {
      "text/plain": [
       "['Brie', 'Parmesan', 'Red Leicester', 'Tilsit']"
      ]
     },
     "execution_count": 72,
     "metadata": {},
     "output_type": "execute_result"
    }
   ],
   "source": [
    "sorted(stock.keys())"
   ]
  },
  {
   "cell_type": "code",
   "execution_count": 73,
   "id": "9def43a8-5067-4d7a-9e06-e9790a9aa480",
   "metadata": {},
   "outputs": [
    {
     "data": {
      "text/plain": [
       "['Parmesan']"
      ]
     },
     "execution_count": 73,
     "metadata": {},
     "output_type": "execute_result"
    }
   ],
   "source": [
    "del catalog\n",
    "sorted(stock.keys())"
   ]
  },
  {
   "cell_type": "code",
   "execution_count": 74,
   "id": "4c5bc6d9-6c6c-40fa-bb10-f24059dd50d1",
   "metadata": {},
   "outputs": [
    {
     "data": {
      "text/plain": [
       "[]"
      ]
     },
     "execution_count": 74,
     "metadata": {},
     "output_type": "execute_result"
    }
   ],
   "source": [
    "del cheese\n",
    "sorted(stock.keys())"
   ]
  },
  {
   "cell_type": "markdown",
   "id": "137cd366-b38e-416d-b9df-e50d9be9ad1b",
   "metadata": {},
   "source": [
    "### A tuple built from another is actually the same exact tuple"
   ]
  },
  {
   "cell_type": "code",
   "execution_count": 75,
   "id": "95234525-a1c7-4a54-8aac-4263555e32d7",
   "metadata": {},
   "outputs": [
    {
     "name": "stdout",
     "output_type": "stream",
     "text": [
      "True\n",
      "True\n"
     ]
    }
   ],
   "source": [
    "t1 = (1, 2, 3)\n",
    "t2 = tuple(t1)\n",
    "print(t2 is t1)\n",
    "t3 = t1[:]\n",
    "print(t3 is t1)"
   ]
  },
  {
   "cell_type": "markdown",
   "id": "371f8a8e-75c6-4f65-b25d-fbaf1f1ccceb",
   "metadata": {},
   "source": [
    "### String literals may create shared objects"
   ]
  },
  {
   "cell_type": "code",
   "execution_count": 76,
   "id": "859c851f-441c-49d8-a773-e29190601245",
   "metadata": {},
   "outputs": [
    {
     "name": "stdout",
     "output_type": "stream",
     "text": [
      "False\n",
      "True\n"
     ]
    }
   ],
   "source": [
    "t1 = (1, 2, 3)\n",
    "t3 = (1, 2, 3) #\n",
    "print(t3 is t1) #\n",
    "s1 = 'ABC'\n",
    "s2 = 'ABC' #\n",
    "print(s2 is s1)"
   ]
  }
 ],
 "metadata": {
  "kernelspec": {
   "display_name": "Python 3 (ipykernel)",
   "language": "python",
   "name": "python3"
  },
  "language_info": {
   "codemirror_mode": {
    "name": "ipython",
    "version": 3
   },
   "file_extension": ".py",
   "mimetype": "text/x-python",
   "name": "python",
   "nbconvert_exporter": "python",
   "pygments_lexer": "ipython3",
   "version": "3.10.4"
  }
 },
 "nbformat": 4,
 "nbformat_minor": 5
}
