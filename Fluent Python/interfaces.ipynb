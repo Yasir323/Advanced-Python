{
 "cells": [
  {
   "cell_type": "code",
   "execution_count": 1,
   "id": "0388e09a-b8fe-4148-90a5-2ca2fe8d5dcf",
   "metadata": {},
   "outputs": [],
   "source": [
    "import abc\n",
    "import collections\n",
    "from collections.abc import Sized\n",
    "from random import shuffle\n",
    "import random"
   ]
  },
  {
   "cell_type": "markdown",
   "id": "ffc1df82-9609-43ee-a9ba-4b328a12c732",
   "metadata": {
    "tags": []
   },
   "source": [
    "## Interfaces and Protocols in Python Culture\n",
    "\n",
    "***Protocols** are defined as the informal interfaces that make polymorphism work in languages with dynamic typing\n",
    "like Python*.\n",
    "\n",
    "How do interfaces work in a dynamic-typed language? First, the basics: even without an interface keyword in the anguage, and regardless of ABCs, every class has an interface: the set public attributes (methods or data attributes) implemented or inherited by the class. This includes special methods, like `__getitem__` or `__add__`.\n",
    "\n",
    "By definition, protected and private attributes are not part of an interface, even if “protected” is merely a naming convention and private attributes are easily accessed.\n",
    "\n",
    "On the other hand, it’s not a sin to have public data attributes as part of the interface of an object, because—if necessary—a data attribute can always be turned into a property implementing `getter`/`setter` logic without breaking client code that uses the plain `obj.attr` syntax.\n",
    "\n",
    "A useful complementary definition of **interface** is: *the subset of an object’s public methods that enable it to play a specific role in the system*.\n",
    "\n",
    "Protocols are interfaces, but because they are informal—defined only by documentation and conventions—protocols cannot be enforced like formal interfaces can. A protocol may be partially implemented in a particular class, and that’s OK.\n",
    "\n",
    "## Python Digs Sequences\n",
    "\n",
    "Now, take a look at the Foo class in Example 11-3. It does not inherit from `abc.Sequence`, and it only implements one method of the sequence protocol: `__getitem__` (`__len__` is missing)."
   ]
  },
  {
   "cell_type": "code",
   "execution_count": 2,
   "id": "cb2520a2-0b4b-4062-955c-5a6a388aebbe",
   "metadata": {},
   "outputs": [],
   "source": [
    "class Foo:\n",
    "\n",
    "    def __getitem__(self, pos):\n",
    "        return range(0, 30, 10)[pos]"
   ]
  },
  {
   "cell_type": "code",
   "execution_count": 3,
   "id": "7ffeec00-412c-413d-a3f7-1c2e7e83ada2",
   "metadata": {},
   "outputs": [
    {
     "data": {
      "text/plain": [
       "10"
      ]
     },
     "execution_count": 3,
     "metadata": {},
     "output_type": "execute_result"
    }
   ],
   "source": [
    "f = Foo()\n",
    "f[1]"
   ]
  },
  {
   "cell_type": "code",
   "execution_count": 4,
   "id": "16e6ab0d-c31b-4492-8143-8b1f73d01fe6",
   "metadata": {},
   "outputs": [
    {
     "name": "stdout",
     "output_type": "stream",
     "text": [
      "0\n",
      "10\n",
      "20\n"
     ]
    }
   ],
   "source": [
    "for i in f: print(i)"
   ]
  },
  {
   "cell_type": "code",
   "execution_count": 5,
   "id": "cdfa7c77-965f-49b8-8803-b20978056310",
   "metadata": {},
   "outputs": [
    {
     "data": {
      "text/plain": [
       "True"
      ]
     },
     "execution_count": 5,
     "metadata": {},
     "output_type": "execute_result"
    }
   ],
   "source": [
    "20 in f"
   ]
  },
  {
   "cell_type": "markdown",
   "id": "5e34e5e6-43e9-49e2-b049-fcfcd8c1224f",
   "metadata": {},
   "source": [
    "There is no method `__iter__` yet Foo instances are iterable because—as a fallback—when Python sees a `__getitem__` method, it tries to iterate over the object by calling that method with integer indexes starting with 0. Because Python is smart enough to iterate over Foo instances, it can also make the in operator work even if Foo has no `__contains__` method: it does a full scan to check if an item is present.\n",
    "\n",
    "In summary, given the importance of the sequence protocol, in the absence `__iter__` and `__contains__` Python still manages to make iteration and the in operator work by\n",
    "invoking `__getitem__`.\n",
    "\n",
    "Our original FrenchDeck from Chapter 1 does not subclass from abc.Sequence either, but it does implement both methods of the sequence protocol: `__getitem__` and\n",
    "`__len__`."
   ]
  },
  {
   "cell_type": "code",
   "execution_count": 6,
   "id": "b537aab3-46c2-4c70-a0ac-a717f130fea1",
   "metadata": {},
   "outputs": [],
   "source": [
    "Card = collections.namedtuple('Card', ['rank', 'suit'])"
   ]
  },
  {
   "cell_type": "code",
   "execution_count": 7,
   "id": "44f1b83a-58fd-497c-be7d-1031f1c484fb",
   "metadata": {},
   "outputs": [],
   "source": [
    "class FrenchDeck:\n",
    "    \n",
    "    ranks = [str(n) for n in range(2, 11)] + list('JQKA')\n",
    "    suits = 'spades diamonds clubs hearts'.split()\n",
    "    def __init__(self):\n",
    "        self._cards = [Card(rank, suit) for suit in self.suits\n",
    "                                        for rank in self.ranks]\n",
    "\n",
    "    def __len__(self):\n",
    "        return len(self._cards)\n",
    "\n",
    "    def __getitem__(self, position):\n",
    "        return self._cards[position]"
   ]
  },
  {
   "cell_type": "markdown",
   "id": "9b1897fa-f546-4a45-9c07-00b2789634fa",
   "metadata": {},
   "source": [
    "Iteration in Python represents an extreme form of duck typing: the interpreter tries two different methods to iterate over objects.\n",
    "\n",
    "## Monkey-Patching to Implement a Protocol at Runtime\n",
    "The FrenchDeck class from Example 11-4 has a major flaw: it cannot be shuffled."
   ]
  },
  {
   "cell_type": "code",
   "execution_count": 8,
   "id": "534fe8f7-5cbd-43f1-a74a-291126bfe6b8",
   "metadata": {},
   "outputs": [],
   "source": [
    "l = list(range(10))\n",
    "shuffle(l)"
   ]
  },
  {
   "cell_type": "code",
   "execution_count": 9,
   "id": "5a4b815a-4e04-4a0e-ba46-a3b77845a356",
   "metadata": {},
   "outputs": [
    {
     "data": {
      "text/plain": [
       "[8, 7, 3, 2, 0, 5, 4, 1, 9, 6]"
      ]
     },
     "execution_count": 9,
     "metadata": {},
     "output_type": "execute_result"
    }
   ],
   "source": [
    "l"
   ]
  },
  {
   "cell_type": "code",
   "execution_count": 10,
   "id": "b5b21cf5-56a4-4100-936c-ba2c59110fa1",
   "metadata": {},
   "outputs": [
    {
     "name": "stdout",
     "output_type": "stream",
     "text": [
      "TypeError: 'FrenchDeck' object does not support item assignment\n"
     ]
    }
   ],
   "source": [
    "deck = FrenchDeck()\n",
    "try:\n",
    "    shuffle(deck)\n",
    "except Exception as e:\n",
    "    print(f\"{type(e).__name__}: {str(e)}\")"
   ]
  },
  {
   "cell_type": "markdown",
   "id": "a331d16c-644e-4c59-bd6d-be1e670cda50",
   "metadata": {},
   "source": [
    "The problem is that shuffle operates by swapping items inside the collection, and FrenchDeck only implements the immutable sequence protocol. Mutable sequences must also provide a `__setitem__` method.\n",
    "\n",
    "### Monkey patching FrenchDeck to make it mutable and compatible with `random.shuffle`"
   ]
  },
  {
   "cell_type": "code",
   "execution_count": 11,
   "id": "9516fef7-bfb7-4793-be9c-8341f0f4137d",
   "metadata": {},
   "outputs": [],
   "source": [
    "def set_card(deck, position, card):\n",
    "    deck._cards[position] = card"
   ]
  },
  {
   "cell_type": "code",
   "execution_count": 12,
   "id": "97e628dc-f20a-4256-ba94-06bc7d851845",
   "metadata": {},
   "outputs": [],
   "source": [
    "FrenchDeck.__setitem__ = set_card\n",
    "shuffle(deck)"
   ]
  },
  {
   "cell_type": "code",
   "execution_count": 13,
   "id": "30b26113-026a-4eff-97ac-b0eb60feef8f",
   "metadata": {},
   "outputs": [
    {
     "data": {
      "text/plain": [
       "[Card(rank='Q', suit='spades'),\n",
       " Card(rank='J', suit='clubs'),\n",
       " Card(rank='5', suit='hearts'),\n",
       " Card(rank='5', suit='spades'),\n",
       " Card(rank='6', suit='diamonds')]"
      ]
     },
     "execution_count": 13,
     "metadata": {},
     "output_type": "execute_result"
    }
   ],
   "source": [
    "deck[:5]"
   ]
  },
  {
   "cell_type": "markdown",
   "id": "0f125736-ac90-4cfb-b3b1-ca0f596c6ce1",
   "metadata": {},
   "source": [
    "***Monkey patching:** changing a class or module at runtime, without touching the source code*. Monkey patching is powerful, but the code that does the actual patching is very tightly coupled with the program to be patched, often handling private and undocumented parts.\n",
    "\n",
    "Besides being an example of monkey patching, Example 11-6 highlights that protocols are dynamic: random.shuffle doesn’t care what type of argument it gets, it only needs\n",
    "the object to implement part of the mutable sequence protocol.\n",
    "\n",
    "***Goose typing:** isinstance(obj, cls) is now just fine… as long as cls is an abstract base class—in other words, cls’s metaclass is abc.ABCMeta*.\n",
    "\n",
    "Python’s ABCs add one major practical advantage: the register class method, which lets end-user code “declare” that a certain class becomes a “virtual” subclass of an ABC.\n",
    "\n",
    "Sometimes you don’t even need to register a class for an ABC to recognize it as a subclass!\n",
    "\n",
    "That’s the case for the ABCs whose essence boils down to a few special methods. For example:"
   ]
  },
  {
   "cell_type": "code",
   "execution_count": 14,
   "id": "c9128f33-ec7a-4817-9610-86c3dcb3a80b",
   "metadata": {},
   "outputs": [
    {
     "data": {
      "text/plain": [
       "True"
      ]
     },
     "execution_count": 14,
     "metadata": {},
     "output_type": "execute_result"
    }
   ],
   "source": [
    "class Struggle:\n",
    "    \n",
    "    def __len__(self): return 23\n",
    "\n",
    "\n",
    "isinstance(Struggle(), Sized)"
   ]
  },
  {
   "cell_type": "markdown",
   "id": "d7164d9e-1ca2-4fe0-953c-e8b221898c47",
   "metadata": {},
   "source": [
    "As you see, abc.Sized recognizes Struggle as “a subclass,” with no need for registration, as implementing the special method named __len__ is all it takes."
   ]
  },
  {
   "cell_type": "markdown",
   "id": "37cbd32c-1c65-4dc4-94bc-37022398d8c0",
   "metadata": {},
   "source": [
    "In several classes in this book, when I needed to take a sequence of items and process them as a list, instead of requiring a list argument by type checking, I simply took the argument and immediately built a list from it: that way I can accept any iterable, and if the argument is not iterable, the call will fail soon enough with a very\n",
    "clear message. One example of this code pattern is in the __init__ method in Example 11-13, later in this chapter. Of course, this approach wouldn’t work if the sequence\n",
    "argument shouldn’t be copied, either because it’s too large or because my code needs to change it in place. Then an insinstance(x, abc.MutableSequence) would be better. If any iterable is acceptable, then calling iter(x) to obtain an iterator would be the way to go, as we’ll see in “Why Sequences Are Iterable: The iter Function” on page 404.\n",
    "\n",
    "## Subclassing an ABC"
   ]
  },
  {
   "cell_type": "code",
   "execution_count": 15,
   "id": "6bf25239-1951-4f18-a197-bcc14ebf6bb1",
   "metadata": {},
   "outputs": [],
   "source": [
    "class FrenchDeck2(collections.abc.MutableSequence):\n",
    "\n",
    "    ranks = [str(n) for n in range(2, 11)] + list('JQKA')\n",
    "    suits = 'spades diamonds clubs hearts'.split()\n",
    "    \n",
    "    def __init__(self):\n",
    "        self._cards = [Card(rank, suit) for suit in self.suits\n",
    "                                        for rank in self.ranks]\n",
    "\n",
    "    def __len__(self):\n",
    "        return len(self._cards)\n",
    "\n",
    "    def __getitem__(self, position):\n",
    "        return self._cards[position]\n",
    "\n",
    "    def __setitem__(self, position, value): #\n",
    "        self._cards[position] = value\n",
    "\n",
    "    def __delitem__(self, position): #\n",
    "        del self._cards[position]\n",
    "\n",
    "    def insert(self, position, value): #\n",
    "        self._cards.insert(position, value)"
   ]
  },
  {
   "cell_type": "markdown",
   "id": "2f05c29e-ecf3-4ca9-80ec-d3cfbfa4e5ba",
   "metadata": {},
   "source": [
    "Python does not check for the implementation of the abstract methods at import time (when the frenchdeck2.py module is loaded and compiled), but only at runtime when\n",
    "we actually try to instantiate FrenchDeck2. Then, if we fail to implement any abstract method, we get a TypeError exception with a message such as \"Can't instantiate abstract class FrenchDeck2 with abstract methods `__delitem__`, insert\".\n",
    "\n",
    "## Defining and Using an ABC"
   ]
  },
  {
   "cell_type": "code",
   "execution_count": 16,
   "id": "2caecef7-11f2-48c5-94db-ef4cf01d2233",
   "metadata": {},
   "outputs": [],
   "source": [
    "class Tombola(abc.ABC):\n",
    "\n",
    "    @abc.abstractmethod\n",
    "    def load(self, iterable):\n",
    "        \"\"\"Add items from an iterable.\"\"\"\n",
    "\n",
    "    @abc.abstractmethod\n",
    "    def pick(self):\n",
    "        \"\"\"Remove item at random, returning it.\n",
    "        This method should raise `LookupError` when the instance is empty.\n",
    "        \"\"\"\n",
    "    \n",
    "    def loaded(self):\n",
    "        \"\"\"Return `True` if there's at least 1 item, `False` otherwise.\"\"\"\n",
    "        return bool(self.inspect())\n",
    "\n",
    "    def inspect(self):\n",
    "        \"\"\"Return a sorted tuple with the items currently inside.\"\"\"\n",
    "        items = []\n",
    "        while True:\n",
    "            try:\n",
    "                items.append(self.pick())\n",
    "            except LookupError:\n",
    "                break\n",
    "        self.load(items)\n",
    "        return tuple(sorted(items))"
   ]
  },
  {
   "cell_type": "markdown",
   "id": "37aed27b-483f-4d9a-a1b0-c6f9295b5f49",
   "metadata": {},
   "source": [
    "An ABC may include concrete methods. Concrete methods in an ABC must rely only on the interface defined by the ABC (i.e., other concrete or abstract methods or properties of the ABC).\n",
    "\n",
    "An abstract method can actually have an implementation. Even if it does, subclasses will still be forced to override it, but they will be able to invoke the abstract method with super(), adding functionality to it instead of implementing from scratch.\n",
    "\n",
    "### A fake Tombola doesn’t go undetected"
   ]
  },
  {
   "cell_type": "code",
   "execution_count": 17,
   "id": "4a51b4f6-51ae-4f1b-bc65-c1459e54c1c3",
   "metadata": {},
   "outputs": [],
   "source": [
    "class Fake(Tombola):\n",
    "    \n",
    "    def pick(self):\n",
    "        return 13"
   ]
  },
  {
   "cell_type": "code",
   "execution_count": 18,
   "id": "fe4ec412-e6ca-4c40-94a2-aca6873f161b",
   "metadata": {},
   "outputs": [
    {
     "data": {
      "text/plain": [
       "__main__.Fake"
      ]
     },
     "execution_count": 18,
     "metadata": {},
     "output_type": "execute_result"
    }
   ],
   "source": [
    "Fake"
   ]
  },
  {
   "cell_type": "code",
   "execution_count": 19,
   "id": "2800ddda-b73d-4547-8696-7cee65fa6f84",
   "metadata": {},
   "outputs": [
    {
     "name": "stdout",
     "output_type": "stream",
     "text": [
      "TypeError: Can't instantiate abstract class Fake with abstract methods load\n"
     ]
    }
   ],
   "source": [
    "try:\n",
    "    f = Fake()\n",
    "except Exception as e:\n",
    "    print(f\"{type(e).__name__}: {str(e)}\")"
   ]
  },
  {
   "cell_type": "markdown",
   "id": "d49a40ac-c0c5-4a72-b155-ea1764f97f6d",
   "metadata": {},
   "source": [
    "TypeError is raised when we try to instantiate Fake. The message is very clear: Fake is considered abstract because it failed to implement load, one of the abstract methods declared in the Tombola ABC.\n",
    "\n",
    "***The best way to declare an ABC is to subclass `abc.ABC` or any other ABC.***"
   ]
  },
  {
   "cell_type": "code",
   "execution_count": 20,
   "id": "7b0d9c4a-4332-4c4d-98ee-9b8590725661",
   "metadata": {},
   "outputs": [],
   "source": [
    "# Stacking decorators\n",
    "class MyABC(abc.ABC):\n",
    "    @classmethod\n",
    "    @abc.abstractmethod\n",
    "    def an_abstract_method(cls):\n",
    "        pass"
   ]
  },
  {
   "cell_type": "markdown",
   "id": "29611e9d-d7bb-4bc9-bc3f-80536af3f317",
   "metadata": {},
   "source": [
    "## Subclassing the Tombola ABC"
   ]
  },
  {
   "cell_type": "code",
   "execution_count": 21,
   "id": "67a14982-5484-49d6-ad03-1c3e5d3b1778",
   "metadata": {},
   "outputs": [],
   "source": [
    "class BingoCage(Tombola):\n",
    "    \n",
    "    def __init__(self, items):\n",
    "        self._randomizer = random.SystemRandom()\n",
    "        self._items = []\n",
    "        self.load(items)\n",
    "    \n",
    "    def load(self, items):\n",
    "        self._items.extend(items)\n",
    "        self._randomizer.shuffle(self._items)\n",
    "    \n",
    "    def pick(self):\n",
    "        try:\n",
    "            return self._items.pop()\n",
    "        except IndexError:\n",
    "            raise LookupError('Pick from empty BingoCage')\n",
    "    \n",
    "    def __call__(self):\n",
    "        self.pick()"
   ]
  },
  {
   "cell_type": "code",
   "execution_count": 22,
   "id": "28c919d8-1e4d-454d-95d8-2bc10456ce9a",
   "metadata": {},
   "outputs": [],
   "source": [
    "class LotteryBlower(Tombola):\n",
    "    \n",
    "    def __init__(self, iterable):\n",
    "        self._balls - list(iterable)\n",
    "    \n",
    "    def load(self, iterable):\n",
    "        self._balls.extend(iterable)\n",
    "    \n",
    "    def pick(self):\n",
    "        try:\n",
    "            position = random.randrange(len(self._balls))\n",
    "        except ValueError:\n",
    "            raise LookupError('Pick from empty BingoCage')\n",
    "        return self._balls.pop(position)\n",
    "    \n",
    "    def loaded(self):\n",
    "        return bool(self._balls)\n",
    "\n",
    "    def inspect(self):\n",
    "        returntuple(sorted(self._balls))"
   ]
  },
  {
   "cell_type": "markdown",
   "id": "357d2aa3-6113-472c-84c4-a691563da3f5",
   "metadata": {},
   "source": [
    "## A virtual subclass of Tombola\n",
    "\n",
    "An essential characteristic of goose typing—and the reason why it deserves a waterfowl name—is the ability to register a class as a virtual subclass of an ABC, even if it does not inherit from it. When doing so, we promise that the class faithfully implements the interface defined in the ABC—and Python will believe us without checking. If we lie,\n",
    "we’ll be caught by the usual runtime exceptions.\n",
    "\n",
    "This is done by calling a register method on the ABC. The registered class then becomes a virtual subclass of the ABC, and will be recognized as such by functions like\n",
    "issubclass and isinstance, but it will not inherit any methods or attributes from the ABC.\n",
    "\n",
    "Virtual subclasses do not inherit from their registered ABCs, and are not checked for conformance to the ABC interface at any time, not even when they are instantiated. It’s up to the subclass to actually implement all the methods needed to avoid runtime errors.\n",
    "\n",
    "The register method is usually invoked as a plain function, but it can also be used as a decorator."
   ]
  },
  {
   "cell_type": "code",
   "execution_count": 23,
   "id": "b8d2751b-cde3-475d-930f-7e5cc94918fd",
   "metadata": {},
   "outputs": [],
   "source": [
    "@Tombola.register\n",
    "class TomboList(list):\n",
    "    \n",
    "    def pick(self):\n",
    "        if self:\n",
    "            position = random.randrange(len(self))\n",
    "            return self.pop(position)\n",
    "        else:\n",
    "            raise LookupError('pop from empty TomboList.')\n",
    "    \n",
    "    load = list.extend\n",
    "    \n",
    "    def loaded(self):\n",
    "        return bool(self)\n",
    "    \n",
    "    def inspect(self):\n",
    "        return tuple(sorted(self))"
   ]
  },
  {
   "cell_type": "code",
   "execution_count": 24,
   "id": "d8d48f5b-3f78-4367-824b-07ef22de32cc",
   "metadata": {},
   "outputs": [
    {
     "data": {
      "text/plain": [
       "True"
      ]
     },
     "execution_count": 24,
     "metadata": {},
     "output_type": "execute_result"
    }
   ],
   "source": [
    "issubclass(TomboList, Tombola)"
   ]
  },
  {
   "cell_type": "code",
   "execution_count": 25,
   "id": "4ff141ec-2257-43f0-9916-8f709265d604",
   "metadata": {},
   "outputs": [
    {
     "data": {
      "text/plain": [
       "True"
      ]
     },
     "execution_count": 25,
     "metadata": {},
     "output_type": "execute_result"
    }
   ],
   "source": [
    "t = TomboList(range(100))\n",
    "isinstance(t, Tombola)"
   ]
  },
  {
   "cell_type": "code",
   "execution_count": 26,
   "id": "eb5da707-ccce-4635-b62f-5ea16f317a88",
   "metadata": {},
   "outputs": [
    {
     "data": {
      "text/plain": [
       "(__main__.Tombola, abc.ABC, object)"
      ]
     },
     "execution_count": 26,
     "metadata": {},
     "output_type": "execute_result"
    }
   ],
   "source": [
    "Tombola.__mro__"
   ]
  },
  {
   "cell_type": "markdown",
   "id": "f37bc646-1fce-4c33-adf4-f300d885beb4",
   "metadata": {},
   "source": [
    "## Geese Can Behave as Ducks\n",
    "A class can be recognized as a virtual subclass of an ABC even without registration."
   ]
  },
  {
   "cell_type": "code",
   "execution_count": 27,
   "id": "18202412-117e-496a-9c7d-f7683b2b3791",
   "metadata": {},
   "outputs": [],
   "source": [
    "class Struggle:\n",
    "    def __len__(self): return 23"
   ]
  },
  {
   "cell_type": "code",
   "execution_count": 28,
   "id": "10dd55de-5b3d-4c68-9b69-e6628af33485",
   "metadata": {},
   "outputs": [
    {
     "data": {
      "text/plain": [
       "True"
      ]
     },
     "execution_count": 28,
     "metadata": {},
     "output_type": "execute_result"
    }
   ],
   "source": [
    "isinstance(Struggle(), Sized)"
   ]
  },
  {
   "cell_type": "code",
   "execution_count": 29,
   "id": "77dda664-83d4-4cb7-925c-593f1930ab02",
   "metadata": {},
   "outputs": [
    {
     "data": {
      "text/plain": [
       "True"
      ]
     },
     "execution_count": 29,
     "metadata": {},
     "output_type": "execute_result"
    }
   ],
   "source": [
    "issubclass(Struggle, Sized)"
   ]
  },
  {
   "cell_type": "markdown",
   "id": "580613e5-244d-456b-9500-a3011a134acc",
   "metadata": {},
   "source": [
    "Class Struggle is considered a subclass of `abc.Sized` by the issubclass function (and, consequently, by isinstance as well) because abc.Sized implements a special class method named `__subclasshook__`."
   ]
  },
  {
   "cell_type": "code",
   "execution_count": 30,
   "id": "74c2f2a4-4db9-4358-b9a3-e732e4466402",
   "metadata": {},
   "outputs": [],
   "source": [
    "# Sized definition from the source code\n",
    "class Sized(metaclass=abc.ABCMeta):\n",
    "    __slots__ = ()\n",
    "    \n",
    "    @abc.abstractmethod\n",
    "    def __len__(self):\n",
    "        return 0\n",
    "    \n",
    "    @classmethod\n",
    "    def __subclasshook__(cls, C):\n",
    "        if cls is Sized:\n",
    "            if any(\"__len__\" in B.__dict__ for B in C.__mro__):\n",
    "                return True\n",
    "        return NotImplemented"
   ]
  },
  {
   "cell_type": "markdown",
   "id": "a30dfd2f-389c-4eb0-9bc2-57a83e71c96b",
   "metadata": {},
   "source": [
    "Is it a good idea to implement `__subclasshook__` in our own ABCs? Probably not. All the implementations of `__subclasshook__` I’ve seen in the Python source code are in ABCs like Sized that declare just one special method, and they simply check for that special method name."
   ]
  }
 ],
 "metadata": {
  "kernelspec": {
   "display_name": "Python 3 (ipykernel)",
   "language": "python",
   "name": "python3"
  },
  "language_info": {
   "codemirror_mode": {
    "name": "ipython",
    "version": 3
   },
   "file_extension": ".py",
   "mimetype": "text/x-python",
   "name": "python",
   "nbconvert_exporter": "python",
   "pygments_lexer": "ipython3",
   "version": "3.8.12"
  }
 },
 "nbformat": 4,
 "nbformat_minor": 5
}
