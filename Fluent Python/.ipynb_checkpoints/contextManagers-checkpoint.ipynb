{
 "cells": [
  {
   "cell_type": "markdown",
   "id": "042c2003",
   "metadata": {},
   "source": [
    "The with statement sets up a temporary context and reliably tears it down, under the control of a context manager object. This prevents errors and reduces boilerplate code, making APIs at the same time safer and easier to use.\n",
    "\n",
    "## Do This, Then That: else Blocks Beyond if\n",
    "\n",
    "#### Here are the rules:\n",
    "\n",
    "**for** : The else block will run only if and when the for loop runs to completion (i.e., not if the for is aborted with a break).\n",
    "\n",
    "**while** : The else block will run only if and when the while loop exits because the condition became falsy (i.e., not when the while is aborted with a break).\n",
    "\n",
    "**try** : The else block will only run if no exception is raised in the try block. The official docs also state: “Exceptions in the else clause are not handled by the preceding except clauses.”\n",
    "\n",
    "*I think else is a very poor choice for the keyword in all cases except if. It implies an excluding alternative, like “Run this loop, otherwise do that,” but the semantics for else in loops is the opposite: “**Run this loop, then do that**.” This suggests then as a better keyword—which would also make sense in the try context: “**Try this, then do that**.”*"
   ]
  },
  {
   "cell_type": "code",
   "execution_count": 1,
   "id": "c5c0201f",
   "metadata": {},
   "outputs": [
    {
     "name": "stdout",
     "output_type": "stream",
     "text": [
      "Yay!\n"
     ]
    }
   ],
   "source": [
    "my_list = ['apple', 'banana', 'mango']\n",
    "for item in my_list:\n",
    "    if item == 'banana':\n",
    "        print('Yay!')\n",
    "        break\n",
    "else:\n",
    "    raise ValueError('No banana flavor found!')"
   ]
  },
  {
   "cell_type": "markdown",
   "id": "abc59153",
   "metadata": {},
   "source": [
    "In the case of try/except blocks, else may seem redundant at first. After all, the after_call() in the following snippet will run only if the dangerous_call() does not raise an exception, correct?"
   ]
  },
  {
   "cell_type": "code",
   "execution_count": 2,
   "id": "46315f50",
   "metadata": {},
   "outputs": [],
   "source": [
    "def dangerous_call():\n",
    "    print(\"Danger!\")"
   ]
  },
  {
   "cell_type": "code",
   "execution_count": 3,
   "id": "fe8c9770",
   "metadata": {},
   "outputs": [],
   "source": [
    "def after_call():\n",
    "    print(\"After danger!\")"
   ]
  },
  {
   "cell_type": "code",
   "execution_count": 4,
   "id": "85a5dd9b",
   "metadata": {},
   "outputs": [
    {
     "name": "stdout",
     "output_type": "stream",
     "text": [
      "Danger!\n",
      "After danger!\n"
     ]
    }
   ],
   "source": [
    "try:\n",
    "    dangerous_call()\n",
    "    after_call()\n",
    "except OSError:\n",
    "    log('OSError...')"
   ]
  },
  {
   "cell_type": "markdown",
   "id": "eee6d528",
   "metadata": {},
   "source": [
    "However, doing so puts the after_call() inside the try block for no good reason. *For clarity and correctness, the body of a try block should only have the statements that may generate the expected exceptions*. This is much better:"
   ]
  },
  {
   "cell_type": "code",
   "execution_count": 5,
   "id": "85fa6b06",
   "metadata": {},
   "outputs": [
    {
     "name": "stdout",
     "output_type": "stream",
     "text": [
      "Danger!\n",
      "After danger!\n"
     ]
    }
   ],
   "source": [
    "try:\n",
    "    dangerous_call()\n",
    "except OSError:\n",
    "    log('OSError...')\n",
    "else:\n",
    "    after_call()"
   ]
  },
  {
   "cell_type": "markdown",
   "id": "3a3be19f",
   "metadata": {},
   "source": [
    "***In Python, try/except is commonly used for control flow, and not just for error handling***. There’s even an acronym/slogan for that documented in the official Python glossary:\n",
    "\n",
    "**EAFP**\n",
    "\n",
    "***Easier to ask for forgiveness than permission***. This common Python coding style assumes the existence of valid keys or attributes and catches exceptions if the assumption proves false. This clean and fast style is characterized by the presence of many try and except statements. The technique contrasts with the LBYL style common to many other languages such as C.\n",
    "\n",
    "The glossary then defines LBYL:\n",
    "\n",
    "**LBYL**\n",
    "\n",
    "***Look before you leap***. This coding style explicitly tests for pre-conditions before making calls or lookups. This style contrasts with the EAFP approach and is characterized by the presence of many if statements. In a multi-threaded environment, the LBYL approach can risk introducing a race condition between “the looking” and “the leaping”. For example, the code, if key in mapping: return mapping[key] can fail if another thread removes key from mapping after the test, but before the lookup. This issue can be solved with locks or by using the EAFP approach.\n",
    "\n",
    "## Context Managers and with Blocks\n",
    "\n",
    "Context manager objects exist to control a with statement, just like iterators exist to control a for statement.\n",
    "\n",
    "The with statement was designed to simplify the try/finally pattern, which guarantees that some operation is performed after a block of code, even if the block is aborted because of an exception, a return or sys.exit() call. The code in the finally clause usually releases a critical resource or restores some previous state that was temporarily changed.\n",
    "\n",
    "The context manager protocol consists of the `__enter__` and `__exit__` methods. At the start of the with, `__enter__` is invoked on the context manager object. The role of the finally clause is played by a call to `__exit__` on the context manager object at the end of the with block."
   ]
  },
  {
   "cell_type": "code",
   "execution_count": 6,
   "id": "9b9ff92c",
   "metadata": {},
   "outputs": [],
   "source": [
    "with open('vector.py') as fp:\n",
    "    src = fp.read(60)"
   ]
  },
  {
   "cell_type": "code",
   "execution_count": 7,
   "id": "ee2fa0f6",
   "metadata": {},
   "outputs": [
    {
     "data": {
      "text/plain": [
       "60"
      ]
     },
     "execution_count": 7,
     "metadata": {},
     "output_type": "execute_result"
    }
   ],
   "source": [
    "len(src)"
   ]
  },
  {
   "cell_type": "code",
   "execution_count": 8,
   "id": "8aafc3a8",
   "metadata": {},
   "outputs": [
    {
     "data": {
      "text/plain": [
       "<_io.TextIOWrapper name='vector.py' mode='r' encoding='cp1252'>"
      ]
     },
     "execution_count": 8,
     "metadata": {},
     "output_type": "execute_result"
    }
   ],
   "source": [
    "fp"
   ]
  },
  {
   "cell_type": "code",
   "execution_count": 9,
   "id": "0270b76a",
   "metadata": {},
   "outputs": [
    {
     "name": "stdout",
     "output_type": "stream",
     "text": [
      "ValueError: I/O operation on closed file.\n"
     ]
    }
   ],
   "source": [
    "try:\n",
    "    fp.read(60)\n",
    "except ValueError as err:\n",
    "    print(f\"{type(err).__name__}: {str(err)}\")"
   ]
  },
  {
   "cell_type": "markdown",
   "id": "5648be54",
   "metadata": {},
   "source": [
    "The `open()` function returns an instance of TextIOWrapper, and its `__enter__` method returns `self`. But the `__enter__` method may also return some other object instead of the context manager.\n",
    "\n",
    "When control flow exits the with block in any way, the `__exit__` method is invoked on the context manager object, not on whatever is returned by `__enter__`.\n",
    "\n",
    "The as clause of the with statement is optional. In the case of open, you’ll always need it to get a reference to the file, but some context managers return None because they have no useful object to give back to the user."
   ]
  },
  {
   "cell_type": "code",
   "execution_count": 10,
   "id": "8be25a76",
   "metadata": {},
   "outputs": [],
   "source": [
    "class LookingGlass:\n",
    "    \n",
    "    def __enter__(self):\n",
    "        import sys\n",
    "        self.original_write = sys.stdout.write\n",
    "        sys.stdout.write = self.reverse_write\n",
    "        return 'JABBERWOCKY'\n",
    "    \n",
    "    def reverse_write(self, text):\n",
    "        self.original_write(text[::-1])\n",
    "    \n",
    "    def __exit__(self, exc_type, exc_value, traceback):\n",
    "        import sys\n",
    "        sys.stdout.write = self.original_write\n",
    "        if exc_type is ZeroDivisionError:\n",
    "            print(\"Please DO NOT divide by zero!\")\n",
    "            return True"
   ]
  },
  {
   "cell_type": "markdown",
   "id": "8f57d0eb",
   "metadata": {},
   "source": [
    "If `__exit__` returns `None` or anything but `True`, any exception raised in the with block will be propagated."
   ]
  },
  {
   "cell_type": "code",
   "execution_count": 11,
   "id": "872882f2",
   "metadata": {},
   "outputs": [
    {
     "name": "stdout",
     "output_type": "stream",
     "text": [
      "pordwonS dna yttiK ,ecilA\n",
      "YKCOWREBBAJ\n"
     ]
    }
   ],
   "source": [
    "with LookingGlass() as what:\n",
    "    print('Alice, Kitty and Snowdrop')\n",
    "    print(what)"
   ]
  },
  {
   "cell_type": "code",
   "execution_count": 12,
   "id": "d7c7493f",
   "metadata": {},
   "outputs": [
    {
     "data": {
      "text/plain": [
       "'JABBERWOCKY'"
      ]
     },
     "execution_count": 12,
     "metadata": {},
     "output_type": "execute_result"
    }
   ],
   "source": [
    "what\n",
    "# Now the with block is over. We can see that the value returned by __enter__,\n",
    "# held in what, is the string 'JABBERWOCKY'."
   ]
  },
  {
   "cell_type": "code",
   "execution_count": 13,
   "id": "f9e2242a",
   "metadata": {},
   "outputs": [
    {
     "name": "stdout",
     "output_type": "stream",
     "text": [
      "Back to normal\n"
     ]
    }
   ],
   "source": [
    "print(\"Back to normal\")"
   ]
  },
  {
   "cell_type": "markdown",
   "id": "0fd2da38",
   "metadata": {},
   "source": [
    "Context managers are a fairly novel feature and slowly but surely the Python community is finding new, creative uses for them. Some examples from the standard library are:\n",
    "* Managing transactions in the sqlite3 module.\n",
    "* Holding locks, conditions, and semaphores in threading code.\n",
    "* Setting up environments for arithmetic operations with Decimal objects; see the decimal.localcontext documentation.\n",
    "* Applying temporary patches to objects for testing; see the <a href=\"http://bit.ly/1MM8imk\">unittest.mock.patch function</a>.\n",
    "\n",
    "## Using @contextmanager\n",
    "\n",
    "The @contextmanager decorator reduces the boilerplate of creating a context manager: instead of writing a whole class with `__enter__`/`__exit__` methods, you just implement a generator with a single yield that should produce whatever you want the `__enter__` method to return.\n",
    "\n",
    "In a generator decorated with @contextmanager, yield is used to split the body of the function in two parts: everything before the yield will be executed at the beginning of the while block when the interpreter calls `__enter__`; the code after yield will run when `__exit__` is called at the end of the block."
   ]
  },
  {
   "cell_type": "code",
   "execution_count": 14,
   "id": "9f775971",
   "metadata": {},
   "outputs": [],
   "source": [
    "import contextlib"
   ]
  },
  {
   "cell_type": "code",
   "execution_count": 15,
   "id": "caae38fd",
   "metadata": {},
   "outputs": [],
   "source": [
    "@contextlib.contextmanager\n",
    "def looking_glass():\n",
    "    import sys\n",
    "    original_write = sys.stdout.write \n",
    "    \n",
    "    def reverse_write(text): \n",
    "        original_write(text[::-1])\n",
    "    \n",
    "    sys.stdout.write = reverse_write \n",
    "    yield 'JABBERWOCKY'\n",
    "\n",
    "    sys.stdout.write = original_write"
   ]
  },
  {
   "cell_type": "code",
   "execution_count": 16,
   "id": "df9c3c14",
   "metadata": {},
   "outputs": [
    {
     "name": "stdout",
     "output_type": "stream",
     "text": [
      "pordwonS dna yttiK ,ecilA\n",
      "YKCOWREBBAJ\n"
     ]
    }
   ],
   "source": [
    "with looking_glass() as what: \n",
    "    print('Alice, Kitty and Snowdrop')\n",
    "    print(what)"
   ]
  },
  {
   "cell_type": "code",
   "execution_count": 17,
   "id": "d988b9b6",
   "metadata": {},
   "outputs": [
    {
     "name": "stdout",
     "output_type": "stream",
     "text": [
      "JABBERWOCKY\n"
     ]
    }
   ],
   "source": [
    "print(what)"
   ]
  },
  {
   "cell_type": "markdown",
   "id": "998c9a37",
   "metadata": {},
   "source": [
    "Essentially the contextlib.contextmanager decorator wraps the function in a class that implements the `__enter__` and `__exit__` methods.\n",
    "\n",
    "The `__enter__` method of that class:\n",
    "\n",
    "1. Invokes the generator function and holds on to the generator object—let’s call it gen.\n",
    "\n",
    "2. Calls next(gen) to make it run to the yield keyword.\n",
    "\n",
    "3. Returns the value yielded by next(gen), so it can be bound to a target variable in the with/as form.\n",
    "\n",
    "When the with block terminates, the `__exit__` method:\n",
    "\n",
    "1. Checks an exception was passed as exc_type; if so, gen.throw(exception) is invoked, causing the exception to be raised in the yield line inside the generator function body.\n",
    "\n",
    "2. Otherwise, next(gen) is called, resuming the execution of the generator function body after the yield.\n",
    "\n",
    "Example 15-5 has a serious flaw: if an exception is raised in the body of the with block, the Python interpreter will catch it and raise it again in the yield expression inside looking_glass. But there is no error handling there, so the looking_glass function will abort without ever restoring the original sys.stdout.write method, leaving the system in an invalid state."
   ]
  },
  {
   "cell_type": "code",
   "execution_count": 18,
   "id": "fa90f260",
   "metadata": {},
   "outputs": [],
   "source": [
    "@contextlib.contextmanager\n",
    "def looking_glass():\n",
    "    import sys\n",
    "    original_write = sys.stdout.write \n",
    "    \n",
    "    def reverse_write(text): \n",
    "        original_write(text[::-1])\n",
    "    \n",
    "    sys.stdout.write = reverse_write \n",
    "    msg = ''\n",
    "    try:\n",
    "        yield 'JABBERWOCKY'\n",
    "    except Exception as err:\n",
    "        msg = f'{type(err).__name__}: {str(err)}'\n",
    "    finally:\n",
    "        sys.stdout.write = original_write\n",
    "        if msg:\n",
    "            print(msg)"
   ]
  },
  {
   "cell_type": "markdown",
   "id": "c0b9308d",
   "metadata": {},
   "source": [
    "Recall that the `__exit__` method tells the interpreter that it has handled the exception by returning True; in that case, the interpreter suppresses the exception. On the other hand, if `__exit__` does not explicitly return a value, the interpreter gets the usual `None`, and propagates the exception. With `@contextmanager`, the default behavior is inverted: the `__exit__` method provided by the decorator assumes any exception sent into the generator is handled and should be suppressed. You must explicitly re-raise an exception in the decorated function if you don’t want @contextmanager to suppress it.\n",
    "\n",
    "Having a try/finally (or a with block) around the yield is an unavoidable price of using @contextmanager, because you never knowwhat the users of your context manager are going to do inside their with block.\n",
    "\n",
    "## Use Case: Rewriting Files in-place"
   ]
  },
  {
   "cell_type": "code",
   "execution_count": 19,
   "id": "b0a718de",
   "metadata": {},
   "outputs": [],
   "source": [
    "import io\n",
    "import os\n",
    "import csv"
   ]
  },
  {
   "cell_type": "code",
   "execution_count": 20,
   "id": "366d0b60",
   "metadata": {},
   "outputs": [],
   "source": [
    "@contextlib.contextmanager\n",
    "def inplace(filename, mode='r', buffering=-1, encoding=None, errors=None,\n",
    "            newline=None, backup_extension=None):\n",
    "    \"\"\"Allow for a file to be replaced with new content.\n",
    "\n",
    "    yields a tuple of (readable, writable) file objects, where writable\n",
    "    replaces readable.\n",
    "\n",
    "    If an exception occurs, the old file is restored, removing the\n",
    "    written data.\n",
    "\n",
    "    mode should *not* use 'w', 'a' or '+'; only read-only-modes are supported.\n",
    "\n",
    "    \"\"\"\n",
    "\n",
    "    # move existing file to backup, create new file with same permissions\n",
    "    # borrowed extensively from the fileinput module\n",
    "    if set(mode).intersection('wa+'):\n",
    "        raise ValueError('Only read-only file modes can be used')\n",
    "\n",
    "    backupfilename = filename + (backup_extension or os.extsep + 'bak')\n",
    "    try:\n",
    "        os.unlink(backupfilename)\n",
    "    except os.error:\n",
    "        pass\n",
    "    os.rename(filename, backupfilename)\n",
    "    readable = io.open(backupfilename, mode, buffering=buffering,\n",
    "                       encoding=encoding, errors=errors, newline=newline)\n",
    "    try:\n",
    "        perm = os.fstat(readable.fileno()).st_mode\n",
    "    except OSError:\n",
    "        writable = open(filename, 'w' + mode.replace('r', ''),\n",
    "                        buffering=buffering, encoding=encoding, errors=errors,\n",
    "                        newline=newline)\n",
    "    else:\n",
    "        os_mode = os.O_CREAT | os.O_WRONLY | os.O_TRUNC\n",
    "        if hasattr(os, 'O_BINARY'):\n",
    "            os_mode |= os.O_BINARY\n",
    "        fd = os.open(filename, os_mode, perm)\n",
    "        writable = io.open(fd, \"w\" + mode.replace('r', ''), buffering=buffering,\n",
    "                           encoding=encoding, errors=errors, newline=newline)\n",
    "        try:\n",
    "            if hasattr(os, 'chmod'):\n",
    "                os.chmod(filename, perm)\n",
    "        except OSError:\n",
    "            pass\n",
    "    try:\n",
    "        yield readable, writable\n",
    "    except Exception:\n",
    "        # move backup back\n",
    "        try:\n",
    "            os.unlink(filename)\n",
    "        except os.error:\n",
    "            pass\n",
    "        os.rename(backupfilename, filename)\n",
    "        raise\n",
    "    finally:\n",
    "        readable.close()\n",
    "        writable.close()\n",
    "        try:\n",
    "            os.unlink(backupfilename)\n",
    "        except os.error:\n",
    "            pass"
   ]
  },
  {
   "cell_type": "code",
   "execution_count": 21,
   "id": "2572df8b",
   "metadata": {},
   "outputs": [],
   "source": [
    "# with inplace(csvfilename, 'r', newline='') as (infh, outfh):\n",
    "#     reader = csv.reader(infh)\n",
    "#     writer = csv.writer(outfh)\n",
    "\n",
    "#     for row in reader:\n",
    "#         row += ['new', 'columns']\n",
    "#         writer.writerow(row)"
   ]
  }
 ],
 "metadata": {
  "kernelspec": {
   "display_name": "Python 3 (ipykernel)",
   "language": "python",
   "name": "python3"
  },
  "language_info": {
   "codemirror_mode": {
    "name": "ipython",
    "version": 3
   },
   "file_extension": ".py",
   "mimetype": "text/x-python",
   "name": "python",
   "nbconvert_exporter": "python",
   "pygments_lexer": "ipython3",
   "version": "3.10.4"
  }
 },
 "nbformat": 4,
 "nbformat_minor": 5
}
