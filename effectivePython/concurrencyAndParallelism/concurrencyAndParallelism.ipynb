{
 "cells": [
  {
   "cell_type": "code",
   "execution_count": 10,
   "id": "5e7bc897-d2c7-4b2d-a4fb-2b35a3608bed",
   "metadata": {},
   "outputs": [],
   "source": [
    "import os\n",
    "import time\n",
    "import threading\n",
    "import multiprocessing\n",
    "import subprocess"
   ]
  },
  {
   "cell_type": "markdown",
   "id": "05f14f8a-11b4-461a-af1b-fa26b3ca58eb",
   "metadata": {},
   "source": [
    "### Use subprocess to Manage Child Processes"
   ]
  },
  {
   "cell_type": "code",
   "execution_count": 5,
   "id": "8f14c42b-20f1-457c-b5a2-a0c7a9bad124",
   "metadata": {},
   "outputs": [],
   "source": [
    "result = subprocess.run(\n",
    "    ['echo', 'Hello, from the child!'],\n",
    "    capture_output=True,\n",
    "    encoding='utf-8',\n",
    "    shell=True\n",
    ")\n",
    "result.check_returncode()"
   ]
  },
  {
   "cell_type": "code",
   "execution_count": 6,
   "id": "61e88828-d8e8-4df5-99f8-59bbddb72a94",
   "metadata": {},
   "outputs": [
    {
     "data": {
      "text/plain": [
       "'\"Hello, from the child!\"\\n'"
      ]
     },
     "execution_count": 6,
     "metadata": {},
     "output_type": "execute_result"
    }
   ],
   "source": [
    "result.stdout"
   ]
  },
  {
   "cell_type": "markdown",
   "id": "07bf6c57-84b9-44a6-a93a-1ef2a6f078c3",
   "metadata": {},
   "source": [
    "Child processes run independently from their parent process, the\n",
    "Python interpreter. If I create a subprocess using the Popen class\n",
    "instead of the run function, I can poll child process status periodically while Python does other work:"
   ]
  },
  {
   "cell_type": "code",
   "execution_count": 18,
   "id": "bf463186-1631-4af2-84e9-0d80bee226e8",
   "metadata": {},
   "outputs": [
    {
     "name": "stdout",
     "output_type": "stream",
     "text": [
      "Working...\n",
      "Exit status 1\n"
     ]
    }
   ],
   "source": [
    "proc = subprocess.Popen(['sleep', '1'], shell=True)\n",
    "while proc.poll() is None:\n",
    "    print('Working...')\n",
    "    time.sleep(0.1)\n",
    "print('Exit status', proc.poll())"
   ]
  },
  {
   "cell_type": "markdown",
   "id": "7ec60606-6942-4bf0-9a09-2fe6aab27ae3",
   "metadata": {},
   "source": [
    "Decoupling the child process from the parent frees up the parent\n",
    "process to run many child processes in parallel. Here, I do this by starting all the child processes together with Popen upfront:"
   ]
  },
  {
   "cell_type": "code",
   "execution_count": 19,
   "id": "2ce540e5-ab6c-45ff-8a01-071b3eef40ef",
   "metadata": {},
   "outputs": [
    {
     "name": "stdout",
     "output_type": "stream",
     "text": [
      "Finished in 0.072 seconds\n"
     ]
    }
   ],
   "source": [
    "start = time.perf_counter()\n",
    "sleep_procs = []\n",
    "for i in range(5):\n",
    "    proc = subprocess.Popen(['sleep', '1'], shell=True)\n",
    "    sleep_procs.append(proc)\n",
    "# Later, I wait for them to finish their I/O and terminate with the communicate method:\n",
    "for proc in sleep_procs:\n",
    "    proc.communicate()\n",
    "time_taken = time.perf_counter() - start\n",
    "print(f\"Finished in {time_taken:.3} seconds\")"
   ]
  },
  {
   "cell_type": "code",
   "execution_count": null,
   "id": "54a495de-4241-49e9-85b3-288128ced12f",
   "metadata": {},
   "outputs": [],
   "source": []
  }
 ],
 "metadata": {
  "kernelspec": {
   "display_name": "Python 3 (ipykernel)",
   "language": "python",
   "name": "python3"
  },
  "language_info": {
   "codemirror_mode": {
    "name": "ipython",
    "version": 3
   },
   "file_extension": ".py",
   "mimetype": "text/x-python",
   "name": "python",
   "nbconvert_exporter": "python",
   "pygments_lexer": "ipython3",
   "version": "3.8.12"
  }
 },
 "nbformat": 4,
 "nbformat_minor": 5
}
