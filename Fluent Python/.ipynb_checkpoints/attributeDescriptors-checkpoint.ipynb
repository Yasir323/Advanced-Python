{
 "cells": [
  {
   "cell_type": "markdown",
   "id": "7704aef7",
   "metadata": {},
   "source": [
    "Descriptors are a way of reusing the same access logic in multiple attributes. For example, field types in ORMs such as the Django ORM and SQL Alchemy are descriptors, managing the flow of data from the fields in a database record to Python object attributes and vice versa.\n",
    "\n",
    "A descriptor is a class that implements a protocol consisting of the `__get__`, `__set__`, and `__delete__` methods.\n",
    "\n",
    "A property factory is a way to avoid repetitive coding of getters and setters by applying functional programming patterns. A property factory is a higher-order function that creates a parameterized set of accessor functions and builds a custom property instance from them, with closures to hold settings like the storage_name. The object-oriented way of solving the same problem is a descriptor class.\n",
    "\n",
    "## A Simple Descriptor\n",
    "\n",
    "A class implementing a `__get__`, a `__set__`, or a `__delete__` method is a descriptor."
   ]
  },
  {
   "cell_type": "code",
   "execution_count": 1,
   "id": "dda6771c",
   "metadata": {},
   "outputs": [],
   "source": [
    "class Quantity:\n",
    "    \n",
    "    def __init__(self, storage_name):\n",
    "        self.storage_name = storage_name\n",
    "    \n",
    "    def __set__(self, instance, value):\n",
    "        if value > 0:\n",
    "            # Here, we must handle the managed instance __dict__ directly; trying to use the\n",
    "            # setattr built-in would trigger the __set__ method again, leading to infinite\n",
    "            # recursion.\n",
    "            instance.__dict__[self.storage_name] = value\n",
    "        else:\n",
    "            raise ValueError(\"Value must be > 0\")"
   ]
  },
  {
   "cell_type": "code",
   "execution_count": 2,
   "id": "506fca5b",
   "metadata": {},
   "outputs": [],
   "source": [
    "class LineItem:\n",
    "    weight = Quantity('weight') \n",
    "    price = Quantity('price') \n",
    "    \n",
    "    def __init__(self, description, weight, price): \n",
    "        self.description = description\n",
    "        self.weight = weight\n",
    "        self.price = price\n",
    "    \n",
    "    def subtotal(self):\n",
    "        return self.weight * self.price"
   ]
  },
  {
   "cell_type": "markdown",
   "id": "87027119",
   "metadata": {},
   "source": [
    "In Example 20-1, each managed attribute has the same name as its storage attribute, and there is no special getter logic, so Quantity doesn’t need a `__get__` method.\n",
    "\n",
    "When coding a `__set__` method, you must keep in mind what the\n",
    "self and instance arguments mean: self is the descriptor in‐\n",
    "stance, and instance is the managed instance. Descriptors man‐\n",
    "aging instance attributes should store values in the managed in‐\n",
    "stances. That’s why Python provides the instance argument to the\n",
    "descriptor methods.\n",
    "\n",
    "A drawback of Example 20-1 is the need to repeat the names of the attributes when the descriptors are instantiated in the managed class body. It would be nice if the LineItem class could be declared like this:\n",
    "\n",
    "```\n",
    "class LineItem:\n",
    "    weight = Quantity()\n",
    "    price = Quantity()\n",
    "    #remaining methods as before\n",
    "```\n",
    "\n",
    "The problem is that—as we saw in Chapter 8—the righthand side of an assignment is executed before the variable exists. The expression Quantity() is evaluated to create a descriptor instance, and at this time there is no way the code in the Quantity class can guess the name of the variable to which the descriptor will be bound (e.g., weight or price).\n",
    "\n",
    "### Automatic Storage Attribute Names"
   ]
  },
  {
   "cell_type": "code",
   "execution_count": 3,
   "id": "a80baa0b",
   "metadata": {},
   "outputs": [],
   "source": [
    "class Quantity:\n",
    "    \n",
    "    __counter = 0\n",
    "    \n",
    "    def __init__(self):\n",
    "        cls = self.__class__\n",
    "        prefix = cls.__name__\n",
    "        index = cls.__counter\n",
    "        self.storage_name = '_{}#{}'.format(prefix, index)\n",
    "        cls.__counter += 1\n",
    "    \n",
    "    def __get__(self, instance, owner):\n",
    "        return getattr(instance, self.storage_name)\n",
    "    \n",
    "    def __set__(self, instance, value):\n",
    "        if value > 0:\n",
    "            setattr(instance, self.storage_name, value)\n",
    "        else:\n",
    "            raise ValueError(\"Value must be > 0\")"
   ]
  },
  {
   "cell_type": "code",
   "execution_count": 4,
   "id": "d1a609ad",
   "metadata": {},
   "outputs": [],
   "source": [
    "class LineItem:\n",
    "    weight = Quantity() \n",
    "    price = Quantity() \n",
    "    \n",
    "    def __init__(self, description, weight, price): \n",
    "        self.description = description\n",
    "        self.weight = weight\n",
    "        self.price = price\n",
    "    \n",
    "    def subtotal(self):\n",
    "        return self.weight * self.price"
   ]
  },
  {
   "cell_type": "markdown",
   "id": "8c5580fd",
   "metadata": {},
   "source": [
    "Here we can use the higher-level getattr and setattr built-ins to store the value instead of resorting to `instance.__dict__` because the managed attribute and the storage attribute have different names, so calling getattr on the storage attribute will not trigger the descriptor, avoiding the infinite recursion."
   ]
  },
  {
   "cell_type": "code",
   "execution_count": 5,
   "id": "6f3c8145",
   "metadata": {},
   "outputs": [
    {
     "data": {
      "text/plain": [
       "(20, 17.95)"
      ]
     },
     "execution_count": 5,
     "metadata": {},
     "output_type": "execute_result"
    }
   ],
   "source": [
    "coconuts = LineItem(\"Brazilian coconut\", 20, 17.95)\n",
    "coconuts.weight, coconuts.price"
   ]
  },
  {
   "cell_type": "code",
   "execution_count": 6,
   "id": "ee0b3df5",
   "metadata": {},
   "outputs": [
    {
     "data": {
      "text/plain": [
       "(20, 17.95)"
      ]
     },
     "execution_count": 6,
     "metadata": {},
     "output_type": "execute_result"
    }
   ],
   "source": [
    "getattr(coconuts, '_Quantity#0'), getattr(coconuts, '_Quantity#1')"
   ]
  },
  {
   "cell_type": "markdown",
   "id": "42aaeeb6",
   "metadata": {},
   "source": [
    "If we wanted to follow the convention Python uses to do name\n",
    "mangling (e.g., _LineItem__quantity0) we’d have to know the\n",
    "name of the managed class (i.e., LineItem), but the body of a class\n",
    "definition runs before the class itself is built by the interpreter, so\n",
    "we don’t have that information when each descriptor instance is\n",
    "created.\n",
    "\n",
    "Note that `__get__` receives three arguments: `self`, `instance`, and `owner`. The `owner` argument is a reference to the managed class (e.g., `LineItem`), and it’s handy when the descriptor is used to get attributes from the class. If a managed attribute, such as weight, is retrieved via the class like `LineItem.weight`, the descriptor `__get__` method receives `None` as the value for the instance argument. This explains the Attribute error in the next console session:"
   ]
  },
  {
   "cell_type": "code",
   "execution_count": 7,
   "id": "afec5ff6",
   "metadata": {},
   "outputs": [
    {
     "name": "stdout",
     "output_type": "stream",
     "text": [
      "'NoneType' object has no attribute '_Quantity#0'\n"
     ]
    }
   ],
   "source": [
    "try:\n",
    "    LineItem.weight\n",
    "except AttributeError as err:\n",
    "    print(str(err))"
   ]
  },
  {
   "cell_type": "code",
   "execution_count": 8,
   "id": "61a4eda9",
   "metadata": {},
   "outputs": [],
   "source": [
    "class Quantity:\n",
    "    \n",
    "    __counter = 0\n",
    "    \n",
    "    def __init__(self):\n",
    "        cls = self.__class__\n",
    "        prefix = cls.__name__\n",
    "        index = cls.__counter\n",
    "        self.storage_name = '_{}#{}'.format(prefix, index)\n",
    "        cls.__counter += 1\n",
    "    \n",
    "    def __get__(self, instance, owner):\n",
    "        if instance is None:\n",
    "            return self\n",
    "        return getattr(instance, self.storage_name)\n",
    "    \n",
    "    def __set__(self, instance, value):\n",
    "        if value > 0:\n",
    "            setattr(instance, self.storage_name, value)\n",
    "        else:\n",
    "            raise ValueError(\"Value must be > 0\")"
   ]
  },
  {
   "cell_type": "markdown",
   "id": "f6b3331c",
   "metadata": {},
   "source": [
    "Usually we do not define a descriptor in the same module where it’s used, but in a separate utility module designed to be used across the application—even in many applications, if you are developing a framework.\n",
    "\n",
    "***Django model fields are descriptors.***\n",
    "\n",
    "Asimplemented so far, the Quantity descriptor works pretty well. Its only real drawback is the use of generated storage names like _Quantity#0, making debugging hard for the users. But automatically assigning storage names that resemble the managed attribute names requires a class decorator or a metaclass.\n",
    "\n",
    "### Property Factory Versus Descriptor Class"
   ]
  },
  {
   "cell_type": "code",
   "execution_count": 9,
   "id": "bd33b123",
   "metadata": {},
   "outputs": [],
   "source": [
    "def quantity():\n",
    "    try:\n",
    "        quantity.counter += 1\n",
    "    except AttributeError:\n",
    "        quantity.couonter = 0\n",
    "    storage_name = '_{}:{}'.format('quantity', quantity.counter)\n",
    "    \n",
    "    def qty_getter(instance): \n",
    "        return getattr(instance, storage_name)\n",
    "    \n",
    "    def qty_setter(instance, value):\n",
    "        if value > 0:\n",
    "            setattr(instance, storage_name, value)\n",
    "        else:\n",
    "            raise ValueError('value must be > 0')\n",
    "    \n",
    "    return property(qty_getter, qty_setter)"
   ]
  },
  {
   "cell_type": "markdown",
   "id": "3fc4f73f",
   "metadata": {},
   "source": [
    "I prefer the descriptor class approach mainly for two reasons:\n",
    "\n",
    "* A descriptor class can be extended by subclassing; reusing code from a factory function without copying and pasting is much harder.\n",
    "* It’s more straightforward to hold state in class and instance attributes than in function attributes and closures as we had to do in Example 20-5.\n",
    "\n",
    "To summarize, the property factory pattern is simpler in some regards, but the descriptor class approach is more extensible. It’s also more widely used.\n",
    "\n",
    "### A New Descriptor Type"
   ]
  },
  {
   "cell_type": "code",
   "execution_count": 10,
   "id": "2e93f926",
   "metadata": {},
   "outputs": [],
   "source": [
    "import abc"
   ]
  },
  {
   "cell_type": "code",
   "execution_count": 11,
   "id": "fab8f408",
   "metadata": {},
   "outputs": [],
   "source": [
    "class AutoStorage: \n",
    "    __counter = 0\n",
    "    \n",
    "    def __init__(self):\n",
    "        cls = self.__class__\n",
    "        prefix = cls.__name__\n",
    "        index = cls.__counter\n",
    "        self.storage_name = '_{}#{}'.format(prefix, index)\n",
    "        cls.__counter += 1\n",
    "    \n",
    "    def __get__(self, instance, owner):\n",
    "        if instance is None:\n",
    "            return self\n",
    "        return getattr(instance, self.storage_name)\n",
    "    \n",
    "    def __set__(self, instance, value):\n",
    "        setattr(instance, self.storage_name, value)"
   ]
  },
  {
   "cell_type": "code",
   "execution_count": 12,
   "id": "1bf12f9f",
   "metadata": {},
   "outputs": [],
   "source": [
    "class Validated(abc.ABC, AutoStorage):\n",
    "    \n",
    "    def __set__(self, instance, value):\n",
    "        value = self.validate(instance, value) \n",
    "        super().__set__(instance, value) \n",
    "    \n",
    "    @abc.abstractmethod\n",
    "    def validate(self, instance, value): \n",
    "        \"\"\"return validated value or raise ValueError\"\"\""
   ]
  },
  {
   "cell_type": "code",
   "execution_count": 13,
   "id": "e816917d",
   "metadata": {},
   "outputs": [],
   "source": [
    "class Quantity(Validated): \n",
    "    \"\"\"a number greater than zero\"\"\"\n",
    "    def validate(self, instance, value):\n",
    "        if value <= 0:\n",
    "            raise ValueError('value must be > 0')\n",
    "        return value"
   ]
  },
  {
   "cell_type": "code",
   "execution_count": 14,
   "id": "2591aa06",
   "metadata": {},
   "outputs": [],
   "source": [
    "class NonBlank(Validated):\n",
    "    \"\"\"a string with at least one non-space character\"\"\"\n",
    "    \n",
    "    def validate(self, instance, value):\n",
    "        value = value.strip()\n",
    "        if len(value) == 0:\n",
    "            raise ValueError('value cannot be empty or blank')\n",
    "        return value"
   ]
  },
  {
   "cell_type": "code",
   "execution_count": 15,
   "id": "db0dfffe",
   "metadata": {},
   "outputs": [],
   "source": [
    "class LineItem:\n",
    "    weight = Quantity() \n",
    "    price = Quantity() \n",
    "    description = NonBlank()\n",
    "    \n",
    "    def __init__(self, description, weight, price): \n",
    "        self.description = description\n",
    "        self.weight = weight\n",
    "        self.price = price\n",
    "    \n",
    "    def subtotal(self):\n",
    "        return self.weight * self.price"
   ]
  },
  {
   "cell_type": "markdown",
   "id": "2d37a9f8",
   "metadata": {},
   "source": [
    "The LineItem examples we’ve seen in this chapter demonstrate a typical use of descriptors to manage data attributes. Such a descriptor is also called an **overriding descriptor** because its `__set__` method overrides (i.e., interrupts and overrules) the setting of an attribute by the same name in the managed instance. However, there are also non-overriding descriptors.\n",
    "\n",
    "## Overriding Versus Nonoverriding Descriptors\n",
    "\n",
    "Recall that there is an important asymmetry in the way Python handles attributes. Reading an attribute through an instance normally returns the attribute defined in the instance, but if there is no such attribute in the instance, a class attribute will be retrieved. On the other hand, assigning to an attribute in an instance normally creates the attribute in the instance, without affecting the class at all."
   ]
  },
  {
   "cell_type": "code",
   "execution_count": 16,
   "id": "25c0617f",
   "metadata": {},
   "outputs": [],
   "source": [
    "def cls_name(obj_or_cls):\n",
    "     cls = type(obj_or_cls)\n",
    "     if cls is type:\n",
    "         cls = obj_or_cls\n",
    "     return cls.__name__.split('.')[-1]"
   ]
  },
  {
   "cell_type": "code",
   "execution_count": 17,
   "id": "6d414f76",
   "metadata": {},
   "outputs": [],
   "source": [
    "def display(obj):\n",
    "    cls = type(obj)\n",
    "    if cls is type:\n",
    "        return '<class {}>'.format(obj.__name__)\n",
    "    elif cls in [type(None), int]:\n",
    "        return repr(obj)\n",
    "    else:\n",
    "        return '<{} object>'.format(cls_name(obj))"
   ]
  },
  {
   "cell_type": "code",
   "execution_count": 18,
   "id": "8a2e3b3e",
   "metadata": {},
   "outputs": [],
   "source": [
    "def print_args(name, *args):\n",
    "    pseudo_args = ', '.join(display(x) for x in args)\n",
    "    print('-> {}.__{}__({})'.format(cls_name(args[0]), name, pseudo_args))"
   ]
  },
  {
   "cell_type": "code",
   "execution_count": 19,
   "id": "f4adbe15",
   "metadata": {},
   "outputs": [],
   "source": [
    "class Overriding: \n",
    "    \"\"\"a.k.a. data descriptor or enforced descriptor\"\"\"\n",
    "    def __get__(self, instance, owner):\n",
    "        print_args('get', self, instance, owner)\n",
    "\n",
    "    def __set__(self, instance, value):\n",
    "        print_args('set', self, instance, value)"
   ]
  },
  {
   "cell_type": "code",
   "execution_count": 20,
   "id": "15a478fc",
   "metadata": {},
   "outputs": [],
   "source": [
    "class OverridingNoGet: \n",
    "    \"\"\"an overriding descriptor without ``__get__``\"\"\"\n",
    "\n",
    "    def __set__(self, instance, value):\n",
    "        print_args('set', self, instance, value)"
   ]
  },
  {
   "cell_type": "code",
   "execution_count": 21,
   "id": "18493e88",
   "metadata": {},
   "outputs": [],
   "source": [
    "class NonOverriding: \n",
    "    \"\"\"a.k.a. non-data or shadowable descriptor\"\"\"\n",
    "    \n",
    "    def __get__(self, instance, owner):\n",
    "        print_args('get', self, instance, owner)"
   ]
  },
  {
   "cell_type": "code",
   "execution_count": 22,
   "id": "5fb2a843",
   "metadata": {},
   "outputs": [],
   "source": [
    "class Managed: \n",
    "    over = Overriding()\n",
    "    over_no_get = OverridingNoGet()\n",
    "    non_over = NonOverriding()\n",
    "    \n",
    "    def spam(self): \n",
    "        print('-> Managed.spam({})'.format(display(self)))"
   ]
  },
  {
   "cell_type": "markdown",
   "id": "faa2fe6a",
   "metadata": {},
   "source": [
    "## Overriding Descriptor\n",
    "A descriptor that implements the `__set__` method is called an overriding descriptor, because although it is a class attribute, a descriptor implementing `__set__` will override attempts to assign to instance attributes. This is how Example 20-2 was implemented. Properties are also overriding descriptors: if you don’t provide a setter function, the\n",
    "default `__set__` from the property class will raise AttributeError to signal that the attribute is read-only."
   ]
  },
  {
   "cell_type": "code",
   "execution_count": 23,
   "id": "a02e5039",
   "metadata": {},
   "outputs": [
    {
     "name": "stdout",
     "output_type": "stream",
     "text": [
      "-> Overriding.__get__(<Overriding object>, <Managed object>, <class Managed>)\n"
     ]
    }
   ],
   "source": [
    "obj = Managed()\n",
    "obj.over  # obj.over triggersthe descriptor __get__ method, passing the managed instance\n",
    "# obj as the second argument."
   ]
  },
  {
   "cell_type": "code",
   "execution_count": 24,
   "id": "746e5383",
   "metadata": {},
   "outputs": [
    {
     "name": "stdout",
     "output_type": "stream",
     "text": [
      "-> Overriding.__get__(<Overriding object>, None, <class Managed>)\n"
     ]
    }
   ],
   "source": [
    "Managed.over  # Managed.over triggers the descriptor __get__ method, passing None as the\n",
    "# second argument (instance)."
   ]
  },
  {
   "cell_type": "code",
   "execution_count": 25,
   "id": "d4d90723",
   "metadata": {},
   "outputs": [
    {
     "name": "stdout",
     "output_type": "stream",
     "text": [
      "-> Overriding.__set__(<Overriding object>, <Managed object>, 7)\n"
     ]
    }
   ],
   "source": [
    "obj.over = 7  # Assigning to obj.over triggersthe descriptor __set__ method, passing the value\n",
    "# 7 as the last argument."
   ]
  },
  {
   "cell_type": "code",
   "execution_count": 26,
   "id": "0b87243c",
   "metadata": {},
   "outputs": [
    {
     "name": "stdout",
     "output_type": "stream",
     "text": [
      "-> Overriding.__get__(<Overriding object>, <Managed object>, <class Managed>)\n"
     ]
    }
   ],
   "source": [
    "obj.over  # Reading obj.over still invokes the descriptor __get__ method."
   ]
  },
  {
   "cell_type": "code",
   "execution_count": 27,
   "id": "219b2c76",
   "metadata": {},
   "outputs": [],
   "source": [
    "obj.__dict__['over'] = 8  # Bypassing the descriptor, setting a value directly to the obj.__dict__."
   ]
  },
  {
   "cell_type": "code",
   "execution_count": 28,
   "id": "3e969172",
   "metadata": {},
   "outputs": [
    {
     "data": {
      "text/plain": [
       "{'over': 8}"
      ]
     },
     "execution_count": 28,
     "metadata": {},
     "output_type": "execute_result"
    }
   ],
   "source": [
    "vars(obj)"
   ]
  },
  {
   "cell_type": "code",
   "execution_count": 29,
   "id": "a997b166",
   "metadata": {},
   "outputs": [
    {
     "name": "stdout",
     "output_type": "stream",
     "text": [
      "-> Overriding.__get__(<Overriding object>, <Managed object>, <class Managed>)\n"
     ]
    }
   ],
   "source": [
    "obj.over  # However, even with an instance attribute named over, the Managed.over\n",
    "# descriptor still overrides attempts to read obj.over."
   ]
  },
  {
   "cell_type": "markdown",
   "id": "4ce1ed69",
   "metadata": {},
   "source": [
    "### Overriding Descriptor Without `__get__`\n",
    "\n",
    "Usually, overriding descriptors implement both `__set__` and `__get__`, but it’s also possible to implement only `__set__`, as we saw in Example 20-1. In this case, only writing is handled by the descriptor. Reading the descriptor through an instance will return the descriptor object itself because there is no `__get__` to handle that access. If a namesake instance attribute is created with a new value via direct access to the instance `__dict__`, the `__set__` method will still override further attempts to set that attribute,\n",
    "but reading that attribute will simply return the new value from the instance, instead of returning the descriptor object. In other words, the instance attribute will shadow the descriptor, but only when reading."
   ]
  },
  {
   "cell_type": "code",
   "execution_count": 30,
   "id": "1c90f7dc",
   "metadata": {},
   "outputs": [
    {
     "data": {
      "text/plain": [
       "<__main__.OverridingNoGet at 0x2033dac4880>"
      ]
     },
     "execution_count": 30,
     "metadata": {},
     "output_type": "execute_result"
    }
   ],
   "source": [
    "obj.over_no_get  # This overriding descriptor doesn’t have a __get__ method, so reading\n",
    "# obj.over_no_get retrieves the descriptor instance from the class."
   ]
  },
  {
   "cell_type": "code",
   "execution_count": 31,
   "id": "da40d97a",
   "metadata": {},
   "outputs": [
    {
     "data": {
      "text/plain": [
       "<__main__.OverridingNoGet at 0x2033dac4880>"
      ]
     },
     "execution_count": 31,
     "metadata": {},
     "output_type": "execute_result"
    }
   ],
   "source": [
    "Managed.over_no_get  # The same thing happens if we retrieve the descriptor instance directly from the\n",
    "# managed class."
   ]
  },
  {
   "cell_type": "code",
   "execution_count": 32,
   "id": "fa5bd3d8",
   "metadata": {},
   "outputs": [
    {
     "name": "stdout",
     "output_type": "stream",
     "text": [
      "-> OverridingNoGet.__set__(<OverridingNoGet object>, <Managed object>, 7)\n"
     ]
    }
   ],
   "source": [
    "obj.over_no_get = 7  # Trying to set a value to obj.over_no_get invokes the __set__ descriptor\n",
    "# method."
   ]
  },
  {
   "cell_type": "code",
   "execution_count": 33,
   "id": "c97d7748",
   "metadata": {},
   "outputs": [
    {
     "data": {
      "text/plain": [
       "<__main__.OverridingNoGet at 0x2033dac4880>"
      ]
     },
     "execution_count": 33,
     "metadata": {},
     "output_type": "execute_result"
    }
   ],
   "source": [
    "obj.over_no_get  # Because our __set__ doesn’t make changes, reading obj.over_no_get again\n",
    "# retrieves the descriptor instance from the managed class."
   ]
  },
  {
   "cell_type": "code",
   "execution_count": 34,
   "id": "9cc03abf",
   "metadata": {},
   "outputs": [],
   "source": [
    "obj.__dict__['over_no_get'] = 9  # Going through the instance __dict__ to set an instance attribute named\n",
    "# over_no_get."
   ]
  },
  {
   "cell_type": "code",
   "execution_count": 35,
   "id": "ac41ebc3",
   "metadata": {},
   "outputs": [
    {
     "data": {
      "text/plain": [
       "9"
      ]
     },
     "execution_count": 35,
     "metadata": {},
     "output_type": "execute_result"
    }
   ],
   "source": [
    "obj.over_no_get  # Now that over_no_get instance attribute shadows the descriptor, but only for\n",
    "# reading."
   ]
  },
  {
   "cell_type": "code",
   "execution_count": 36,
   "id": "407e2774",
   "metadata": {},
   "outputs": [
    {
     "name": "stdout",
     "output_type": "stream",
     "text": [
      "-> OverridingNoGet.__set__(<OverridingNoGet object>, <Managed object>, 7)\n"
     ]
    }
   ],
   "source": [
    "obj.over_no_get = 7  # Trying to assign a value to obj.over_no_get still goes through the descriptor\n",
    "# set."
   ]
  },
  {
   "cell_type": "code",
   "execution_count": 37,
   "id": "75d3a027",
   "metadata": {},
   "outputs": [
    {
     "data": {
      "text/plain": [
       "9"
      ]
     },
     "execution_count": 37,
     "metadata": {},
     "output_type": "execute_result"
    }
   ],
   "source": [
    "obj.over_no_get  # But for reading, that descriptor is shadowed as long as there is a namesake\n",
    "# instance attribute."
   ]
  },
  {
   "cell_type": "markdown",
   "id": "8d5a3daa",
   "metadata": {},
   "source": [
    "### Nonoverriding Descriptor\n",
    "If a descriptor does not implement `__set__`, then it’s a nonoverriding descriptor. Setting an instance attribute with the same name will shadow the descriptor, rendering it ineffective for handling that attribute in that specific instance. Methods are implemented as nonoverriding descriptors."
   ]
  },
  {
   "cell_type": "code",
   "execution_count": 38,
   "id": "05dca737",
   "metadata": {},
   "outputs": [
    {
     "name": "stdout",
     "output_type": "stream",
     "text": [
      "-> NonOverriding.__get__(<NonOverriding object>, <Managed object>, <class Managed>)\n"
     ]
    }
   ],
   "source": [
    "obj = Managed()\n",
    "obj.non_over  # obj.non_over triggersthe descriptor __get__ method, passing obj asthe second\n",
    "# argument."
   ]
  },
  {
   "cell_type": "code",
   "execution_count": 39,
   "id": "10d184fa",
   "metadata": {},
   "outputs": [],
   "source": [
    "obj.non_over = 7  # Managed.non_over is a nonoverriding descriptor, so there is no __set__ to\n",
    "# interfere with this assignment."
   ]
  },
  {
   "cell_type": "code",
   "execution_count": 40,
   "id": "1477b0f0",
   "metadata": {},
   "outputs": [
    {
     "data": {
      "text/plain": [
       "7"
      ]
     },
     "execution_count": 40,
     "metadata": {},
     "output_type": "execute_result"
    }
   ],
   "source": [
    "obj.non_over  # The obj now has an instance attribute named non_over, which shadows the\n",
    "# namesake descriptor attribute in the Managed class."
   ]
  },
  {
   "cell_type": "code",
   "execution_count": 41,
   "id": "e9ecc083",
   "metadata": {},
   "outputs": [
    {
     "name": "stdout",
     "output_type": "stream",
     "text": [
      "-> NonOverriding.__get__(<NonOverriding object>, None, <class Managed>)\n"
     ]
    }
   ],
   "source": [
    "Managed.non_over  # The Managed.non_over descriptor is still there, and catches this access via the\n",
    "# class."
   ]
  },
  {
   "cell_type": "code",
   "execution_count": 42,
   "id": "609cc400",
   "metadata": {},
   "outputs": [],
   "source": [
    "del obj.non_over  # If the non_over instance attribute is deleted…"
   ]
  },
  {
   "cell_type": "code",
   "execution_count": 43,
   "id": "b63ce0d5",
   "metadata": {},
   "outputs": [
    {
     "name": "stdout",
     "output_type": "stream",
     "text": [
      "-> NonOverriding.__get__(<NonOverriding object>, <Managed object>, <class Managed>)\n"
     ]
    }
   ],
   "source": [
    "obj.non_over  # Then reading obj.non_over hits the __get__ method of the descriptor in the\n",
    "# class, but note that the second argument is the managed instance."
   ]
  },
  {
   "cell_type": "markdown",
   "id": "7e15ee70",
   "metadata": {},
   "source": [
    "### Overwriting a Descriptor in the Class\n",
    "Regardless of whether a descriptor is overriding or not, it can be overwritten by assignment to the class. This is a monkey-patching technique, but in Example 20-12 the descriptors are replaced by integers, which would effectively break any class that depended on the descriptors for proper operation."
   ]
  },
  {
   "cell_type": "code",
   "execution_count": 44,
   "id": "76e80468",
   "metadata": {},
   "outputs": [
    {
     "data": {
      "text/plain": [
       "(1, 2, 3)"
      ]
     },
     "execution_count": 44,
     "metadata": {},
     "output_type": "execute_result"
    }
   ],
   "source": [
    "obj = Managed() \n",
    "Managed.over = 1 \n",
    "Managed.over_no_get = 2\n",
    "Managed.non_over = 3\n",
    "obj.over, obj.over_no_get, obj.non_over"
   ]
  },
  {
   "cell_type": "markdown",
   "id": "f2f2cbc1",
   "metadata": {},
   "source": [
    "Although the reading of a class attribute can be controlled by a descriptor with `__get__` attached to the managed class, the writing of a class attribute cannot be handled by a descriptor with `__set__` attached to the same class.\n",
    "\n",
    "In order to control the setting of attributes in a class, you have to\n",
    "attach descriptors to the class of the class—in other words, the\n",
    "metaclass. By default, the metaclass of user-defined classes is type,\n",
    "and you cannot add attributes to type.\n",
    "\n",
    "## Methods Are Descriptors\n",
    "A function within a class becomes a bound method because all user-defined functions have a `__get__` method, therefore they operate as descriptors when attached to a class."
   ]
  },
  {
   "cell_type": "code",
   "execution_count": 45,
   "id": "146aa511",
   "metadata": {},
   "outputs": [
    {
     "data": {
      "text/plain": [
       "<bound method Managed.spam of <__main__.Managed object at 0x000002033DAE25E0>>"
      ]
     },
     "execution_count": 45,
     "metadata": {},
     "output_type": "execute_result"
    }
   ],
   "source": [
    "obj = Managed()\n",
    "obj.spam  # Reading from obj.spam retrieves a bound method object."
   ]
  },
  {
   "cell_type": "code",
   "execution_count": 46,
   "id": "e91bbc70",
   "metadata": {},
   "outputs": [
    {
     "data": {
      "text/plain": [
       "<function __main__.Managed.spam(self)>"
      ]
     },
     "execution_count": 46,
     "metadata": {},
     "output_type": "execute_result"
    }
   ],
   "source": [
    "Managed.spam  # But reading from Managed.spam retrieves a function."
   ]
  },
  {
   "cell_type": "code",
   "execution_count": 47,
   "id": "790faeb7",
   "metadata": {},
   "outputs": [
    {
     "data": {
      "text/plain": [
       "7"
      ]
     },
     "execution_count": 47,
     "metadata": {},
     "output_type": "execute_result"
    }
   ],
   "source": [
    "obj.spam = 7\n",
    "obj.spam  # Assigning a value to obj.spam shadows the class attribute, rendering the spam\n",
    "# method inaccessible from the obj instance."
   ]
  },
  {
   "cell_type": "markdown",
   "id": "fa4c2f4d",
   "metadata": {},
   "source": [
    "Because functions do not implement __set__, they are nonoverriding descriptors.\n",
    "\n",
    "The other key takeaway from Example 20-13 is that obj.spam and Managed.spam retrieve different objects. As usual with descriptors, the `__get__` of a function returns a reference to itself when the access happens through the managed class. But when the access goes through an instance, the `__get__` of the function returns a bound method object: a callable that wraps the function and binds the managed instance (e.g., obj) to the first argument of the function (i.e., self), like the functools.partial function does."
   ]
  },
  {
   "cell_type": "code",
   "execution_count": 48,
   "id": "d3b9d24a",
   "metadata": {},
   "outputs": [],
   "source": [
    "import collections"
   ]
  },
  {
   "cell_type": "code",
   "execution_count": 49,
   "id": "38924b54",
   "metadata": {},
   "outputs": [],
   "source": [
    "class Text(collections.UserString):\n",
    "    \n",
    "    def __repr__(self):\n",
    "        return 'Text({!r})'.format(self.data)\n",
    "    \n",
    "    def reverse(self):\n",
    "        return self[::-1]"
   ]
  },
  {
   "cell_type": "code",
   "execution_count": 50,
   "id": "cb327654",
   "metadata": {},
   "outputs": [
    {
     "data": {
      "text/plain": [
       "Text('forward')"
      ]
     },
     "execution_count": 50,
     "metadata": {},
     "output_type": "execute_result"
    }
   ],
   "source": [
    "word = Text('forward')\n",
    "word"
   ]
  },
  {
   "cell_type": "code",
   "execution_count": 51,
   "id": "19f0312a",
   "metadata": {},
   "outputs": [
    {
     "data": {
      "text/plain": [
       "Text('drawrof')"
      ]
     },
     "execution_count": 51,
     "metadata": {},
     "output_type": "execute_result"
    }
   ],
   "source": [
    "word.reverse()"
   ]
  },
  {
   "cell_type": "code",
   "execution_count": 52,
   "id": "61450c15",
   "metadata": {},
   "outputs": [
    {
     "data": {
      "text/plain": [
       "Text('drawkcab')"
      ]
     },
     "execution_count": 52,
     "metadata": {},
     "output_type": "execute_result"
    }
   ],
   "source": [
    "Text.reverse(Text('backward'))"
   ]
  },
  {
   "cell_type": "code",
   "execution_count": 53,
   "id": "ca6d3aed",
   "metadata": {},
   "outputs": [
    {
     "data": {
      "text/plain": [
       "(function, method)"
      ]
     },
     "execution_count": 53,
     "metadata": {},
     "output_type": "execute_result"
    }
   ],
   "source": [
    "type(Text.reverse), type(word.reverse)  # Note the different types: a function and a method."
   ]
  },
  {
   "cell_type": "code",
   "execution_count": 54,
   "id": "69b55ea5",
   "metadata": {},
   "outputs": [
    {
     "data": {
      "text/plain": [
       "['diaper', (30, 20, 10), Text('desserts')]"
      ]
     },
     "execution_count": 54,
     "metadata": {},
     "output_type": "execute_result"
    }
   ],
   "source": [
    "list(map(Text.reverse, ['repaid', (10, 20, 30), Text('stressed')]))\n",
    "# Text.reverse operates as a function, even working with objects that are not\n",
    "# instances of Text."
   ]
  },
  {
   "cell_type": "code",
   "execution_count": 55,
   "id": "32001349",
   "metadata": {},
   "outputs": [
    {
     "data": {
      "text/plain": [
       "<bound method Text.reverse of Text('forward')>"
      ]
     },
     "execution_count": 55,
     "metadata": {},
     "output_type": "execute_result"
    }
   ],
   "source": [
    "Text.reverse.__get__(word)  # Any function is a nonoverriding descriptor. Calling its __get__ with an instance\n",
    "# retrieves a method bound to that instance."
   ]
  },
  {
   "cell_type": "code",
   "execution_count": 56,
   "id": "0c23542b",
   "metadata": {},
   "outputs": [
    {
     "data": {
      "text/plain": [
       "<function __main__.Text.reverse(self)>"
      ]
     },
     "execution_count": 56,
     "metadata": {},
     "output_type": "execute_result"
    }
   ],
   "source": [
    "Text.reverse.__get__(None, Text)  # Calling the function’s __get__ with None as the instance argument retrieves the\n",
    "# function itself."
   ]
  },
  {
   "cell_type": "code",
   "execution_count": 57,
   "id": "cdf2792e",
   "metadata": {},
   "outputs": [
    {
     "data": {
      "text/plain": [
       "<bound method Text.reverse of Text('forward')>"
      ]
     },
     "execution_count": 57,
     "metadata": {},
     "output_type": "execute_result"
    }
   ],
   "source": [
    "word.reverse  # The expression word.reverse actually invokes Text.reverse.__get__(word),\n",
    "# returning the bound method."
   ]
  },
  {
   "cell_type": "code",
   "execution_count": 58,
   "id": "871c59e6",
   "metadata": {},
   "outputs": [
    {
     "data": {
      "text/plain": [
       "Text('forward')"
      ]
     },
     "execution_count": 58,
     "metadata": {},
     "output_type": "execute_result"
    }
   ],
   "source": [
    "word.reverse.__self__  # The bound method object has a __self__ attribute holding a reference to the\n",
    "# instance on which the method was called."
   ]
  },
  {
   "cell_type": "code",
   "execution_count": 59,
   "id": "31794e08",
   "metadata": {},
   "outputs": [
    {
     "data": {
      "text/plain": [
       "True"
      ]
     },
     "execution_count": 59,
     "metadata": {},
     "output_type": "execute_result"
    }
   ],
   "source": [
    "word.reverse.__func__ is Text.reverse  # The __func__ attribute of the bound method is a reference to the original\n",
    "# function attached to the managed class."
   ]
  }
 ],
 "metadata": {
  "kernelspec": {
   "display_name": "Python 3 (ipykernel)",
   "language": "python",
   "name": "python3"
  },
  "language_info": {
   "codemirror_mode": {
    "name": "ipython",
    "version": 3
   },
   "file_extension": ".py",
   "mimetype": "text/x-python",
   "name": "python",
   "nbconvert_exporter": "python",
   "pygments_lexer": "ipython3",
   "version": "3.8.12"
  }
 },
 "nbformat": 4,
 "nbformat_minor": 5
}
