{
 "cells": [
  {
   "cell_type": "markdown",
   "id": "e598b34d",
   "metadata": {},
   "source": [
    "Data attributes and methods are collectively known as attributes in Python: a method is just an attribute that is callable. Besides data attributes and methods, we can also create properties, which can be used to replace a public data attribute with accessor methods (i.e., getter/setter), without changing the class interface. This agrees with the Uniform access principle:\n",
    "\n",
    "> All services offered by a module should be available through a uniform notation, which does not betray whether they are implemented through storage or through computation."
   ]
  },
  {
   "cell_type": "code",
   "execution_count": 1,
   "id": "662f547a",
   "metadata": {},
   "outputs": [],
   "source": [
    "import os\n",
    "import json\n",
    "import warnings\n",
    "from urllib.request import urlopen"
   ]
  },
  {
   "cell_type": "code",
   "execution_count": 2,
   "id": "dd3e873a",
   "metadata": {},
   "outputs": [],
   "source": [
    "URL = 'https://raw.githubusercontent.com/AllenDowney/fluent-python-notebooks/master/19-dyn-attr-prop/oscon/data/osconfeed.json'  \n",
    "JSON = 'osconfeed.json'"
   ]
  },
  {
   "cell_type": "code",
   "execution_count": 3,
   "id": "5c53e233",
   "metadata": {},
   "outputs": [],
   "source": [
    "def load():\n",
    "    if not os.path.exists(JSON):\n",
    "        msg = 'downloading {} to {}'.format(URL, JSON)\n",
    "        warnings.warn(msg)\n",
    "        with urlopen(URL) as remote, open(JSON, 'wb') as local:\n",
    "            local.write(remote.read())\n",
    "    \n",
    "    with open(JSON) as fp:\n",
    "        return json.load(fp)"
   ]
  },
  {
   "cell_type": "code",
   "execution_count": 4,
   "id": "505b4839",
   "metadata": {},
   "outputs": [],
   "source": [
    "feed = load()"
   ]
  },
  {
   "cell_type": "code",
   "execution_count": 5,
   "id": "813ab163",
   "metadata": {},
   "outputs": [
    {
     "data": {
      "text/plain": [
       "['conferences', 'events', 'speakers', 'venues']"
      ]
     },
     "execution_count": 5,
     "metadata": {},
     "output_type": "execute_result"
    }
   ],
   "source": [
    "sorted(feed['Schedule'].keys())"
   ]
  },
  {
   "cell_type": "code",
   "execution_count": 6,
   "id": "7159cd39",
   "metadata": {},
   "outputs": [
    {
     "name": "stdout",
     "output_type": "stream",
     "text": [
      "  1 conferences\n",
      "484 events\n",
      "357 speakers\n",
      " 53 venues\n"
     ]
    }
   ],
   "source": [
    "for key, value in sorted(feed['Schedule'].items()):\n",
    "    print('{:3} {}'.format(len(value), key))"
   ]
  },
  {
   "cell_type": "code",
   "execution_count": 7,
   "id": "e2505ce6",
   "metadata": {},
   "outputs": [
    {
     "data": {
      "text/plain": [
       "'Carina C. Zona'"
      ]
     },
     "execution_count": 7,
     "metadata": {},
     "output_type": "execute_result"
    }
   ],
   "source": [
    "feed['Schedule']['speakers'][-1]['name']"
   ]
  },
  {
   "cell_type": "code",
   "execution_count": 8,
   "id": "2b3c0747",
   "metadata": {},
   "outputs": [
    {
     "data": {
      "text/plain": [
       "141590"
      ]
     },
     "execution_count": 8,
     "metadata": {},
     "output_type": "execute_result"
    }
   ],
   "source": [
    "feed['Schedule']['speakers'][-1]['serial']"
   ]
  },
  {
   "cell_type": "code",
   "execution_count": 9,
   "id": "802f9510",
   "metadata": {},
   "outputs": [
    {
     "data": {
      "text/plain": [
       "'There *Will* Be Bugs'"
      ]
     },
     "execution_count": 9,
     "metadata": {},
     "output_type": "execute_result"
    }
   ],
   "source": [
    "feed['Schedule']['events'][40]['name']"
   ]
  },
  {
   "cell_type": "code",
   "execution_count": 10,
   "id": "53ed710d",
   "metadata": {},
   "outputs": [
    {
     "data": {
      "text/plain": [
       "[3471, 5199]"
      ]
     },
     "execution_count": 10,
     "metadata": {},
     "output_type": "execute_result"
    }
   ],
   "source": [
    "feed['Schedule']['events'][40]['speakers']"
   ]
  },
  {
   "cell_type": "code",
   "execution_count": 11,
   "id": "406b8754",
   "metadata": {},
   "outputs": [],
   "source": [
    "from collections import abc"
   ]
  },
  {
   "cell_type": "code",
   "execution_count": 12,
   "id": "9aa064ae",
   "metadata": {},
   "outputs": [],
   "source": [
    "class FrozenJSON:\n",
    "    \"\"\"\n",
    "    A read-only facade for navigating a JSON-like object using attribute notation.\n",
    "    \"\"\"\n",
    "    \n",
    "    def __init__(self, mapping):\n",
    "        self.__data = dict(mapping)\n",
    "        # Build a dict from the mapping argument. This serves two purposes:\n",
    "        # ensures we got a dict (or something that can be converted to one)\n",
    "        # and makes a copy for safety.\n",
    "    \n",
    "    def __getattr__(self, name):\n",
    "        if hasattr(self.__data, name):\n",
    "            return getattr(self.__data, name)\n",
    "        else:\n",
    "            return FrozenJSON.build(self.__data[name])\n",
    "    \n",
    "    @classmethod\n",
    "    def build(cls, obj):\n",
    "        if isinstance(obj, abc.Mapping):\n",
    "            return cls(obj)\n",
    "        elif isinstance(obj, abc.MutableSequence):\n",
    "            return [cls.build(item) for item in obj]\n",
    "        else:\n",
    "            return obj"
   ]
  },
  {
   "cell_type": "markdown",
   "id": "e19c369b",
   "metadata": {},
   "source": [
    "*It’s essential to recall that the `__getattr__` special method is only invoked by the interpreter when the usual process fails to retrieve an attribute (i.e., when the named attribute cannot be found in the instance, nor in the class or in its superclasses)*.\n",
    "\n",
    "As shown, the FrozenJSON class has only two methods (`__init__`, `__getattr__`) and a `__data` instance attribute, so attempts to retrieve an attribute by any other name will trigger `__getattr__`. This method will first look if the `self.__data` dict has an attribute (**not a key!**) by that name; this allows FrozenJSON instances to handle any dict method such as items, by delegating to `self.__data.items()`. If `self.___data` doesn’t have an attribute with the given name, `__getattr__` uses name as a key to retrieve an item from `self.__dict`, and passes that item to `FrozenJSON.build`. This allows navigating through nested structures in the JSON data, as each nested mapping is converted to another FrozenJSON instance by the build class method."
   ]
  },
  {
   "cell_type": "code",
   "execution_count": 13,
   "id": "ac465e2b",
   "metadata": {},
   "outputs": [
    {
     "data": {
      "text/plain": [
       "357"
      ]
     },
     "execution_count": 13,
     "metadata": {},
     "output_type": "execute_result"
    }
   ],
   "source": [
    "raw_feed = load()\n",
    "feed = FrozenJSON(raw_feed)\n",
    "len(feed.Schedule.speakers)"
   ]
  },
  {
   "cell_type": "code",
   "execution_count": 14,
   "id": "7827b3f9",
   "metadata": {},
   "outputs": [
    {
     "data": {
      "text/plain": [
       "['conferences', 'events', 'speakers', 'venues']"
      ]
     },
     "execution_count": 14,
     "metadata": {},
     "output_type": "execute_result"
    }
   ],
   "source": [
    "sorted(feed.Schedule.keys())"
   ]
  },
  {
   "cell_type": "code",
   "execution_count": 15,
   "id": "b0796352",
   "metadata": {},
   "outputs": [
    {
     "name": "stdout",
     "output_type": "stream",
     "text": [
      "  1 conferences\n",
      "484 events\n",
      "357 speakers\n",
      " 53 venues\n"
     ]
    }
   ],
   "source": [
    "for key, value in sorted(feed.Schedule.items()): \n",
    "    print('{:3} {}'.format(len(value), key))"
   ]
  },
  {
   "cell_type": "code",
   "execution_count": 16,
   "id": "70d174a5",
   "metadata": {},
   "outputs": [
    {
     "data": {
      "text/plain": [
       "'Tim Bray'"
      ]
     },
     "execution_count": 16,
     "metadata": {},
     "output_type": "execute_result"
    }
   ],
   "source": [
    "feed.Schedule.speakers[40].name"
   ]
  },
  {
   "cell_type": "code",
   "execution_count": 17,
   "id": "6f96b506",
   "metadata": {},
   "outputs": [
    {
     "data": {
      "text/plain": [
       "__main__.FrozenJSON"
      ]
     },
     "execution_count": 17,
     "metadata": {},
     "output_type": "execute_result"
    }
   ],
   "source": [
    "type(feed.Schedule.events[40])"
   ]
  },
  {
   "cell_type": "code",
   "execution_count": 18,
   "id": "bf25bf56",
   "metadata": {},
   "outputs": [
    {
     "data": {
      "text/plain": [
       "'There *Will* Be Bugs'"
      ]
     },
     "execution_count": 18,
     "metadata": {},
     "output_type": "execute_result"
    }
   ],
   "source": [
    "talk = feed.Schedule.events[40]\n",
    "talk.name"
   ]
  },
  {
   "cell_type": "code",
   "execution_count": 19,
   "id": "f175493d",
   "metadata": {},
   "outputs": [
    {
     "data": {
      "text/plain": [
       "[3471, 5199]"
      ]
     },
     "execution_count": 19,
     "metadata": {},
     "output_type": "execute_result"
    }
   ],
   "source": [
    "talk.speakers"
   ]
  },
  {
   "cell_type": "markdown",
   "id": "1a90b64c",
   "metadata": {},
   "source": [
    "### The Invalid Attribute Name Problem"
   ]
  },
  {
   "cell_type": "code",
   "execution_count": 20,
   "id": "7da8e247",
   "metadata": {},
   "outputs": [],
   "source": [
    "grad = FrozenJSON({'name': 'Jim Bo', 'class': 1982})"
   ]
  },
  {
   "cell_type": "code",
   "execution_count": 21,
   "id": "8d59d149",
   "metadata": {},
   "outputs": [],
   "source": [
    "# You won’t be able to read grad.class because class is a reserved word in Python:\n",
    "# grad.class\n",
    "# It will give SyntaxError"
   ]
  },
  {
   "cell_type": "code",
   "execution_count": 22,
   "id": "04c9fd91",
   "metadata": {},
   "outputs": [
    {
     "data": {
      "text/plain": [
       "1982"
      ]
     },
     "execution_count": 22,
     "metadata": {},
     "output_type": "execute_result"
    }
   ],
   "source": [
    "# You can always do this, of course:\n",
    "getattr(grad, 'class')"
   ]
  },
  {
   "cell_type": "markdown",
   "id": "df53f170",
   "metadata": {},
   "source": [
    "But the idea of FrozenJSON is to provide convenient access to the data, so a better solution is checking whether a key in the mapping given to `FrozenJSON.__init__` is a keyword, and if so, append an _ to it.\n",
    "\n",
    "A similar problem may arise if a key in the JSON is not a valid Python identifier:\n",
    "\n",
    "` x = FrozenJSON({'2be':'or not'}) `\n",
    "\n",
    "` x.2be `  ***SyntaxError***\n",
    "\n",
    "Such problematic keys are easy to detect in Python 3 because the str class provides the `s.isidentifier()` method, which tells you whether s is a valid Python identifier according to the language grammar. But turning a key that is not a valid identifier into valid attribute name is not trivial. Two simple solutions would be raising an exception or replacing the invalid keys with generic names like attr_0, attr_1, and so on. "
   ]
  },
  {
   "cell_type": "code",
   "execution_count": 23,
   "id": "4ae637bd",
   "metadata": {},
   "outputs": [],
   "source": [
    "import keyword"
   ]
  },
  {
   "cell_type": "code",
   "execution_count": 24,
   "id": "0acd329c",
   "metadata": {},
   "outputs": [],
   "source": [
    "class FrozenJSON:\n",
    "    \"\"\"\n",
    "    A read-only facade for navigating a JSON-like object using attribute notation.\n",
    "    \"\"\"\n",
    "    \n",
    "    def __init__(self, mapping):\n",
    "        def __init__(self, mapping):\n",
    "            self.__data = {}\n",
    "            for key, value in mapping.items():\n",
    "                if not key.isidentifier():\n",
    "                    raise NameError('Not a valid Python identifier')\n",
    "                if keyword.iskeyword(key): \n",
    "                    key += '_'\n",
    "                self.__data[key] = value\n",
    "    \n",
    "    def __getattr__(self, name):\n",
    "        if hasattr(self.__data, name):\n",
    "            return getattr(self.__data, name)\n",
    "        else:\n",
    "            return FrozenJSON.build(self.__data[name])\n",
    "    \n",
    "    @classmethod\n",
    "    def build(cls, obj):\n",
    "        if isinstance(obj, abc.Mapping):\n",
    "            return cls(obj)\n",
    "        elif isinstance(obj, abc.MutableSequence):\n",
    "            return [cls.build(item) for item in obj]\n",
    "        else:\n",
    "            return obj"
   ]
  },
  {
   "cell_type": "markdown",
   "id": "42fe63d3",
   "metadata": {},
   "source": [
    "## Flexible Object Creation with `__new__`\n",
    "The special method that actually constructs an instance is `__new__`: it’s a class method (but gets special treatment, so the `@classmethod` decorator is not used), and it must return an instance.\n",
    "\n",
    "The path just described, from `__new__` to `__init__`, is the most common, but not the only one. The `__new__` method can also return an instance of a different class, and when that happens, the interpreter does not call `__init__`."
   ]
  },
  {
   "cell_type": "code",
   "execution_count": 25,
   "id": "b21625b1",
   "metadata": {},
   "outputs": [],
   "source": [
    "def object_maker(the_class, some_arg):\n",
    "    new_object = the_class.__new__(some_arg)\n",
    "    if isinstance(new_object, the_class):\n",
    "        the_class.__init__(new_object, some_arg)\n",
    "    return new_object"
   ]
  },
  {
   "cell_type": "code",
   "execution_count": 26,
   "id": "7d26330d",
   "metadata": {},
   "outputs": [],
   "source": [
    "class FrozenJSON:\n",
    "    \"\"\"\n",
    "    Using new instead of build to construct new objects that may or may not\n",
    "    be instances of FrozenJSON.\n",
    "    \"\"\"\n",
    "    \n",
    "    def __new__(cls, arg): \n",
    "        if isinstance(arg, abc.Mapping):\n",
    "            return super().__new__(cls) \n",
    "        elif isinstance(arg, abc.MutableSequence): \n",
    "            return [cls(item) for item in arg]\n",
    "        else:\n",
    "            return arg\n",
    "    \n",
    "    def __init__(self, mapping):\n",
    "        def __init__(self, mapping):\n",
    "            self.__data = {}\n",
    "            for key, value in mapping.items():\n",
    "                if not key.isidentifier():\n",
    "                    raise NameError('Not a valid Python identifier')\n",
    "                if keyword.iskeyword(key): \n",
    "                    key += '_'\n",
    "                self.__data[key] = value\n",
    "    \n",
    "    def __getattr__(self, name):\n",
    "        if hasattr(self.__data, name):\n",
    "            return getattr(self.__data, name)\n",
    "        else:\n",
    "            return FrozenJSON.build(self.__data[name])"
   ]
  },
  {
   "cell_type": "markdown",
   "id": "777cf3a3",
   "metadata": {},
   "source": [
    "The `__new__` method gets the class as the first argument because, usually, the created object will be an instance of that class.\n",
    "\n",
    "### Restructuring the OSCON Feed with shelve"
   ]
  },
  {
   "cell_type": "code",
   "execution_count": 27,
   "id": "1681f42b",
   "metadata": {},
   "outputs": [],
   "source": [
    "DB_NAME = 'schedule1_db'\n",
    "CONFERENCE = 'conference.115'"
   ]
  },
  {
   "cell_type": "code",
   "execution_count": 28,
   "id": "0f097f1c",
   "metadata": {},
   "outputs": [],
   "source": [
    "class Record:\n",
    "    def __init__(self, **kwargs):\n",
    "        self.__dict__.update(kwargs)  # <2>"
   ]
  },
  {
   "cell_type": "markdown",
   "id": "120ad995",
   "metadata": {},
   "source": [
    "The `Record.__init__` method illustrates a popular Python hack. Recall that the `__dict__` of an object is where its attributes are kept—unless `__slots__` is declared in the class. So, updating an instance `__dict__` with a mapping is a quick way to create a bunch of attributes in that instance."
   ]
  },
  {
   "cell_type": "code",
   "execution_count": 29,
   "id": "67909f11",
   "metadata": {},
   "outputs": [],
   "source": [
    "def load_db(db):\n",
    "    raw_data = load()\n",
    "    warnings.warn('loading ' + DB_NAME)\n",
    "    for collection, rec_list in raw_data['Schedule'].items():  # <4>\n",
    "        record_type = collection[:-1]  # <5>\n",
    "        for record in rec_list:\n",
    "            key = '{}.{}'.format(record_type, record['serial'])  # <6>\n",
    "            record['serial'] = key  # <7>\n",
    "            db[key] = Record(**record)  # <8>"
   ]
  },
  {
   "cell_type": "code",
   "execution_count": 30,
   "id": "173707ae",
   "metadata": {},
   "outputs": [],
   "source": [
    "import shelve"
   ]
  },
  {
   "cell_type": "code",
   "execution_count": 31,
   "id": "3aba6ae8",
   "metadata": {},
   "outputs": [],
   "source": [
    "db = shelve.open(DB_NAME)\n",
    "if CONFERENCE not in db:\n",
    "    # A quick way to determine if the database is populated is to look for a known key,\n",
    "    # in this case conference.115—the key to the single conference record.\n",
    "    # If the database is empty, call load_db(db) to load it\n",
    "    load_db(db)"
   ]
  },
  {
   "cell_type": "code",
   "execution_count": 32,
   "id": "b33fc6e9",
   "metadata": {},
   "outputs": [],
   "source": [
    "speaker = db['speaker.3471']"
   ]
  },
  {
   "cell_type": "code",
   "execution_count": 33,
   "id": "4fa68153",
   "metadata": {},
   "outputs": [
    {
     "data": {
      "text/plain": [
       "__main__.Record"
      ]
     },
     "execution_count": 33,
     "metadata": {},
     "output_type": "execute_result"
    }
   ],
   "source": [
    "type(speaker)"
   ]
  },
  {
   "cell_type": "code",
   "execution_count": 34,
   "id": "877c5900",
   "metadata": {},
   "outputs": [
    {
     "data": {
      "text/plain": [
       "('Anna Martelli Ravenscroft', 'annaraven')"
      ]
     },
     "execution_count": 34,
     "metadata": {},
     "output_type": "execute_result"
    }
   ],
   "source": [
    "speaker.name, speaker.twitter"
   ]
  },
  {
   "cell_type": "code",
   "execution_count": 35,
   "id": "79492fd5",
   "metadata": {},
   "outputs": [],
   "source": [
    "db.close()"
   ]
  },
  {
   "cell_type": "markdown",
   "id": "1ece66fd",
   "metadata": {},
   "source": [
    "### Linked Record Retrieval with Properties"
   ]
  },
  {
   "cell_type": "code",
   "execution_count": 36,
   "id": "d1b945b1",
   "metadata": {},
   "outputs": [],
   "source": [
    "DB_NAME = 'schedule2_db'\n",
    "CONFERENCE = 'conference.115'"
   ]
  },
  {
   "cell_type": "code",
   "execution_count": 37,
   "id": "cca1ac9e",
   "metadata": {},
   "outputs": [],
   "source": [
    "class Record:\n",
    "    def __init__(self, **kwargs):\n",
    "        self.__dict__.update(kwargs)\n",
    "\n",
    "    def __eq__(self, other):  # <3>\n",
    "        if isinstance(other, Record):\n",
    "            return self.__dict__ == other.__dict__\n",
    "        else:\n",
    "            return NotImplemented"
   ]
  },
  {
   "cell_type": "code",
   "execution_count": 38,
   "id": "81b91da6",
   "metadata": {},
   "outputs": [],
   "source": [
    "class MissingDatabaseError(RuntimeError):\n",
    "    \"\"\"Raised when a database is required but was not set.\"\"\"  # <1>"
   ]
  },
  {
   "cell_type": "code",
   "execution_count": 39,
   "id": "b6ffba58",
   "metadata": {},
   "outputs": [],
   "source": [
    "class DbRecord(Record):  # <2>\n",
    "\n",
    "    __db = None  # <3>\n",
    "\n",
    "    @staticmethod  # <4>\n",
    "    def set_db(db):\n",
    "        DbRecord.__db = db  # <5>\n",
    "\n",
    "    @staticmethod  # <6>\n",
    "    def get_db():\n",
    "        # I did not use a property to manage __db because of a crucial fact:\n",
    "        # properties are class attributes designed to manage instance attributes.\n",
    "        return DbRecord.__db\n",
    "\n",
    "    @classmethod  # <7>\n",
    "    def fetch(cls, ident):\n",
    "        db = cls.get_db()\n",
    "        try:\n",
    "            return db[ident]  # <8>\n",
    "        except TypeError:\n",
    "            if db is None:  # <9>\n",
    "                msg = \"database not set; call '{}.set_db(my_db)'\"\n",
    "                raise MissingDatabaseError(msg.format(cls.__name__))\n",
    "            else:  # <10>\n",
    "                raise\n",
    "\n",
    "    def __repr__(self):\n",
    "        if hasattr(self, 'serial'):  # <11>\n",
    "            cls_name = self.__class__.__name__\n",
    "            return '<{} serial={!r}>'.format(cls_name, self.serial)\n",
    "        else:\n",
    "            return super().__repr__()  # <12>"
   ]
  },
  {
   "cell_type": "code",
   "execution_count": 40,
   "id": "7d09ab6a",
   "metadata": {},
   "outputs": [],
   "source": [
    "class Event(DbRecord):  # <1>\n",
    "\n",
    "    @property\n",
    "    def venue(self):\n",
    "        key = 'venue.{}'.format(self.venue_serial)\n",
    "        return self.__class__.fetch(key)  # <2>\n",
    "\n",
    "    @property\n",
    "    def speakers(self):\n",
    "        if not hasattr(self, '_speaker_objs'):  # <3>\n",
    "            spkr_serials = self.__dict__['speakers']  # <4>\n",
    "            fetch = self.__class__.fetch  # <5>\n",
    "            self._speaker_objs = [fetch('speaker.{}'.format(key))\n",
    "                                  for key in spkr_serials]  # <6>\n",
    "        return self._speaker_objs  # <7>\n",
    "\n",
    "    def __repr__(self):\n",
    "        if hasattr(self, 'name'):  # <8>\n",
    "            cls_name = self.__class__.__name__\n",
    "            return '<{} {!r}>'.format(cls_name, self.name)\n",
    "        else:\n",
    "            return super().__repr__()  # <9>"
   ]
  },
  {
   "cell_type": "markdown",
   "id": "5e4e95ef",
   "metadata": {},
   "source": [
    "2. The venue property builds a key from the venue_serial attribute, and passes it to the fetch class method, inherited from DbRecord.\n",
    "3. The speakers property checks if the record has a _speaker_objs attribute.\n",
    "4. If it doesn’t, the 'speakers' attribute is retrieved directly from the instance `__dict__` to avoid an infinite recursion, because the public name of this property is also speakers.\n",
    "5. Get a reference to the fetch class method.\n",
    "6. self._speaker_objs is loaded with a list of speaker records, using fetch.\n",
    "\n",
    "In the venue property, the last line returns `self.__class__.fetch(key)`. Why not write that simply as `self.fetch(key)`? The simpler formula works with the specific dataset of the OSCON feed because there is no event record with a 'fetch' key. If even a single event record had a key named 'fetch', then within that specific Event instance, the reference self.fetch would retrieve the value of that field, instead of the fetch class method that Event  inherits from DbRecord. This is a subtle bug, and it could easily sneak through testing and blow up only in production when the venue or speaker records linked to that specific Event record are retrieved."
   ]
  },
  {
   "cell_type": "code",
   "execution_count": 41,
   "id": "2a78f487",
   "metadata": {},
   "outputs": [],
   "source": [
    "def load_db(db):\n",
    "    raw_data = osconfeed.load()\n",
    "    warnings.warn('loading ' + DB_NAME)\n",
    "    for collection, rec_list in raw_data['Schedule'].items():\n",
    "        record_type = collection[:-1]  # <1>\n",
    "        cls_name = record_type.capitalize()  # <2>\n",
    "        cls = globals().get(cls_name, DbRecord)  # <3>\n",
    "        if inspect.isclass(cls) and issubclass(cls, DbRecord):  # <4>\n",
    "            factory = cls  # <5>\n",
    "        else:\n",
    "            factory = DbRecord  # <6>\n",
    "        for record in rec_list:  # <7>\n",
    "            key = '{}.{}'.format(record_type, record['serial'])\n",
    "            record['serial'] = key\n",
    "            db[key] = factory(**record)  # <8>"
   ]
  },
  {
   "cell_type": "markdown",
   "id": "26d2e9ca",
   "metadata": {},
   "source": [
    "## Using a Property for Attribute Validation\n",
    "\n",
    "### LineItem Take #1: Class for an Item in an Order"
   ]
  },
  {
   "cell_type": "code",
   "execution_count": 42,
   "id": "eddda85f",
   "metadata": {},
   "outputs": [],
   "source": [
    "class LineItem:\n",
    "    \n",
    "    def __init__(self, description, weight, price):\n",
    "        self.description = description\n",
    "        self.weight = weight\n",
    "        self.price = price\n",
    "    \n",
    "    def subtotal(self):\n",
    "        return self.weight * self.price"
   ]
  },
  {
   "cell_type": "code",
   "execution_count": 43,
   "id": "c5722b93",
   "metadata": {},
   "outputs": [],
   "source": [
    "raisins = LineItem('Golden raisins', 10, 6.95)"
   ]
  },
  {
   "cell_type": "code",
   "execution_count": 44,
   "id": "ef2b5d97",
   "metadata": {},
   "outputs": [
    {
     "data": {
      "text/plain": [
       "69.5"
      ]
     },
     "execution_count": 44,
     "metadata": {},
     "output_type": "execute_result"
    }
   ],
   "source": [
    "raisins.subtotal()"
   ]
  },
  {
   "cell_type": "code",
   "execution_count": 45,
   "id": "bf672cf8",
   "metadata": {},
   "outputs": [],
   "source": [
    "raisins.weight = -20 # garbage in..."
   ]
  },
  {
   "cell_type": "code",
   "execution_count": 46,
   "id": "4d7e90a8",
   "metadata": {},
   "outputs": [
    {
     "data": {
      "text/plain": [
       "-139.0"
      ]
     },
     "execution_count": 46,
     "metadata": {},
     "output_type": "execute_result"
    }
   ],
   "source": [
    "raisins.subtotal() # garbage out..."
   ]
  },
  {
   "cell_type": "markdown",
   "id": "4138df8a",
   "metadata": {},
   "source": [
    "### LineItem Take #2: A Validating Property"
   ]
  },
  {
   "cell_type": "code",
   "execution_count": 47,
   "id": "a39fd48f",
   "metadata": {},
   "outputs": [],
   "source": [
    "class LineItem:\n",
    "    \n",
    "    def __init__(self, description, weight, price):\n",
    "        self.description = description\n",
    "        self.weight = weight\n",
    "        self.price = price\n",
    "    \n",
    "    def subtotal(self):\n",
    "        return self.weight * self.price\n",
    "    \n",
    "    @property\n",
    "    def weight(self):\n",
    "        return self.__weight\n",
    "    \n",
    "    @weight.setter\n",
    "    def weight(self, value):\n",
    "        if value > 0:\n",
    "            self.__weight = value\n",
    "        else:\n",
    "            raise ValueError('Weight cannot be negative.')"
   ]
  },
  {
   "cell_type": "code",
   "execution_count": 48,
   "id": "772760e9",
   "metadata": {},
   "outputs": [],
   "source": [
    "try:\n",
    "    walnuts = LineItem('walnuts', 0, 10.00)\n",
    "except ValueError:\n",
    "    pass"
   ]
  },
  {
   "cell_type": "markdown",
   "id": "5aafe7fa",
   "metadata": {},
   "source": [
    "## A Proper Look at Properties\n",
    "\n",
    "Although often used as a decorator, the property built-in is actually a class. In Python, functions and classes are often interchangeable, because both are callable and there is no new operator for object instantiation, so invoking a constructor is no different than invoking a factory function. And both can be used as decorators, as long as they return a new callable that is a suitable replacement of the decorated function.\n",
    "\n",
    "This is the full signature of the property constructor:\n",
    "\n",
    "`property(fget=None, fset=None, fdel=None, doc=None)`\n",
    "\n",
    "All arguments are optional, and if a function is not provided for one of them, the corresponding operation is not allowed by the resulting property object."
   ]
  },
  {
   "cell_type": "code",
   "execution_count": 49,
   "id": "d46e301b",
   "metadata": {},
   "outputs": [],
   "source": [
    "class LineItem:\n",
    "    \n",
    "    def __init__(self, description, weight, price):\n",
    "        self.description = description\n",
    "        self.weight = weight\n",
    "        self.price = price\n",
    "    \n",
    "    def subtotal(self):\n",
    "        return self.weight * self.price\n",
    "    \n",
    "    def get_weight(self):\n",
    "        return self.__weight\n",
    "    \n",
    "    def set_weight(self, value):\n",
    "        if value > 0:\n",
    "            self.__weight = value\n",
    "        else:\n",
    "            raise ValueError('Weight cannot be negative.')\n",
    "    \n",
    "    weight = property(get_weight, set_weight)"
   ]
  },
  {
   "cell_type": "markdown",
   "id": "6d187da3",
   "metadata": {},
   "source": [
    "The classic form is better than the decorator syntax in some situations; the code of the property factory we’ll discuss shortly is one example. On the other hand, in a class body with many methods, the decorators make it explicit which are the getters and setters, without depending on the convention of using get and set prefixes in their names.\n",
    "\n",
    "### Properties Override Instance Attributes\n",
    ">**Properties are always class attributes, but they actually manage attribute access in the instances of the class**.\n",
    "\n",
    "When an instance and its class both have a data attribute by the same name, the instance attribute overrides, or shadows, the class attribute—at least when read through that instance."
   ]
  },
  {
   "cell_type": "code",
   "execution_count": 50,
   "id": "ce607981",
   "metadata": {},
   "outputs": [],
   "source": [
    "class Class:\n",
    "    data = 'class attr'\n",
    "    \n",
    "    @property\n",
    "    def prop(self):\n",
    "        return 'prop value'"
   ]
  },
  {
   "cell_type": "code",
   "execution_count": 51,
   "id": "278a15d3",
   "metadata": {},
   "outputs": [
    {
     "data": {
      "text/plain": [
       "{}"
      ]
     },
     "execution_count": 51,
     "metadata": {},
     "output_type": "execute_result"
    }
   ],
   "source": [
    "obj = Class()\n",
    "vars(obj) \n",
    "# vars returns the __dict__ of obj, showing it has no instance attributes."
   ]
  },
  {
   "cell_type": "code",
   "execution_count": 52,
   "id": "544d504b",
   "metadata": {},
   "outputs": [
    {
     "data": {
      "text/plain": [
       "'class attr'"
      ]
     },
     "execution_count": 52,
     "metadata": {},
     "output_type": "execute_result"
    }
   ],
   "source": [
    "obj.data"
   ]
  },
  {
   "cell_type": "code",
   "execution_count": 53,
   "id": "b7f90553",
   "metadata": {},
   "outputs": [],
   "source": [
    "obj.data = 'new instance attr'\n",
    "# Writing to obj.data creates an instance attribute"
   ]
  },
  {
   "cell_type": "code",
   "execution_count": 54,
   "id": "7d3e5355",
   "metadata": {},
   "outputs": [
    {
     "data": {
      "text/plain": [
       "'new instance attr'"
      ]
     },
     "execution_count": 54,
     "metadata": {},
     "output_type": "execute_result"
    }
   ],
   "source": [
    "obj.data\n",
    "# Now reading from obj.data retrieves the value of the instance attribute. When\n",
    "# read from the obj instance, the instance data shadows the class data."
   ]
  },
  {
   "cell_type": "code",
   "execution_count": 55,
   "id": "3897ece1",
   "metadata": {},
   "outputs": [
    {
     "data": {
      "text/plain": [
       "{'data': 'new instance attr'}"
      ]
     },
     "execution_count": 55,
     "metadata": {},
     "output_type": "execute_result"
    }
   ],
   "source": [
    "vars(obj)"
   ]
  },
  {
   "cell_type": "code",
   "execution_count": 56,
   "id": "e055c106",
   "metadata": {},
   "outputs": [
    {
     "data": {
      "text/plain": [
       "'class attr'"
      ]
     },
     "execution_count": 56,
     "metadata": {},
     "output_type": "execute_result"
    }
   ],
   "source": [
    "Class.data # The Class.data attribute is intact"
   ]
  },
  {
   "cell_type": "markdown",
   "id": "9f6b1592",
   "metadata": {},
   "source": [
    "Now, let’s try to override the prop attribute on the obj instance."
   ]
  },
  {
   "cell_type": "code",
   "execution_count": 57,
   "id": "d9ebfc07",
   "metadata": {},
   "outputs": [
    {
     "data": {
      "text/plain": [
       "<property at 0x18a714c9a90>"
      ]
     },
     "execution_count": 57,
     "metadata": {},
     "output_type": "execute_result"
    }
   ],
   "source": [
    "Class.prop\n",
    "# Reading prop directly from Class retrieves the property object itself, without\n",
    "# running its getter method"
   ]
  },
  {
   "cell_type": "code",
   "execution_count": 58,
   "id": "260fa6c2",
   "metadata": {},
   "outputs": [
    {
     "data": {
      "text/plain": [
       "'prop value'"
      ]
     },
     "execution_count": 58,
     "metadata": {},
     "output_type": "execute_result"
    }
   ],
   "source": [
    "obj.prop\n",
    "# Reading obj.prop executes the property getter"
   ]
  },
  {
   "cell_type": "code",
   "execution_count": 59,
   "id": "14ea50a2",
   "metadata": {},
   "outputs": [
    {
     "name": "stdout",
     "output_type": "stream",
     "text": [
      "can't set attribute\n"
     ]
    }
   ],
   "source": [
    "try:\n",
    "    obj.prop = 'foo'\n",
    "except AttributeError as err:\n",
    "    print(str(err))\n",
    "# Trying to set an instance prop attribute fails."
   ]
  },
  {
   "cell_type": "code",
   "execution_count": 60,
   "id": "5b86a301",
   "metadata": {},
   "outputs": [],
   "source": [
    "obj.__dict__['prop'] = 'foo'\n",
    "# Putting 'prop' directly in the obj.__dict__ works"
   ]
  },
  {
   "cell_type": "code",
   "execution_count": 61,
   "id": "731fed9c",
   "metadata": {},
   "outputs": [
    {
     "data": {
      "text/plain": [
       "{'data': 'new instance attr', 'prop': 'foo'}"
      ]
     },
     "execution_count": 61,
     "metadata": {},
     "output_type": "execute_result"
    }
   ],
   "source": [
    "vars(obj)\n",
    "# We can see that obj now has two instance attributes: attr and prop"
   ]
  },
  {
   "cell_type": "code",
   "execution_count": 62,
   "id": "932f62d3",
   "metadata": {},
   "outputs": [
    {
     "data": {
      "text/plain": [
       "'prop value'"
      ]
     },
     "execution_count": 62,
     "metadata": {},
     "output_type": "execute_result"
    }
   ],
   "source": [
    "obj.prop\n",
    "# However, reading obj.prop still runs the property getter. The property is not\n",
    "# shadowed by an instance attribute. __getattr__ is not triggered since prop already exists."
   ]
  },
  {
   "cell_type": "code",
   "execution_count": 63,
   "id": "88ee887a",
   "metadata": {},
   "outputs": [],
   "source": [
    "Class.prop = 'property destroyed!'\n",
    "# Overwriting Class.prop destroys the property object"
   ]
  },
  {
   "cell_type": "code",
   "execution_count": 64,
   "id": "616ef20e",
   "metadata": {},
   "outputs": [
    {
     "data": {
      "text/plain": [
       "'foo'"
      ]
     },
     "execution_count": 64,
     "metadata": {},
     "output_type": "execute_result"
    }
   ],
   "source": [
    "obj.prop"
   ]
  },
  {
   "cell_type": "code",
   "execution_count": 65,
   "id": "0122fa95",
   "metadata": {},
   "outputs": [
    {
     "data": {
      "text/plain": [
       "'property destroyed!'"
      ]
     },
     "execution_count": 65,
     "metadata": {},
     "output_type": "execute_result"
    }
   ],
   "source": [
    "Class.prop"
   ]
  },
  {
   "cell_type": "markdown",
   "id": "45c5a781",
   "metadata": {},
   "source": [
    "As a final demonstration, we’ll add a new property to Class, and see it overriding an instance attribute."
   ]
  },
  {
   "cell_type": "code",
   "execution_count": 66,
   "id": "81e0010f",
   "metadata": {},
   "outputs": [
    {
     "data": {
      "text/plain": [
       "'new instance attr'"
      ]
     },
     "execution_count": 66,
     "metadata": {},
     "output_type": "execute_result"
    }
   ],
   "source": [
    "obj.data"
   ]
  },
  {
   "cell_type": "code",
   "execution_count": 67,
   "id": "b7e9a3ba",
   "metadata": {},
   "outputs": [
    {
     "data": {
      "text/plain": [
       "'class attr'"
      ]
     },
     "execution_count": 67,
     "metadata": {},
     "output_type": "execute_result"
    }
   ],
   "source": [
    "Class.data"
   ]
  },
  {
   "cell_type": "code",
   "execution_count": 68,
   "id": "fa2d263e",
   "metadata": {},
   "outputs": [],
   "source": [
    "Class.data = property(lambda self: 'the \"data\" prop value')\n",
    "# Overwrite Class.data with a new property"
   ]
  },
  {
   "cell_type": "code",
   "execution_count": 69,
   "id": "0c6020ad",
   "metadata": {},
   "outputs": [
    {
     "data": {
      "text/plain": [
       "'the \"data\" prop value'"
      ]
     },
     "execution_count": 69,
     "metadata": {},
     "output_type": "execute_result"
    }
   ],
   "source": [
    "obj.data\n",
    "# obj.data is now shadowed by the Class.data property"
   ]
  },
  {
   "cell_type": "code",
   "execution_count": 70,
   "id": "f957d899",
   "metadata": {},
   "outputs": [],
   "source": [
    "del Class.data"
   ]
  },
  {
   "cell_type": "code",
   "execution_count": 71,
   "id": "013cc586",
   "metadata": {},
   "outputs": [
    {
     "data": {
      "text/plain": [
       "'new instance attr'"
      ]
     },
     "execution_count": 71,
     "metadata": {},
     "output_type": "execute_result"
    }
   ],
   "source": [
    "obj.data"
   ]
  },
  {
   "cell_type": "markdown",
   "id": "9c399ba7",
   "metadata": {},
   "source": [
    "The main point of this section is that an expression like `obj.attr` does not search for `attr` starting with `obj`. **The search actually starts at `obj.__class__`, and only if there is no *`property`* named `attr` in the class, Python looks in the `obj` instance itself and if there is no object named `attr`, it searches in the class for an attribute named `attr`**. This rule applies not only to properties but to a whole category of descriptors, the *overriding descriptors*.\n",
    "\n",
    "### Property Documentation\n",
    "\n",
    "> `weight = property(get_weight, set_weight, doc='weight in kilograms')`\n",
    "\n",
    "When property is deployed as a decorator, the docstring of the getter method—the one with the @property decorator itself—is used as the documentation of the property as a whole.\n",
    "\n",
    "```\n",
    "class Foo:\n",
    "\n",
    "    @property\n",
    "    def bar(self):\n",
    "        '''The bar attribute'''\n",
    "        return self.__dict__['bar']\n",
    "\n",
    "    @bar.setter\n",
    "    def bar(self, value):\n",
    "        self.__dict__['bar'] = value\n",
    "```\n",
    "\n",
    "## Coding a Property Factory"
   ]
  },
  {
   "cell_type": "code",
   "execution_count": 72,
   "id": "9c47dcea",
   "metadata": {},
   "outputs": [],
   "source": [
    "def quantity(storage_name):\n",
    "    \n",
    "    def qty_getter(instance):\n",
    "        return instance.__dict__[storage_name]\n",
    "    \n",
    "    def qty_setter(instance, value):\n",
    "        if value > 0:\n",
    "            instance.__dict__[storage_name] = value"
   ]
  },
  {
   "cell_type": "code",
   "execution_count": 73,
   "id": "93f29e48",
   "metadata": {},
   "outputs": [],
   "source": [
    "class LineItem:\n",
    "    weight = quantity('weight') \n",
    "    price = quantity('price')\n",
    "\n",
    "    def __init__(self, description, weight, price):\n",
    "        self.description = description\n",
    "        self.weight = weight \n",
    "        self.price = price\n",
    "    \n",
    "    def subtotal(self):\n",
    "        return self.weight * self.price "
   ]
  },
  {
   "cell_type": "markdown",
   "id": "c22ffeaf",
   "metadata": {},
   "source": [
    "Recall that properties are class attributes. When building each quantity property, we need to pass the name of the LineItem attribute that will be managed by that specific property."
   ]
  },
  {
   "cell_type": "code",
   "execution_count": 74,
   "id": "fa27d15b",
   "metadata": {},
   "outputs": [
    {
     "data": {
      "text/plain": [
       "(8, 13.95)"
      ]
     },
     "execution_count": 74,
     "metadata": {},
     "output_type": "execute_result"
    }
   ],
   "source": [
    "nutmeg = LineItem('Moluccan nutmeg', 8, 13.95)\n",
    "nutmeg.weight, nutmeg.price"
   ]
  },
  {
   "cell_type": "code",
   "execution_count": 75,
   "id": "653095e5",
   "metadata": {},
   "outputs": [
    {
     "data": {
      "text/plain": [
       "[('description', 'Moluccan nutmeg'), ('price', 13.95), ('weight', 8)]"
      ]
     },
     "execution_count": 75,
     "metadata": {},
     "output_type": "execute_result"
    }
   ],
   "source": [
    "sorted(vars(nutmeg).items())"
   ]
  },
  {
   "cell_type": "markdown",
   "id": "9e13350c",
   "metadata": {},
   "source": [
    "### Handling Attribute Deletion"
   ]
  },
  {
   "cell_type": "code",
   "execution_count": 76,
   "id": "aad9895f",
   "metadata": {},
   "outputs": [],
   "source": [
    "class BlackKnight:\n",
    "    def __init__(self):\n",
    "        self.members = ['an arm', 'another arm',\n",
    "                        'a leg', 'another leg']\n",
    "        self.phrases = [\"'Tis but a scratch.\",\n",
    "                        \"It's just a flesh wound.\",\n",
    "                        \"I'm invincible!\",\n",
    "                        \"All right, we'll call it a draw.\"]\n",
    "    \n",
    "    @property\n",
    "    def member(self):\n",
    "        print('next member is:')\n",
    "        return self.members[0]\n",
    "    \n",
    "    @member.deleter\n",
    "    def member(self):\n",
    "        text = 'BLACK KNIGHT (loses {})\\n-- {}'\n",
    "        print(text.format(self.members.pop(0), self.phrases.pop(0)))"
   ]
  },
  {
   "cell_type": "code",
   "execution_count": 77,
   "id": "fb39995f",
   "metadata": {},
   "outputs": [
    {
     "name": "stdout",
     "output_type": "stream",
     "text": [
      "next member is:\n"
     ]
    },
    {
     "data": {
      "text/plain": [
       "'an arm'"
      ]
     },
     "execution_count": 77,
     "metadata": {},
     "output_type": "execute_result"
    }
   ],
   "source": [
    "knight = BlackKnight()\n",
    "knight.member"
   ]
  },
  {
   "cell_type": "code",
   "execution_count": 78,
   "id": "1985db82",
   "metadata": {},
   "outputs": [
    {
     "name": "stdout",
     "output_type": "stream",
     "text": [
      "BLACK KNIGHT (loses an arm)\n",
      "-- 'Tis but a scratch.\n"
     ]
    }
   ],
   "source": [
    "del knight.member"
   ]
  },
  {
   "cell_type": "code",
   "execution_count": 79,
   "id": "c49551b0",
   "metadata": {},
   "outputs": [
    {
     "name": "stdout",
     "output_type": "stream",
     "text": [
      "BLACK KNIGHT (loses another arm)\n",
      "-- It's just a flesh wound.\n"
     ]
    }
   ],
   "source": [
    "del knight.member"
   ]
  },
  {
   "cell_type": "code",
   "execution_count": 80,
   "id": "5156f6ec",
   "metadata": {},
   "outputs": [
    {
     "name": "stdout",
     "output_type": "stream",
     "text": [
      "BLACK KNIGHT (loses a leg)\n",
      "-- I'm invincible!\n"
     ]
    }
   ],
   "source": [
    "del knight.member"
   ]
  },
  {
   "cell_type": "code",
   "execution_count": 81,
   "id": "c05f9c78",
   "metadata": {},
   "outputs": [
    {
     "name": "stdout",
     "output_type": "stream",
     "text": [
      "BLACK KNIGHT (loses another leg)\n",
      "-- All right, we'll call it a draw.\n"
     ]
    }
   ],
   "source": [
    "del knight.member"
   ]
  },
  {
   "cell_type": "markdown",
   "id": "0d444a3a",
   "metadata": {},
   "source": [
    "> `member = property(member_getter, fdel=member_deleter)`\n",
    "\n",
    "If you are not using a property, attribute deletion can also be handled by implementing the lower-level `__delattr__` special method"
   ]
  }
 ],
 "metadata": {
  "kernelspec": {
   "display_name": "Python 3 (ipykernel)",
   "language": "python",
   "name": "python3"
  },
  "language_info": {
   "codemirror_mode": {
    "name": "ipython",
    "version": 3
   },
   "file_extension": ".py",
   "mimetype": "text/x-python",
   "name": "python",
   "nbconvert_exporter": "python",
   "pygments_lexer": "ipython3",
   "version": "3.8.12"
  }
 },
 "nbformat": 4,
 "nbformat_minor": 5
}
