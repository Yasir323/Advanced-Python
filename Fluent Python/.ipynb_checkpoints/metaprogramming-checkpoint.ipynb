{
 "cells": [
  {
   "cell_type": "code",
   "execution_count": 1,
   "id": "dbed3cb1",
   "metadata": {},
   "outputs": [],
   "source": [
    "import abc\n",
    "import collections"
   ]
  },
  {
   "cell_type": "markdown",
   "id": "56e9643b",
   "metadata": {},
   "source": [
    "## Class Metaprogramming\n",
    "\n",
    "Class metaprogramming is the art of creating or customizing classes at runtime. Classes are first-class objects in Python, so a function can be used to create a new class at any time, without using the class keyword. Class decorators are also functions, but capable of inspecting, changing, and even replacing the decorated class with another class. Finally, metaclasses are the most advanced tool for class metaprogramming: they let you create whole new categories of classes with special traits, such as the abstract base classes we’ve already seen.\n",
    "\n",
    "## A Class Factory\n",
    "The standard library has a class factory that we’ve seen several times in this book: collections.namedtuple. It’s a function that, given a class name and attribute names creates a subclass of tuple that allows retrieving items by name and provides a nice `__repr__` for debugging."
   ]
  },
  {
   "cell_type": "code",
   "execution_count": 2,
   "id": "a7f6dadb",
   "metadata": {},
   "outputs": [],
   "source": [
    "def record_factory(cls_name, field_names):\n",
    "    try:\n",
    "        field_names = field_names.replace(',', ' ').split()  # 1\n",
    "    except AttributeError:  # np .replace or .split\n",
    "        pass  # assume it's already a sequence of identifiers\n",
    "    field_names = tuple(field_names)  # 2\n",
    "    \n",
    "    def __init__(self, *args, **kwargs):  # 3\n",
    "        attrs = dict(zip(self.__slots__, args))\n",
    "        attrs.update(kwargs)\n",
    "        for name, value in attrs.items():\n",
    "            setattr(self, name, value)\n",
    "    \n",
    "    def __iter__(self):  # 4\n",
    "        for name in self.__slots__:\n",
    "            yield getattr(self, name)\n",
    "    \n",
    "    def __repr__(self):  # 5\n",
    "        values = ', '.join('{}={!r}'.format(*i) for i in zip(self.__slots__, self))\n",
    "        return '{}({})'.format(self.__class__.__name__, values)\n",
    "    \n",
    "    cls_attrs = dict(  # 6\n",
    "        __slots__ = field_names,\n",
    "        __init__ = __init__,\n",
    "        __iter__ = __iter__,\n",
    "        __repr__ = __repr__,\n",
    "    )\n",
    "    return type(cls_name, (object,), cls_attrs)  # 7"
   ]
  },
  {
   "cell_type": "markdown",
   "id": "339992ed",
   "metadata": {},
   "source": [
    "2. Build a tuple of attribute names, this will be the `__slots__` attribute of the new class; this also sets the order of the fields for unpacking and `__repr__`.\n",
    "\n",
    "3. This function will become the `__init__` method in the new class. It accepts positional and/or keyword arguments.\n",
    "\n",
    "4. Implement an `__iter__`, so the class instances will be iterable; yield the field values in the order given by `__slots__`.\n",
    "\n",
    "5. Produce the nice repr, iterating over `__slots__` and self.\n",
    "\n",
    "6. Assemble dictionary of class attributes.\n",
    "\n",
    "7. Build and return the new class, calling the type constructor."
   ]
  },
  {
   "cell_type": "code",
   "execution_count": 3,
   "id": "55e8e265",
   "metadata": {},
   "outputs": [
    {
     "data": {
      "text/plain": [
       "Dog(name='Rex', weight=30, owner='Bob')"
      ]
     },
     "execution_count": 3,
     "metadata": {},
     "output_type": "execute_result"
    }
   ],
   "source": [
    "Dog = record_factory('Dog', 'name weight owner')\n",
    "rex = Dog('Rex', 30, 'Bob')\n",
    "rex"
   ]
  },
  {
   "cell_type": "code",
   "execution_count": 4,
   "id": "9a8a98ed",
   "metadata": {},
   "outputs": [
    {
     "data": {
      "text/plain": [
       "('Rex', 30)"
      ]
     },
     "execution_count": 4,
     "metadata": {},
     "output_type": "execute_result"
    }
   ],
   "source": [
    "name, weight, _ = rex\n",
    "name, weight"
   ]
  },
  {
   "cell_type": "code",
   "execution_count": 5,
   "id": "86fbe873",
   "metadata": {},
   "outputs": [
    {
     "data": {
      "text/plain": [
       "\"Bob's dog weighs 30kg\""
      ]
     },
     "execution_count": 5,
     "metadata": {},
     "output_type": "execute_result"
    }
   ],
   "source": [
    "\"{2}'s dog weighs {1}kg\".format(*rex)"
   ]
  },
  {
   "cell_type": "code",
   "execution_count": 6,
   "id": "584d80aa",
   "metadata": {},
   "outputs": [
    {
     "data": {
      "text/plain": [
       "Dog(name='Rex', weight=32, owner='Bob')"
      ]
     },
     "execution_count": 6,
     "metadata": {},
     "output_type": "execute_result"
    }
   ],
   "source": [
    "rex.weight = 32 \n",
    "rex"
   ]
  },
  {
   "cell_type": "code",
   "execution_count": 7,
   "id": "ce7e71b1",
   "metadata": {},
   "outputs": [
    {
     "data": {
      "text/plain": [
       "(__main__.Dog, object)"
      ]
     },
     "execution_count": 7,
     "metadata": {},
     "output_type": "execute_result"
    }
   ],
   "source": [
    "Dog.__mro__"
   ]
  },
  {
   "cell_type": "markdown",
   "id": "fce89d01",
   "metadata": {},
   "source": [
    "We usually think of type as a function, because we use it like one, e.g., type(my_ob ject) to get the class of the object—same as `my_object.__class__`. However, type is a class. It behaves like a class that creates a new class when invoked with three arguments:\n",
    "```\n",
    "MyClass = type('MyClass', (MySuperClass, MyMixin),\n",
    "    {'x': 42, 'x2': lambda self: self.x * 2})\n",
    "```\n",
    "The three arguments of type are named name, bases, and dict—the latter being a mapping of attribute names and attributes for the new class. The preceding code is functionally equivalent to this:\n",
    "```\n",
    "class MyClass(MySuperClass, MyMixin):\n",
    "    x = 42\n",
    "    \n",
    "    def x2(self):\n",
    "        return self.x * 2\n",
    "```\n",
    "\n",
    "In summary, the last line of record_factory in Example 21-2 builds a class named by the value of cls_name, with object as its single immediate superclass and with class attributes named `__slots__`, `__init__`, `__iter__`, and `__repr__`, of which the last three are instance methods.\n",
    "\n",
    "*Instances of classes created by record_factory have a limitation: they are not serializable*.\n",
    "\n",
    "**It’s good practice to avoid exec or eval for metaprogramming in\n",
    "Python. These functions pose serious security risks if they are fed\n",
    "strings (even fragments) from untrusted sources. Python offers\n",
    "sufficient introspection tools to make exec and eval unnecessary\n",
    "most of the time.**\n",
    "\n",
    "## A Class Decorator for Customizing Descriptors\n",
    "\n",
    "Recall from “LineItem Take #4: Automatic Storage Attribute Names” on page 631 that we could not use descriptive storage names because when the descriptor is instantiated it has no way of knowing the name of the managed attribute (i.e., the class attribute to which the descriptor will be bound, such as weight in the preceding examples). But once the whole class is assembled and the descriptors are bound to the class attributes, we can inspect the class and set proper storage names to the descriptors. This could be done in the `__new__` method of the LineItem class, so that by the time the descriptors\n",
    "are used in the `__init__` method, the correct storage names are set. The problem of using `__new__` for that purpose is wasted effort: the logic of `__new__` will run every time a new LineItem instance is created, but the binding of the descriptor to the managed attribute will never change once the LineItem class itself is built. So we need to set the storage names when the class is created. That can be done with a class decorator or a metaclass.\n",
    "\n",
    "A class decorator is very similar to a function decorator: it’s a function that gets a class object and returns the same class or a modified one."
   ]
  },
  {
   "cell_type": "code",
   "execution_count": 8,
   "id": "85e9bd6a",
   "metadata": {},
   "outputs": [],
   "source": [
    "class AutoStorage: \n",
    "    __counter = 0\n",
    "    \n",
    "    def __init__(self):\n",
    "        cls = self.__class__\n",
    "        prefix = cls.__name__\n",
    "        index = cls.__counter\n",
    "        self.storage_name = '_{}#{}'.format(prefix, index)\n",
    "        cls.__counter += 1\n",
    "    \n",
    "    def __get__(self, instance, owner):\n",
    "        if instance is None:\n",
    "            return self\n",
    "        return getattr(instance, self.storage_name)\n",
    "    \n",
    "    def __set__(self, instance, value):\n",
    "        setattr(instance, self.storage_name, value)"
   ]
  },
  {
   "cell_type": "code",
   "execution_count": 9,
   "id": "01188a40",
   "metadata": {},
   "outputs": [],
   "source": [
    "class Validated(abc.ABC, AutoStorage):\n",
    "    \n",
    "    def __set__(self, instance, value):\n",
    "        value = self.validate(instance, value) \n",
    "        super().__set__(instance, value) \n",
    "    \n",
    "    @abc.abstractmethod\n",
    "    def validate(self, instance, value): \n",
    "        \"\"\"return validated value or raise ValueError\"\"\""
   ]
  },
  {
   "cell_type": "code",
   "execution_count": 10,
   "id": "1271d687",
   "metadata": {},
   "outputs": [],
   "source": [
    "class Quantity(Validated): \n",
    "    \"\"\"a number greater than zero\"\"\"\n",
    "    def validate(self, instance, value):\n",
    "        if value <= 0:\n",
    "            raise ValueError('value must be > 0')\n",
    "        return value"
   ]
  },
  {
   "cell_type": "code",
   "execution_count": 11,
   "id": "4d131c9e",
   "metadata": {},
   "outputs": [],
   "source": [
    "class NonBlank(Validated):\n",
    "    \"\"\"a string with at least one non-space character\"\"\"\n",
    "    \n",
    "    def validate(self, instance, value):\n",
    "        value = value.strip()\n",
    "        if len(value) == 0:\n",
    "            raise ValueError('value cannot be empty or blank')\n",
    "        return value"
   ]
  },
  {
   "cell_type": "code",
   "execution_count": 12,
   "id": "37d3a0a3",
   "metadata": {},
   "outputs": [],
   "source": [
    "def entity(cls):  # <1>\n",
    "    \"\"\"A class decorator.\"\"\"\n",
    "    for key, attr in cls.__dict__.items():  # <2>\n",
    "        if isinstance(attr, Validated):  # <3>\n",
    "            type_name = type(attr).__name__\n",
    "            attr.storage_name = '_{}#{}'.format(type_name, key)  # <4>\n",
    "    return cls  # <5>"
   ]
  },
  {
   "cell_type": "markdown",
   "id": "22cd9ae3",
   "metadata": {},
   "source": [
    "1. Decorator gets class as argument.\n",
    "2. Iterate over dict holding the class attributes.\n",
    "3. If the attribute is one of our Validated descriptors…\n",
    "4. …set the storage_name to use the descriptor class name and the managed attribute name (e.g., _NonBlank#description).\n",
    "5. Return the modified class."
   ]
  },
  {
   "cell_type": "code",
   "execution_count": 13,
   "id": "3e5010d5",
   "metadata": {},
   "outputs": [],
   "source": [
    "@entity\n",
    "class LineItem:\n",
    "    weight = Quantity() \n",
    "    price = Quantity() \n",
    "    description = NonBlank()\n",
    "    \n",
    "    def __init__(self, description, weight, price): \n",
    "        self.description = description\n",
    "        self.weight = weight\n",
    "        self.price = price\n",
    "    \n",
    "    def subtotal(self):\n",
    "        return self.weight * self.price"
   ]
  },
  {
   "cell_type": "code",
   "execution_count": 14,
   "id": "8ec164a6",
   "metadata": {},
   "outputs": [
    {
     "data": {
      "text/plain": [
       "['_NonBlank#description', '_Quantity#price', '_Quantity#weight']"
      ]
     },
     "execution_count": 14,
     "metadata": {},
     "output_type": "execute_result"
    }
   ],
   "source": [
    "raisins = LineItem('Golden raisins', 10, 6.95)\n",
    "dir(raisins)[:3]"
   ]
  },
  {
   "cell_type": "code",
   "execution_count": 15,
   "id": "d4b88a05",
   "metadata": {},
   "outputs": [
    {
     "data": {
      "text/plain": [
       "'_NonBlank#description'"
      ]
     },
     "execution_count": 15,
     "metadata": {},
     "output_type": "execute_result"
    }
   ],
   "source": [
    "LineItem.description.storage_name"
   ]
  },
  {
   "cell_type": "code",
   "execution_count": 16,
   "id": "df4774c5",
   "metadata": {},
   "outputs": [
    {
     "data": {
      "text/plain": [
       "'Golden raisins'"
      ]
     },
     "execution_count": 16,
     "metadata": {},
     "output_type": "execute_result"
    }
   ],
   "source": [
    "raisins.description"
   ]
  },
  {
   "cell_type": "code",
   "execution_count": 17,
   "id": "5fbe1470",
   "metadata": {},
   "outputs": [
    {
     "data": {
      "text/plain": [
       "'Golden raisins'"
      ]
     },
     "execution_count": 17,
     "metadata": {},
     "output_type": "execute_result"
    }
   ],
   "source": [
    "getattr(raisins, '_NonBlank#description')"
   ]
  },
  {
   "cell_type": "markdown",
   "id": "5c990dc5",
   "metadata": {},
   "source": [
    "Class decorators are a simpler way of customizing a class the moment it’s created.\n",
    "\n",
    "> A significant drawback of class decorators is that they act only on the class where they are directly applied. This means subclasses of the decorated class may or may not inherit the changes made by the decorator, depending on what those changes are.\n",
    "\n",
    "## Import Time Versus Runtime\n",
    "\n",
    "> At import time, the interpreter parses the source code of a .py module in one pass from top to bottom, and generates the bytecode to be executed. That’s when syntax errors may occur. If there is an up-to-date .pyc file available in the local `__pycache__`, those steps are skipped because the bytecode is ready to run.\n",
    "\n",
    "> The import statement is not merely a declaration but it actually runs all the top-level code of the imported module when it’s imported for the first time in the process—further imports of the same module will use a cache, and only name binding occurs then.\n",
    "\n",
    "That top-level code may do anything, including actions typical of “runtime”, such as connecting to a database. That’s why the border between “import time” and “runtime” is fuzzy: the import statement can trigger all sorts of “runtime” behavior.\n",
    "\n",
    "In the previous paragraph, I wrote that importing “runs all the top-level code,” but “top-level code” requires some elaboration. The interpreter executes a def statement on the top level of a module when the module is imported, but what does that achieve? \n",
    "\n",
    "> The interpreter compiles the function body (if it’s the first time that module is imported), and binds the function object to its global name, but it does not execute the body of the function, obviously. In the usual case, this means that the interpreter defines top-level functions at import time, but executes their bodies only when—and if—the functions are invoked at runtime.\n",
    "\n",
    "> For classes, the story is different: at import time, the interpreter executes the body of every class, even the body of classes nested in other classes. Execution of a class body means that the attributes and methods of the class are defined, and then the class object itself is built. In this sense, the body of classes is “top-level code”: it runs at import time.\n",
    "\n",
    "### The Evaluation Time Exercises"
   ]
  },
  {
   "cell_type": "code",
   "execution_count": 18,
   "id": "af6787c9",
   "metadata": {},
   "outputs": [
    {
     "name": "stdout",
     "output_type": "stream",
     "text": [
      "<[100]> evalsupport module start\n",
      "<[400]> MetaAleph body\n",
      "<[700]> evalsupport module end\n",
      "<[1]> evaltime module start\n",
      "<[2]> ClassOne body\n",
      "<[6]> ClassTwo body\n",
      "<[7]> ClassThree body\n",
      "<[200]> deco_alpha\n",
      "<[9]> ClassFour body\n",
      "<[14]> evaltime module end\n"
     ]
    }
   ],
   "source": [
    "import evaltime"
   ]
  },
  {
   "cell_type": "code",
   "execution_count": 19,
   "id": "07c48241",
   "metadata": {},
   "outputs": [
    {
     "name": "stdout",
     "output_type": "stream",
     "text": [
      "<[100]> evalsupport module start\n",
      "<[400]> MetaAleph body\n",
      "<[700]> evalsupport module end\n",
      "<[1]> evaltime module start\n",
      "<[2]> ClassOne body\n",
      "<[6]> ClassTwo body\n",
      "<[7]> ClassThree body\n",
      "<[200]> deco_alpha\n",
      "<[9]> ClassFour body\n",
      "<[11]> ClassOne tests ..............................\n",
      "<[3]> ClassOne.__init__\n",
      "<[5]> ClassOne.method_x\n",
      "<[12]> ClassThree tests ..............................\n",
      "<[300]> deco_alpha:inner_1\n",
      "<[13]> ClassFour tests ..............................\n",
      "<[10]> ClassFour.method_y\n",
      "<[14]> evaltime module end\n",
      "<[4]> ClassOne.__del__\n"
     ]
    }
   ],
   "source": [
    "!python evaltime.py"
   ]
  },
  {
   "cell_type": "markdown",
   "id": "8706923a",
   "metadata": {},
   "source": [
    "The main point of scenario #2 is to show that the effects of a class decorator may not affect subclasses. In Example 21-6, ClassFour is defined as a subclass of ClassThree. The @deco_alpha decorator is applied to ClassThree, replacing its method_y, but that does not affect ClassFour at all. Of course, if the ClassFour.method_y did invoke the ClassThree.method_y with super(…), we would see the effect of the decorator, as the inner_1 function executed.\n",
    "\n",
    "## Metaclasses 101\n",
    "\n",
    "Consider the Python object model: classes are objects, therefore each class must be an instance of some other class. By default, Python classes are instances of type. In other words, type is the metaclass for most built-in and user-defined classes:"
   ]
  },
  {
   "cell_type": "code",
   "execution_count": 20,
   "id": "7e9ff6b0",
   "metadata": {},
   "outputs": [
    {
     "data": {
      "text/plain": [
       "str"
      ]
     },
     "execution_count": 20,
     "metadata": {},
     "output_type": "execute_result"
    }
   ],
   "source": [
    "'spam'.__class__"
   ]
  },
  {
   "cell_type": "code",
   "execution_count": 21,
   "id": "f848320b",
   "metadata": {},
   "outputs": [
    {
     "data": {
      "text/plain": [
       "type"
      ]
     },
     "execution_count": 21,
     "metadata": {},
     "output_type": "execute_result"
    }
   ],
   "source": [
    "str.__class__"
   ]
  },
  {
   "cell_type": "code",
   "execution_count": 22,
   "id": "c74fc275",
   "metadata": {},
   "outputs": [
    {
     "data": {
      "text/plain": [
       "True"
      ]
     },
     "execution_count": 22,
     "metadata": {},
     "output_type": "execute_result"
    }
   ],
   "source": [
    "isinstance(str, type)"
   ]
  },
  {
   "cell_type": "code",
   "execution_count": 23,
   "id": "99b6175b",
   "metadata": {},
   "outputs": [
    {
     "data": {
      "text/plain": [
       "type"
      ]
     },
     "execution_count": 23,
     "metadata": {},
     "output_type": "execute_result"
    }
   ],
   "source": [
    "LineItem.__class__"
   ]
  },
  {
   "cell_type": "code",
   "execution_count": 24,
   "id": "fb65fd16",
   "metadata": {},
   "outputs": [
    {
     "data": {
      "text/plain": [
       "type"
      ]
     },
     "execution_count": 24,
     "metadata": {},
     "output_type": "execute_result"
    }
   ],
   "source": [
    "type.__class__"
   ]
  },
  {
   "attachments": {
    "image.png": {
     "image/png": "[encoded data removed]"
    }
   },
   "cell_type": "markdown",
   "id": "ec7b4eb6",
   "metadata": {},
   "source": [
    "To avoid infinite regress, type is an instance of itself, as the last line shows.\n",
    "![image.png](attachment:image.png)\n",
    "\n",
    "**The classes object and type have a unique relationship: object\n",
    "is an instance of type, and type is a subclass of object. This\n",
    "relationship is “magic”: it cannot be expressed in Python be‐\n",
    "cause either class would have to exist before the other could be\n",
    "defined. The fact that type is an instance of itself is also magical**."
   ]
  },
  {
   "cell_type": "code",
   "execution_count": 25,
   "id": "2c11565f",
   "metadata": {},
   "outputs": [
    {
     "data": {
      "text/plain": [
       "True"
      ]
     },
     "execution_count": 25,
     "metadata": {},
     "output_type": "execute_result"
    }
   ],
   "source": [
    "issubclass(type, object)"
   ]
  },
  {
   "cell_type": "code",
   "execution_count": 26,
   "id": "09f7afad",
   "metadata": {},
   "outputs": [
    {
     "data": {
      "text/plain": [
       "True"
      ]
     },
     "execution_count": 26,
     "metadata": {},
     "output_type": "execute_result"
    }
   ],
   "source": [
    "isinstance(object, type)"
   ]
  },
  {
   "cell_type": "markdown",
   "id": "d706b99c",
   "metadata": {},
   "source": [
    "Besides type, a few other metaclasses exist in the standard library, such as ABCMeta and Enum."
   ]
  },
  {
   "cell_type": "code",
   "execution_count": 27,
   "id": "ce2d3bd4",
   "metadata": {},
   "outputs": [
    {
     "name": "stderr",
     "output_type": "stream",
     "text": [
      "C:\\Users\\yasir\\AppData\\Local\\Temp/ipykernel_1784/2642935075.py:1: DeprecationWarning: Using or importing the ABCs from 'collections' instead of from 'collections.abc' is deprecated since Python 3.3, and in 3.10 it will stop working\n",
      "  collections.Iterable.__class__\n"
     ]
    },
    {
     "data": {
      "text/plain": [
       "abc.ABCMeta"
      ]
     },
     "execution_count": 27,
     "metadata": {},
     "output_type": "execute_result"
    }
   ],
   "source": [
    "collections.Iterable.__class__"
   ]
  },
  {
   "cell_type": "code",
   "execution_count": 28,
   "id": "d1109194",
   "metadata": {},
   "outputs": [
    {
     "data": {
      "text/plain": [
       "type"
      ]
     },
     "execution_count": 28,
     "metadata": {},
     "output_type": "execute_result"
    }
   ],
   "source": [
    "abc.ABCMeta.__class__"
   ]
  },
  {
   "cell_type": "code",
   "execution_count": 29,
   "id": "97189a51",
   "metadata": {},
   "outputs": [
    {
     "data": {
      "text/plain": [
       "(abc.ABCMeta, type, object)"
      ]
     },
     "execution_count": 29,
     "metadata": {},
     "output_type": "execute_result"
    }
   ],
   "source": [
    " abc.ABCMeta.__mro__"
   ]
  },
  {
   "cell_type": "code",
   "execution_count": 30,
   "id": "3a9da20f",
   "metadata": {},
   "outputs": [
    {
     "data": {
      "text/plain": [
       "True"
      ]
     },
     "execution_count": 30,
     "metadata": {},
     "output_type": "execute_result"
    }
   ],
   "source": [
    "issubclass(abc.ABCMeta, type)"
   ]
  },
  {
   "attachments": {
    "image.png": {
     "image/png": "[encoded data removed]"
    }
   },
   "cell_type": "markdown",
   "id": "7a6633cd",
   "metadata": {},
   "source": [
    "Ultimately, the class of ABCMeta is also type. **Every class is an instance of type, directly or indirectly, but only metaclasses are also subclasses of type**. That’s the most important relationship to understand metaclasses: a metaclass, such as ABCMeta, inherits from type the power to construct classes.\n",
    "\n",
    "![image.png](attachment:image.png)\n",
    "\n",
    "The important takeaway here is that all classes are instances of type, but metaclasses are also subclasses of type, so they act as class factories. In particular, a metaclass can customize its instances by implementing `__init__`. A metaclass `__init__` method can do everything a class decorator can do, but its effects are more profound.\n",
    "\n",
    "### The Metaclass Evaluation Time Exercise"
   ]
  },
  {
   "cell_type": "code",
   "execution_count": 31,
   "id": "940ce641",
   "metadata": {},
   "outputs": [
    {
     "name": "stdout",
     "output_type": "stream",
     "text": [
      "<[1]> evaltime_meta module start\n",
      "<[2]> ClassThree body\n",
      "<[200]> deco_alpha\n",
      "<[4]> ClassFour body\n",
      "<[6]> ClassFive body\n",
      "<[500]> MetaAleph.__init__\n",
      "<[9]> ClassSix body\n",
      "<[500]> MetaAleph.__init__\n",
      "<[15]> evaltime_meta module end\n"
     ]
    }
   ],
   "source": [
    "import evaltime_meta"
   ]
  },
  {
   "cell_type": "markdown",
   "id": "2171ab58",
   "metadata": {},
   "source": [
    "The key difference from scenario #1 is that the `MetaAleph.__init__` method is invoked to initialize the just-created ClassFive.\n",
    "\n",
    "And `MetaAleph.__init__` also initializes ClassSix, which is a subclass of ClassFive.\n",
    "\n",
    "The Python interpreter evaluates the body of ClassFive but then, instead of calling type to build the actual class body, it calls MetaAleph. Looking at the definition of MetaAleph in Example 21-12, you’ll see that the __init__ method gets four arguments:\n",
    "\n",
    "self: That’s the class object being initialized (e.g., ClassFive)\n",
    "\n",
    "name, bases, dic: The same arguments passed to type to build a class\n",
    "\n",
    "**When coding a metaclass, it’s conventional to replace self with\n",
    "cls**"
   ]
  },
  {
   "cell_type": "code",
   "execution_count": 32,
   "id": "76697af0",
   "metadata": {},
   "outputs": [
    {
     "name": "stdout",
     "output_type": "stream",
     "text": [
      "<[100]> evalsupport module start\n",
      "<[400]> MetaAleph body\n",
      "<[700]> evalsupport module end\n",
      "<[1]> evaltime_meta module start\n",
      "<[2]> ClassThree body\n",
      "<[200]> deco_alpha\n",
      "<[4]> ClassFour body\n",
      "<[6]> ClassFive body\n",
      "<[500]> MetaAleph.__init__\n",
      "<[9]> ClassSix body\n",
      "<[500]> MetaAleph.__init__\n",
      "<[11]> ClassThree tests ..............................\n",
      "<[300]> deco_alpha:inner_1\n",
      "<[12]> ClassFour tests ..............................\n",
      "<[5]> ClassFour.method_y\n",
      "<[13]> ClassFive tests ..............................\n",
      "<[7]> ClassFive.__init__\n",
      "<[600]> MetaAleph.__init__:inner_2\n",
      "<[14]> ClassSix tests ..............................\n",
      "<[7]> ClassFive.__init__\n",
      "<[600]> MetaAleph.__init__:inner_2\n",
      "<[15]> evaltime_meta module end\n"
     ]
    }
   ],
   "source": [
    "!python evaltime_meta.py"
   ]
  },
  {
   "cell_type": "markdown",
   "id": "1771c1ba",
   "metadata": {},
   "source": [
    "1. When the decorator is applied to ClassThree, its method_y is replaced by the inner_1 method…\n",
    "2. But this has no effect on the undecorated ClassFour, even though ClassFour is a subclass of ClassThree.\n",
    "3. The `__init__` method of MetaAleph replaces ClassFive.method_z with its inner_2 function.\n",
    "4. The same happens with the ClassFive subclass, ClassSix: its method_z is replaced by inner_2.\n",
    "\n",
    "## A Metaclass for Customizing Descriptors"
   ]
  },
  {
   "cell_type": "code",
   "execution_count": 33,
   "id": "f8e758c1",
   "metadata": {},
   "outputs": [],
   "source": [
    "class EntityMeta(type):\n",
    "    \"\"\"Metaclass for business entities with validated fields\"\"\"\n",
    "\n",
    "    def __init__(cls, name, bases, attr_dict):\n",
    "        super().__init__(name, bases, attr_dict)  # <1>\n",
    "        for key, attr in attr_dict.items():  # <2>\n",
    "            if isinstance(attr, Validated):\n",
    "                type_name = type(attr).__name__\n",
    "                attr.storage_name = '_{}#{}'.format(type_name, key)\n",
    "\n",
    "class Entity(metaclass=EntityMeta):  # <3>\n",
    "    \"\"\"Business entity with validated fields\"\"\""
   ]
  },
  {
   "cell_type": "code",
   "execution_count": 34,
   "id": "a0199c17",
   "metadata": {},
   "outputs": [],
   "source": [
    "class LineItem(Entity):\n",
    "    weight = Quantity() \n",
    "    price = Quantity() \n",
    "    description = NonBlank()\n",
    "    \n",
    "    def __init__(self, description, weight, price): \n",
    "        self.description = description\n",
    "        self.weight = weight\n",
    "        self.price = price\n",
    "    \n",
    "    def subtotal(self):\n",
    "        return self.weight * self.price"
   ]
  },
  {
   "cell_type": "markdown",
   "id": "14b89adf",
   "metadata": {},
   "source": [
    "## The Metaclass `__prepare__` Special Method\n",
    "\n",
    "In some applications it’s interesting to be able to know the order in which the attributes of a class are defined. For example, a library to read/write CSV files driven by user-defined classes may want to map the order of the fields declared in the class to the order of the columns in the CSV file.\n",
    "\n",
    "As we’ve seen, both the type constructor and the `__new__` and `__init__` methods of metaclasses receive the body of the class evaluated as a mapping of names to attributes. However, by default, that mapping is a dict, which means the order of the attributes as they appear in the class body is lost by the time our metaclass or class decorator can look at them.\n",
    "\n",
    "The solution to this problem is the `__prepare__` special method.  This special method is relevant only in metaclasses, and it must be a class method\n",
    "(i.e., defined with the @classmethod decorator). The `__prepare__` method is invoked by the interpreter before the `__new__` method in the metaclass to create the mapping that will be filled with the attributes from the class body. Besides the metaclass as first argument, `__prepare__` gets the name of the class to be constructed and its tuple of base classes, and it must return a mapping, which will be received as the last argument by `__new__` and then `__init__` when the metaclass builds a new class."
   ]
  },
  {
   "cell_type": "code",
   "execution_count": 35,
   "id": "135a7c59",
   "metadata": {},
   "outputs": [],
   "source": [
    "class EntityMeta(type):\n",
    "    \"\"\"Metaclass for business entities with validated fields\"\"\"\n",
    "\n",
    "    @classmethod\n",
    "    def __prepare__(cls, name, bases):\n",
    "        return collections.OrderedDict()  # <1>\n",
    "\n",
    "    def __init__(cls, name, bases, attr_dict):\n",
    "        super().__init__(name, bases, attr_dict)\n",
    "        cls._field_names = []  # <2>\n",
    "        for key, attr in attr_dict.items():  # <3>\n",
    "            if isinstance(attr, Validated):\n",
    "                type_name = type(attr).__name__\n",
    "                attr.storage_name = '_{}#{}'.format(type_name, key)\n",
    "                cls._field_names.append(key)  # <4>"
   ]
  },
  {
   "cell_type": "code",
   "execution_count": 36,
   "id": "33bdf951",
   "metadata": {},
   "outputs": [],
   "source": [
    "class Entity(metaclass=EntityMeta):\n",
    "    \"\"\"Business entity with validated fields\"\"\"\n",
    "\n",
    "    @classmethod\n",
    "    def field_names(cls):  # <5>\n",
    "        for name in cls._field_names:\n",
    "            yield"
   ]
  },
  {
   "cell_type": "code",
   "execution_count": 37,
   "id": "6a924ef8",
   "metadata": {},
   "outputs": [],
   "source": [
    "class LineItem(Entity):\n",
    "    weight = Quantity() \n",
    "    price = Quantity() \n",
    "    description = NonBlank()\n",
    "    \n",
    "    def __init__(self, description, weight, price): \n",
    "        self.description = description\n",
    "        self.weight = weight\n",
    "        self.price = price\n",
    "    \n",
    "    def subtotal(self):\n",
    "        return self.weight * self.price"
   ]
  }
 ],
 "metadata": {
  "kernelspec": {
   "display_name": "Python 3 (ipykernel)",
   "language": "python",
   "name": "python3"
  },
  "language_info": {
   "codemirror_mode": {
    "name": "ipython",
    "version": 3
   },
   "file_extension": ".py",
   "mimetype": "text/x-python",
   "name": "python",
   "nbconvert_exporter": "python",
   "pygments_lexer": "ipython3",
   "version": "3.8.12"
  }
 },
 "nbformat": 4,
 "nbformat_minor": 5
}
