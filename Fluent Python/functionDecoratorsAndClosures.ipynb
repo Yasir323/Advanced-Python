{
 "cells": [
  {
   "cell_type": "code",
   "execution_count": 1,
   "id": "48df1db5-fe90-4763-b185-7075857a280f",
   "metadata": {},
   "outputs": [],
   "source": [
    "import time\n",
    "import html\n",
    "import numbers\n",
    "import functools\n",
    "from collections.abc import MutableSequence"
   ]
  },
  {
   "cell_type": "markdown",
   "id": "52375ffb-81bf-4663-8c3a-8065b54fedf2",
   "metadata": {},
   "source": [
    "A decorator is a callable that takes another function as argument (the decorated function). 2 The decorator may perform some processing with the decorated function, and returns it or replaces it with another function or callable object. In other words, assuming an existing decorator named decorate, this code:\n",
    "\n",
    "```\n",
    "@decorate\n",
    "def target():\n",
    "    print('running target()')\n",
    "```\n",
    "\n",
    "Has the same effect as writing this:\n",
    "\n",
    "```\n",
    "def target():\n",
    "    print('running target()')\n",
    "\n",
    "\n",
    "target = decorate(target)\n",
    "```"
   ]
  },
  {
   "cell_type": "code",
   "execution_count": 2,
   "id": "89805875-d1d6-47fe-9d3a-857a878c2d3e",
   "metadata": {},
   "outputs": [],
   "source": [
    "def deco(func):\n",
    "    def inner():\n",
    "        print(\"Running inner()\")\n",
    "        func()\n",
    "    return inner"
   ]
  },
  {
   "cell_type": "code",
   "execution_count": 3,
   "id": "c6ca1a99-76f8-4ea4-b84e-4d70a981a041",
   "metadata": {},
   "outputs": [],
   "source": [
    "@deco\n",
    "def target():\n",
    "    print(\"Running target()\")"
   ]
  },
  {
   "cell_type": "code",
   "execution_count": 4,
   "id": "4962db35-a99a-480e-bba4-57533476ce63",
   "metadata": {},
   "outputs": [
    {
     "name": "stdout",
     "output_type": "stream",
     "text": [
      "Running inner()\n",
      "Running target()\n"
     ]
    }
   ],
   "source": [
    "target()"
   ]
  },
  {
   "cell_type": "code",
   "execution_count": 5,
   "id": "430fc477-3ceb-4751-b5c1-79ed33c3f142",
   "metadata": {},
   "outputs": [
    {
     "data": {
      "text/plain": [
       "<function __main__.deco.<locals>.inner()>"
      ]
     },
     "execution_count": 5,
     "metadata": {},
     "output_type": "execute_result"
    }
   ],
   "source": [
    "target"
   ]
  },
  {
   "cell_type": "markdown",
   "id": "1047746b-e297-4509-ba4f-ec546116d331",
   "metadata": {},
   "source": [
    "## When Python Executes Decorators\n",
    "***A key feature of decorators is that they run right after the decorated function is defined. That is usually at import time (i.e., when a module is loaded by Python)***."
   ]
  },
  {
   "cell_type": "code",
   "execution_count": 6,
   "id": "f53568fe-742d-4484-ace4-d343c78631d7",
   "metadata": {},
   "outputs": [
    {
     "name": "stdout",
     "output_type": "stream",
     "text": [
      "Running register(<function f1 at 0x000001E9D7477AF0>)\n",
      "Running register(<function f2 at 0x000001E9D7477B80>)\n",
      "running main()\n",
      "registry -> [<function f1 at 0x000001E9D7477AF0>, <function f2 at 0x000001E9D7477B80>]\n",
      "running f1()\n",
      "running f2()\n",
      "running f3()\n"
     ]
    }
   ],
   "source": [
    "!python registration.py"
   ]
  },
  {
   "cell_type": "markdown",
   "id": "a9d414d8-71ca-4a67-bab2-606565ad56b8",
   "metadata": {},
   "source": [
    "Note that register runs (twice) before any other function in the module. When reg ister is called, it receives as an argument the function object being decorated—for example, <function f1 at 0x100631bf8>. After the module is loaded, the registry holds references to the two decorated functions: f1 and f2. These functions, as well as f3, are only executed when explicitly called\n",
    "by main."
   ]
  },
  {
   "cell_type": "code",
   "execution_count": 7,
   "id": "7e837a2e-3164-43ad-8efb-4579db0225a1",
   "metadata": {},
   "outputs": [
    {
     "name": "stdout",
     "output_type": "stream",
     "text": [
      "Running register(<function f1 at 0x0000021469410940>)\n",
      "Running register(<function f2 at 0x00000214694103A0>)\n"
     ]
    }
   ],
   "source": [
    "import registration"
   ]
  },
  {
   "cell_type": "code",
   "execution_count": 8,
   "id": "5a632f7f-c1f7-43c1-afd6-0f7db92f8956",
   "metadata": {},
   "outputs": [
    {
     "data": {
      "text/plain": [
       "[<function registration.f1()>, <function registration.f2()>]"
      ]
     },
     "execution_count": 8,
     "metadata": {},
     "output_type": "execute_result"
    }
   ],
   "source": [
    "registration.registry"
   ]
  },
  {
   "cell_type": "markdown",
   "id": "c35fefbd-e663-4942-a22b-a422deaa863f",
   "metadata": {},
   "source": [
    "The main point of above Example is to emphasize that function decorators are executed as soon as the module is imported, but the decorated functions only run when they are explicitly invoked. This highlights the difference between what Pythonistas call import time and runtime."
   ]
  },
  {
   "cell_type": "markdown",
   "id": "e9ec17f8-99ae-4aa6-85fb-eccfd041ac87",
   "metadata": {},
   "source": [
    "## Decorator-Enhanced Strategy Pattern"
   ]
  },
  {
   "cell_type": "code",
   "execution_count": 9,
   "id": "235068b6-4702-486a-b1fb-84a3811cfe56",
   "metadata": {},
   "outputs": [],
   "source": [
    "promos = []"
   ]
  },
  {
   "cell_type": "code",
   "execution_count": 10,
   "id": "356845b9-6694-4d24-bac1-979fc588b251",
   "metadata": {},
   "outputs": [],
   "source": [
    "def promotion(promo_func):\n",
    "    promos.append(promo_func)\n",
    "    return promo_func"
   ]
  },
  {
   "cell_type": "code",
   "execution_count": 11,
   "id": "27cd0426-69c2-4042-8dad-c943d2eb6106",
   "metadata": {},
   "outputs": [],
   "source": [
    "@promotion\n",
    "def fidelity(order):\n",
    "    \"\"\"5% discount for customers with 1000 or more fidelity points\"\"\"\n",
    "    return order.total() * .05 if order.customer.fidelity >= 1000 else 0"
   ]
  },
  {
   "cell_type": "code",
   "execution_count": 12,
   "id": "c9767fc8-9840-41d9-9549-2e294634ca55",
   "metadata": {},
   "outputs": [],
   "source": [
    "@promotion\n",
    "def bulk_item(order):\n",
    "    \"\"\"10% discount for each LineItem with 20 or more units\"\"\"\n",
    "    discount = 0\n",
    "    for item in order.cart:\n",
    "        if item.quantity >= 20:\n",
    "            discount += item.total() * .1\n",
    "    return discount"
   ]
  },
  {
   "cell_type": "code",
   "execution_count": 13,
   "id": "338a4f80-ecae-4506-b9dc-082f47ff4741",
   "metadata": {},
   "outputs": [],
   "source": [
    "@promotion\n",
    "def large_order(order):\n",
    "    \"\"\"7% discount for orders with 10 or more distinct items\"\"\"\n",
    "    distinct_items = {item.product for item in order.cart}\n",
    "    if len(distinct_items) >= 10:\n",
    "        return order.total() * .07\n",
    "    return 0"
   ]
  },
  {
   "cell_type": "code",
   "execution_count": 14,
   "id": "f129cf3d-7173-42d5-a23a-533e7d291b86",
   "metadata": {},
   "outputs": [],
   "source": [
    "def best_promo(order):\n",
    "    \"\"\"Select best discount available\n",
    "    \"\"\"\n",
    "    return max(promo(order) for promo in promos)"
   ]
  },
  {
   "cell_type": "markdown",
   "id": "fd7bd3fd-019a-4f11-ad3a-063c30df12a9",
   "metadata": {},
   "source": [
    "## Variable Scope Rules"
   ]
  },
  {
   "cell_type": "code",
   "execution_count": 15,
   "id": "bef3c7fc-087b-4c72-ae56-cf9e9655b384",
   "metadata": {},
   "outputs": [],
   "source": [
    "def f1(a):\n",
    "    print(a)\n",
    "    print(b)"
   ]
  },
  {
   "cell_type": "code",
   "execution_count": 16,
   "id": "d0c0948b-48d9-40c3-8d46-197112ae8cd0",
   "metadata": {},
   "outputs": [
    {
     "name": "stdout",
     "output_type": "stream",
     "text": [
      "2\n",
      "name 'b' is not defined\n"
     ]
    }
   ],
   "source": [
    "try:\n",
    "    f1(2)\n",
    "except NameError:\n",
    "    print(\"name 'b' is not defined\")"
   ]
  },
  {
   "cell_type": "code",
   "execution_count": 17,
   "id": "22bd47aa-58b5-4eb4-b025-1a85307e6eca",
   "metadata": {},
   "outputs": [
    {
     "name": "stdout",
     "output_type": "stream",
     "text": [
      "3\n",
      "6\n"
     ]
    }
   ],
   "source": [
    "b = 6\n",
    "f1(3)"
   ]
  },
  {
   "cell_type": "code",
   "execution_count": 18,
   "id": "5159090a-586b-448b-ba75-3882a77521be",
   "metadata": {},
   "outputs": [],
   "source": [
    "def f2(a):\n",
    "    print(a)\n",
    "    print(b)\n",
    "    b = 9"
   ]
  },
  {
   "cell_type": "code",
   "execution_count": 19,
   "id": "db3e9dce-0940-4520-82b0-11a792d4e658",
   "metadata": {},
   "outputs": [
    {
     "name": "stdout",
     "output_type": "stream",
     "text": [
      "3\n",
      "UnboundLocalError: local variable 'b' referenced before assignment\n"
     ]
    }
   ],
   "source": [
    "try:\n",
    "    f2(3)\n",
    "except UnboundLocalError:\n",
    "    print(\"UnboundLocalError: local variable 'b' referenced before assignment\")"
   ]
  },
  {
   "cell_type": "markdown",
   "id": "bfeafa67-31b2-477c-9711-62a0cdc16c57",
   "metadata": {},
   "source": [
    "When Python compiles the body of the function, it decides that b is a local variable because it is assigned within the function. The generated bytecode reflects this decision and will try to fetch b from the local environment. Later, when the call f2(3)\n",
    "is made, the body of f2 fetches and prints the value of the local variable a, but when trying to fetch the value of local variable b it discovers that b is unbound.\n",
    "\n",
    "This is not a bug, but a design choice: Python does not require you to declare variables, but assumes that a variable assigned in the body of a function is local. This is much better than the behavior of JavaScript, which does not require variable declarations either, but if you do forget to declare that a variable is local (with var), you may clobber a global variable without knowing."
   ]
  },
  {
   "cell_type": "markdown",
   "id": "a7e4bd37-63a1-4881-a263-1ac7fbc70ebd",
   "metadata": {},
   "source": [
    "## Closures\n",
    "A closure is a function with an extended scope that encompasses nonglobal\n",
    "variables referenced in the body of the function but not defined there. It does not matter\n",
    "whether the function is anonymous or not; what matters is that it can access nonglobal\n",
    "variables that are defined outside of its body."
   ]
  },
  {
   "cell_type": "markdown",
   "id": "8496d18b-ce93-4579-97bf-ec639a2c62be",
   "metadata": {},
   "source": [
    "### A class to calculate a running average"
   ]
  },
  {
   "cell_type": "code",
   "execution_count": 20,
   "id": "f55ac8a0-7dea-41b7-90cd-18d0cc64394f",
   "metadata": {},
   "outputs": [],
   "source": [
    "class Averager:\n",
    "    \n",
    "    def __init__(self):\n",
    "        self.series = []\n",
    "    \n",
    "    def __call__(self, new_value):\n",
    "        self.series.append(new_value)\n",
    "        total = sum(self.series)\n",
    "        return total / len(self.series)"
   ]
  },
  {
   "cell_type": "code",
   "execution_count": 21,
   "id": "a2bdf08a-2548-4cf7-95fa-fd3f22286912",
   "metadata": {},
   "outputs": [
    {
     "data": {
      "text/plain": [
       "10.0"
      ]
     },
     "execution_count": 21,
     "metadata": {},
     "output_type": "execute_result"
    }
   ],
   "source": [
    "avg = Averager()\n",
    "avg(10)"
   ]
  },
  {
   "cell_type": "code",
   "execution_count": 22,
   "id": "d60e564b-4212-4e8f-be34-ac1c6ccef72a",
   "metadata": {},
   "outputs": [
    {
     "data": {
      "text/plain": [
       "10.5"
      ]
     },
     "execution_count": 22,
     "metadata": {},
     "output_type": "execute_result"
    }
   ],
   "source": [
    "avg(11)"
   ]
  },
  {
   "cell_type": "code",
   "execution_count": 23,
   "id": "220d1e21-f57d-498f-bff2-ab933e444434",
   "metadata": {},
   "outputs": [
    {
     "data": {
      "text/plain": [
       "11.0"
      ]
     },
     "execution_count": 23,
     "metadata": {},
     "output_type": "execute_result"
    }
   ],
   "source": [
    "avg(12)"
   ]
  },
  {
   "cell_type": "markdown",
   "id": "6c255b3e-54b6-48ce-9289-1ad686e1fb69",
   "metadata": {},
   "source": [
    "### A higher-order function to calculate a running average"
   ]
  },
  {
   "cell_type": "code",
   "execution_count": 24,
   "id": "89250e27-5689-433c-a976-04ded9a372e9",
   "metadata": {},
   "outputs": [],
   "source": [
    "def make_averager():\n",
    "    series = []\n",
    "    def averager(new_value):\n",
    "        series.append(new_value)\n",
    "        total = sum(series)\n",
    "        return total / len(series)\n",
    "    return averager"
   ]
  },
  {
   "cell_type": "code",
   "execution_count": 25,
   "id": "6a2f9a98-5e70-498e-8995-568847fa046a",
   "metadata": {},
   "outputs": [
    {
     "data": {
      "text/plain": [
       "10.0"
      ]
     },
     "execution_count": 25,
     "metadata": {},
     "output_type": "execute_result"
    }
   ],
   "source": [
    "avg = make_averager()\n",
    "avg(10)"
   ]
  },
  {
   "cell_type": "code",
   "execution_count": 26,
   "id": "cdaec1c2-645c-4e54-b2f0-5a3ed6c08093",
   "metadata": {},
   "outputs": [
    {
     "data": {
      "text/plain": [
       "10.5"
      ]
     },
     "execution_count": 26,
     "metadata": {},
     "output_type": "execute_result"
    }
   ],
   "source": [
    "avg(11)"
   ]
  },
  {
   "cell_type": "markdown",
   "id": "4f3e5621-a2ce-4b06-949a-c4b3c24c8f6f",
   "metadata": {},
   "source": [
    "It’s obvious where the avg of the `Averager` class keeps the history: the `self.series` instance attribute. But where does the avg function in the second example find the series?\n",
    "\n",
    "Note that series is a local variable of make_averager because the initialization `series = []` happens in the body of that function. But when `avg(10)` is called, `make_averager` has already returned, and its local scope is long gone.\n",
    "\n",
    "Within averager, series is a free variable. This is a technical term meaning a variable that is not bound in the local scope.\n",
    "\n",
    "Inspecting the returned averager object shows how Python keeps the names of `local` and `free variables` in the `__code__` attribute that represents the compiled body of the function."
   ]
  },
  {
   "cell_type": "code",
   "execution_count": 27,
   "id": "05f24e20-5c4d-4171-99df-04e02676b088",
   "metadata": {},
   "outputs": [
    {
     "data": {
      "text/plain": [
       "('new_value', 'total')"
      ]
     },
     "execution_count": 27,
     "metadata": {},
     "output_type": "execute_result"
    }
   ],
   "source": [
    "avg.__code__.co_varnames"
   ]
  },
  {
   "cell_type": "code",
   "execution_count": 28,
   "id": "55cca799-6d2a-40fa-869b-bc06565f6f8e",
   "metadata": {},
   "outputs": [
    {
     "data": {
      "text/plain": [
       "('series',)"
      ]
     },
     "execution_count": 28,
     "metadata": {},
     "output_type": "execute_result"
    }
   ],
   "source": [
    "avg.__code__.co_freevars"
   ]
  },
  {
   "cell_type": "markdown",
   "id": "4cf82d01-c390-4d6c-841e-869733d66cde",
   "metadata": {},
   "source": [
    "The binding for series is kept in the `__closure__` attribute of the returned function `avg`. Each item in `avg.__closure__` corresponds to a name in `avg.__code__.co_free` vars. These items are cells, and they have an attribute called cell_contents where\n",
    "the actual value can be found."
   ]
  },
  {
   "cell_type": "code",
   "execution_count": 29,
   "id": "eeb56b7a-c54d-40ac-85b7-5cbac9092fd9",
   "metadata": {},
   "outputs": [
    {
     "data": {
      "text/plain": [
       "(<cell at 0x0000021469431C10: list object at 0x0000021469405500>,)"
      ]
     },
     "execution_count": 29,
     "metadata": {},
     "output_type": "execute_result"
    }
   ],
   "source": [
    "avg.__closure__"
   ]
  },
  {
   "cell_type": "code",
   "execution_count": 30,
   "id": "01ba533f-8bd4-4045-9e29-50bec3156c76",
   "metadata": {},
   "outputs": [
    {
     "data": {
      "text/plain": [
       "[10, 11]"
      ]
     },
     "execution_count": 30,
     "metadata": {},
     "output_type": "execute_result"
    }
   ],
   "source": [
    "avg.__closure__[0].cell_contents"
   ]
  },
  {
   "cell_type": "markdown",
   "id": "1f70c425-684d-4a36-a966-250b202ab1ee",
   "metadata": {},
   "source": [
    "**To summarize:** a closure is a function that retains the bindings of the free variables that exist when the function is defined, so that they can be used later when the function is invoked and the defining scope is no longer available."
   ]
  },
  {
   "cell_type": "markdown",
   "id": "7dd5bd97-d54e-4b1d-809e-e13b9c12c107",
   "metadata": {},
   "source": [
    "## The nonlocal Declaration\n",
    "Our previous implementation of make_averager was not efficient. In Example above, we stored all the values in the historical series and computed their sum every time averager was called. A better implementation would just store the total and the number of items\n",
    "so far, and compute the mean from these two numbers."
   ]
  },
  {
   "cell_type": "markdown",
   "id": "30757c70-703a-4198-8ed2-3c5fbc657bf5",
   "metadata": {},
   "source": [
    "### A broken higher-order function to calculate a running average without keeping all history"
   ]
  },
  {
   "cell_type": "code",
   "execution_count": 31,
   "id": "35b47ecd-edcd-43c2-9501-82629e629d7b",
   "metadata": {},
   "outputs": [],
   "source": [
    "def make_averager():\n",
    "    count = 0\n",
    "    total = 0\n",
    "    def averager(new_value):\n",
    "        count += 1\n",
    "        total += new_value\n",
    "        return total / count\n",
    "    return averager"
   ]
  },
  {
   "cell_type": "code",
   "execution_count": 32,
   "id": "6cfd6093-d83b-4929-8184-4652da88ddb2",
   "metadata": {},
   "outputs": [
    {
     "name": "stdout",
     "output_type": "stream",
     "text": [
      "UnboundLocalError: local variable 'count' referenced before assignment\n"
     ]
    }
   ],
   "source": [
    "avg = make_averager()\n",
    "try:\n",
    "    avg(10)\n",
    "except UnboundLocalError:\n",
    "    print(\"UnboundLocalError: local variable 'count' referenced before assignment\")"
   ]
  },
  {
   "cell_type": "markdown",
   "id": "a02b7c2b-cee4-440a-b840-b1b3873bc616",
   "metadata": {},
   "source": [
    "The problem is that the statement `count += 1` actually means the same as `count = count + 1`, when count is a number or any immutable type. So we are actually assigning to count in the body of averager, and that makes it a local variable.\n",
    "\n",
    "To work around this, the `nonlocal` declaration was introduced in Python 3. It lets you flag a variable as a free variable even when it is assigned a new value within the function."
   ]
  },
  {
   "cell_type": "code",
   "execution_count": 33,
   "id": "5388d739-f7c5-4150-a50c-b4ce410bfe15",
   "metadata": {},
   "outputs": [],
   "source": [
    "def make_averager():\n",
    "    count = 0\n",
    "    total = 0\n",
    "    def averager(new_value):\n",
    "        nonlocal count, total\n",
    "        count += 1\n",
    "        total += new_value\n",
    "        return total / count\n",
    "    return averager"
   ]
  },
  {
   "cell_type": "code",
   "execution_count": 34,
   "id": "953487e8-263e-48f7-bd58-d99b07111464",
   "metadata": {},
   "outputs": [
    {
     "data": {
      "text/plain": [
       "10.0"
      ]
     },
     "execution_count": 34,
     "metadata": {},
     "output_type": "execute_result"
    }
   ],
   "source": [
    "avg = make_averager()\n",
    "avg(10)"
   ]
  },
  {
   "cell_type": "code",
   "execution_count": 35,
   "id": "1ae2c546-496b-4295-b4ae-b5e84e81215d",
   "metadata": {},
   "outputs": [
    {
     "data": {
      "text/plain": [
       "10.5"
      ]
     },
     "execution_count": 35,
     "metadata": {},
     "output_type": "execute_result"
    }
   ],
   "source": [
    "avg(11)"
   ]
  },
  {
   "cell_type": "code",
   "execution_count": 36,
   "id": "71919391-99e4-4a01-bb6a-c70fc7bb6b9c",
   "metadata": {},
   "outputs": [
    {
     "data": {
      "text/plain": [
       "11.0"
      ]
     },
     "execution_count": 36,
     "metadata": {},
     "output_type": "execute_result"
    }
   ],
   "source": [
    "avg(12)"
   ]
  },
  {
   "cell_type": "markdown",
   "id": "3bf3a8d0-b60d-432a-98e0-c65d3604d4d0",
   "metadata": {},
   "source": [
    "## Implementing a Simple Decorator"
   ]
  },
  {
   "cell_type": "code",
   "execution_count": 37,
   "id": "7ae758b5-6c70-4978-95b2-f1b144c1f895",
   "metadata": {},
   "outputs": [],
   "source": [
    "def clock(func):\n",
    "    def clocked(*args):\n",
    "        t0 = time.perf_counter()\n",
    "        result = func(*args)\n",
    "        elapsed = time.perf_counter() - t0\n",
    "        name = func.__name__\n",
    "        arg_str = ', '.join(repr(arg) for arg in args)\n",
    "        print(f\"[{elapsed:.8f}] {name}(){arg_str} -> {result}\")\n",
    "        return result\n",
    "    return clocked"
   ]
  },
  {
   "cell_type": "code",
   "execution_count": 38,
   "id": "ddd47da1-0ba9-4b6d-b6a8-86c1bb158e1d",
   "metadata": {},
   "outputs": [],
   "source": [
    "@clock\n",
    "def snooze(seconds):\n",
    "    time.sleep(seconds)"
   ]
  },
  {
   "cell_type": "code",
   "execution_count": 39,
   "id": "0d38a033-c6c9-4d02-8575-9b305cbda3f9",
   "metadata": {},
   "outputs": [],
   "source": [
    "@clock\n",
    "def factorial(n):\n",
    "    return 1 if n < 2 else n*factorial(n-1)"
   ]
  },
  {
   "cell_type": "code",
   "execution_count": 40,
   "id": "86cc62ab-5de0-4a9b-af62-725405b3ca11",
   "metadata": {},
   "outputs": [
    {
     "name": "stdout",
     "output_type": "stream",
     "text": [
      "**************************************** \n",
      "Calling snooze(.123)\n",
      "[0.12319720] snooze()0.123 -> None\n",
      "**************************************** \n",
      "Calling factorial(10)\n",
      "[0.00000090] factorial()1 -> 1\n",
      "[0.00005530] factorial()2 -> 2\n",
      "[0.00009050] factorial()3 -> 6\n",
      "[0.00012490] factorial()4 -> 24\n",
      "[0.00015900] factorial()5 -> 120\n",
      "[0.00019560] factorial()6 -> 720\n",
      "[0.00022800] factorial()7 -> 5040\n",
      "[0.00025770] factorial()8 -> 40320\n",
      "[0.00084820] factorial()9 -> 362880\n",
      "[0.00104260] factorial()10 -> 3628800\n",
      "10! = 3628800\n"
     ]
    }
   ],
   "source": [
    "print('*' * 40, '\\nCalling snooze(.123)')\n",
    "snooze(.123)\n",
    "print('*' * 40, '\\nCalling factorial(10)')\n",
    "print('10! =', factorial(10))"
   ]
  },
  {
   "cell_type": "code",
   "execution_count": 41,
   "id": "d10424ea-1d4e-435a-bd7a-3ef8065a769d",
   "metadata": {},
   "outputs": [
    {
     "data": {
      "text/plain": [
       "'clocked'"
      ]
     },
     "execution_count": 41,
     "metadata": {},
     "output_type": "execute_result"
    }
   ],
   "source": [
    "factorial.__name__"
   ]
  },
  {
   "cell_type": "markdown",
   "id": "02af87d8-544c-4a75-94a1-9c200960ff29",
   "metadata": {},
   "source": [
    "So factorial now actually holds a reference to the clocked function. From now on, each time factorial(n) is called, clocked(n) gets executed.\n",
    "\n",
    "The clock decorator implemented in Example 7-15 has a few shortcomings: it does not support keyword arguments, and it masks the `__name__` and `__doc__` of the decorated function."
   ]
  },
  {
   "cell_type": "markdown",
   "id": "3366f4b8-b0f1-4352-bfa3-413b8a7ccebf",
   "metadata": {},
   "source": [
    "### An improved clock decorator"
   ]
  },
  {
   "cell_type": "code",
   "execution_count": 42,
   "id": "15163835-6eef-45a9-9ece-e1ce8c31bba6",
   "metadata": {},
   "outputs": [],
   "source": [
    "def clock(func):\n",
    "    @functools.wraps(func)\n",
    "    def clocked(*args, **kwargs):\n",
    "        t0 = time.time()\n",
    "        result = func(*args, **kwargs)\n",
    "        elapsed = time.time() - t0\n",
    "        name = func.__name__\n",
    "        arg_lst = []\n",
    "        if args:\n",
    "            arg_lst.append(', '.join(repr(arg) for arg in args))\n",
    "        if kwargs:\n",
    "            pairs = ['%s=%r' % (k, w) for k, w in sorted(kwargs.items())]\n",
    "            arg_lst.append(', '.join(pairs))\n",
    "        arg_str = ', '.join(arg_lst)\n",
    "        print('[%0.8fs] %s(%s) -> %r ' % (elapsed, name, arg_str, result))\n",
    "        return result\n",
    "    return clocked"
   ]
  },
  {
   "cell_type": "code",
   "execution_count": 43,
   "id": "938dbbc2-c8ec-4b48-bab5-092783eb648b",
   "metadata": {},
   "outputs": [],
   "source": [
    "@clock\n",
    "def snooze(seconds):\n",
    "    time.sleep(seconds)"
   ]
  },
  {
   "cell_type": "code",
   "execution_count": 44,
   "id": "f5b9cf44-a542-4d8e-b8c5-7239ff455d7b",
   "metadata": {},
   "outputs": [],
   "source": [
    "@clock\n",
    "def factorial(n):\n",
    "    return 1 if n < 2 else n*factorial(n-1)"
   ]
  },
  {
   "cell_type": "code",
   "execution_count": 45,
   "id": "7da8a8c1-61bb-4c4f-bd31-81f910119a0b",
   "metadata": {},
   "outputs": [
    {
     "name": "stdout",
     "output_type": "stream",
     "text": [
      "**************************************** \n",
      "Calling snooze(.123)\n",
      "[0.12792683s] snooze(0.123) -> None \n",
      "**************************************** \n",
      "Calling factorial(10)\n",
      "[0.00000000s] factorial(1) -> 1 \n",
      "[0.00099993s] factorial(2) -> 2 \n",
      "[0.00099993s] factorial(3) -> 6 \n",
      "[0.00099993s] factorial(4) -> 24 \n",
      "[0.00099993s] factorial(5) -> 120 \n",
      "[0.00099993s] factorial(6) -> 720 \n",
      "[0.00299811s] factorial(7) -> 5040 \n",
      "[0.00299811s] factorial(8) -> 40320 \n",
      "[0.00299811s] factorial(9) -> 362880 \n",
      "[0.00299811s] factorial(10) -> 3628800 \n",
      "10! = 3628800\n"
     ]
    }
   ],
   "source": [
    "print('*' * 40, '\\nCalling snooze(.123)')\n",
    "snooze(.123)\n",
    "print('*' * 40, '\\nCalling factorial(10)')\n",
    "print('10! =', factorial(10))"
   ]
  },
  {
   "cell_type": "code",
   "execution_count": 46,
   "id": "3ac37bf6-223a-46dc-ab91-807ceccb8656",
   "metadata": {},
   "outputs": [
    {
     "data": {
      "text/plain": [
       "'factorial'"
      ]
     },
     "execution_count": 46,
     "metadata": {},
     "output_type": "execute_result"
    }
   ],
   "source": [
    "factorial.__name__"
   ]
  },
  {
   "cell_type": "markdown",
   "id": "ba649198-85c4-4548-a052-dba2e0bcc633",
   "metadata": {},
   "source": [
    "## Memoization with functools.lru_cache"
   ]
  },
  {
   "cell_type": "code",
   "execution_count": 47,
   "id": "ac2ffe92-130f-4c7c-963e-7c8866e3773d",
   "metadata": {},
   "outputs": [],
   "source": [
    "@clock\n",
    "def fibonacci(n):\n",
    "    if n < 2:\n",
    "        return n\n",
    "    return fibonacci(n-2) + fibonacci(n-1)"
   ]
  },
  {
   "cell_type": "code",
   "execution_count": 48,
   "id": "b81e8f88-04d1-4e80-87fb-12bc0371fd10",
   "metadata": {},
   "outputs": [
    {
     "name": "stdout",
     "output_type": "stream",
     "text": [
      "[0.00000000s] fibonacci(0) -> 0 \n",
      "[0.00000000s] fibonacci(1) -> 1 \n",
      "[0.00000000s] fibonacci(2) -> 1 \n",
      "[0.00000000s] fibonacci(1) -> 1 \n",
      "[0.00000000s] fibonacci(0) -> 0 \n",
      "[0.00000000s] fibonacci(1) -> 1 \n",
      "[0.00000000s] fibonacci(2) -> 1 \n",
      "[0.00000000s] fibonacci(3) -> 2 \n",
      "[0.00000000s] fibonacci(4) -> 3 \n",
      "[0.00000000s] fibonacci(1) -> 1 \n",
      "[0.00000000s] fibonacci(0) -> 0 \n",
      "[0.00000000s] fibonacci(1) -> 1 \n",
      "[0.00000000s] fibonacci(2) -> 1 \n",
      "[0.00000000s] fibonacci(3) -> 2 \n",
      "[0.00000000s] fibonacci(0) -> 0 \n",
      "[0.00000000s] fibonacci(1) -> 1 \n",
      "[0.00000000s] fibonacci(2) -> 1 \n",
      "[0.00000000s] fibonacci(1) -> 1 \n",
      "[0.00000000s] fibonacci(0) -> 0 \n",
      "[0.00000000s] fibonacci(1) -> 1 \n",
      "[0.00000000s] fibonacci(2) -> 1 \n",
      "[0.00000000s] fibonacci(3) -> 2 \n",
      "[0.00000000s] fibonacci(4) -> 3 \n",
      "[0.00000000s] fibonacci(5) -> 5 \n",
      "[0.00099945s] fibonacci(6) -> 8 \n",
      "8\n"
     ]
    }
   ],
   "source": [
    "print(fibonacci(6))"
   ]
  },
  {
   "cell_type": "markdown",
   "id": "d6aba2b0-40d0-4221-96be-eebbc81a186f",
   "metadata": {},
   "source": [
    "The waste is obvious: fibonacci(1) is called eight times, fibonacci(2) five times, etc. But if we just add two lines to use lru_cache, performance is much improved."
   ]
  },
  {
   "cell_type": "code",
   "execution_count": 49,
   "id": "2c5f0e84-99d4-4eb2-82a3-7b7b70c268cf",
   "metadata": {},
   "outputs": [],
   "source": [
    "@functools.lru_cache() #\n",
    "@clock #\n",
    "def fibonacci(n):\n",
    "    if n < 2:\n",
    "        return n\n",
    "    return fibonacci(n-2) + fibonacci(n-1)"
   ]
  },
  {
   "cell_type": "code",
   "execution_count": 50,
   "id": "1c786868-6fff-4ee3-8276-05f95ce1b710",
   "metadata": {},
   "outputs": [
    {
     "name": "stdout",
     "output_type": "stream",
     "text": [
      "[0.00000000s] fibonacci(0) -> 0 \n",
      "[0.00000000s] fibonacci(1) -> 1 \n",
      "[0.00299954s] fibonacci(2) -> 1 \n",
      "[0.00000000s] fibonacci(3) -> 2 \n",
      "[0.00299954s] fibonacci(4) -> 3 \n",
      "[0.00000000s] fibonacci(5) -> 5 \n",
      "[0.00399780s] fibonacci(6) -> 8 \n",
      "8\n"
     ]
    }
   ],
   "source": [
    "print(fibonacci(6))"
   ]
  },
  {
   "cell_type": "markdown",
   "id": "54bbac56-1dd6-4ee0-992c-fc30c705019a",
   "metadata": {},
   "source": [
    "## Generic Functions with Single Dispatch"
   ]
  },
  {
   "cell_type": "code",
   "execution_count": 51,
   "id": "b2b76186-0d3b-4ed8-a698-94e43e035376",
   "metadata": {},
   "outputs": [],
   "source": [
    "def htmlize(obj):\n",
    "    content = html.escape(repr(obj))\n",
    "    return '<pre>{}</pre>'.format(content)"
   ]
  },
  {
   "cell_type": "code",
   "execution_count": 52,
   "id": "95b1b8cb-3e3a-41f5-9ff7-cf9278c2f32d",
   "metadata": {},
   "outputs": [
    {
     "data": {
      "text/plain": [
       "'<pre>&lt;built-in function abs&gt;</pre>'"
      ]
     },
     "execution_count": 52,
     "metadata": {},
     "output_type": "execute_result"
    }
   ],
   "source": [
    "htmlize(abs)"
   ]
  },
  {
   "cell_type": "code",
   "execution_count": 53,
   "id": "3b6f4472-c127-4478-ab97-6f5710b0e295",
   "metadata": {},
   "outputs": [
    {
     "data": {
      "text/plain": [
       "'<pre>&#x27;Heimlich &amp; Co.\\\\n- a game&#x27;</pre>'"
      ]
     },
     "execution_count": 53,
     "metadata": {},
     "output_type": "execute_result"
    }
   ],
   "source": [
    "htmlize('Heimlich & Co.\\n- a game')"
   ]
  },
  {
   "cell_type": "code",
   "execution_count": 54,
   "id": "31bad7f1-4224-4741-9f29-f0d211c68276",
   "metadata": {},
   "outputs": [
    {
     "data": {
      "text/plain": [
       "'<pre>42</pre>'"
      ]
     },
     "execution_count": 54,
     "metadata": {},
     "output_type": "execute_result"
    }
   ],
   "source": [
    "htmlize(42)"
   ]
  },
  {
   "cell_type": "code",
   "execution_count": 55,
   "id": "1f8c0820-9391-4e8c-9be4-db8ab1cb845c",
   "metadata": {},
   "outputs": [
    {
     "name": "stdout",
     "output_type": "stream",
     "text": [
      "<pre>[&#x27;alpha&#x27;, 66, {1, 2, 3}]</pre>\n"
     ]
    }
   ],
   "source": [
    "print(htmlize(['alpha', 66, {3, 2, 1}]))"
   ]
  },
  {
   "cell_type": "markdown",
   "id": "a695253a-788e-4c6e-8694-6fb252acf5bf",
   "metadata": {},
   "source": [
    "Because we don’t have method or function overloading in Python, we can’t create variations of htmlize with different signatures for each data type we want to handle differently.\n",
    "\n",
    "A common solution in Python would be to turn htmlize into a dispatch function, with a chain of if/elif/elif calling specialized functions like htmlize_str, htmlize_int, etc."
   ]
  },
  {
   "cell_type": "code",
   "execution_count": 56,
   "id": "bba885c4-c3ea-4131-8d50-f0b3edb1c49d",
   "metadata": {},
   "outputs": [],
   "source": [
    "@functools.singledispatch\n",
    "def htmlize(obj):\n",
    "    content = html.escape(repr(obj))\n",
    "    return '<pre>{}</pre>'.format(content)"
   ]
  },
  {
   "cell_type": "code",
   "execution_count": 57,
   "id": "b2123dea-ee43-4883-936b-5b023d978634",
   "metadata": {},
   "outputs": [],
   "source": [
    "@htmlize.register(str)\n",
    "def _(text):\n",
    "    content = html.escape(text).replace('\\n', '<br>\\n')\n",
    "    return '<p>{0}</p>'.format(content)"
   ]
  },
  {
   "cell_type": "code",
   "execution_count": 58,
   "id": "d3b05c3f-8849-44f8-9faf-29d82c032c8e",
   "metadata": {},
   "outputs": [],
   "source": [
    "@htmlize.register(numbers.Integral)\n",
    "def _(n):\n",
    "    return '<pre>{0} (0x{0:x})</pre>'.format(n)"
   ]
  },
  {
   "cell_type": "code",
   "execution_count": 59,
   "id": "78a42a2b-bc02-4524-ac18-7299c8d79aae",
   "metadata": {},
   "outputs": [],
   "source": [
    "@htmlize.register(tuple)\n",
    "@htmlize.register(MutableSequence)\n",
    "def _(seq):\n",
    "    inner = '</li>\\n<li>'.join(htmlize(item) for item in seq)\n",
    "    return '<ul>\\n<li>' + inner + '</li>\\n</ul>'"
   ]
  },
  {
   "cell_type": "markdown",
   "id": "a3a1f795-dd38-4a8d-80f0-a1535fa0de13",
   "metadata": {},
   "source": [
    "## Parameterized Decorators\n",
    "### To accept parameters, the new register decorator must be called as a function"
   ]
  },
  {
   "cell_type": "code",
   "execution_count": 60,
   "id": "08aec3ec-722b-4ff5-8990-b3f130832e3e",
   "metadata": {},
   "outputs": [
    {
     "name": "stdout",
     "output_type": "stream",
     "text": [
      "running register(active=False)->decorate(<function f1 at 0x000002146945BAF0>)\n",
      "running register(active=True)->decorate(<function f2 at 0x000002146945BD30>)\n"
     ]
    }
   ],
   "source": [
    "import registration_param"
   ]
  },
  {
   "cell_type": "code",
   "execution_count": 61,
   "id": "7901933b-9430-4486-953c-db02a1b77c57",
   "metadata": {},
   "outputs": [
    {
     "data": {
      "text/plain": [
       "{<function registration_param.f2()>}"
      ]
     },
     "execution_count": 61,
     "metadata": {},
     "output_type": "execute_result"
    }
   ],
   "source": [
    "registration_param.registry"
   ]
  },
  {
   "cell_type": "code",
   "execution_count": 62,
   "id": "98f89147-88a9-4adb-a6cf-4f2152eb2036",
   "metadata": {},
   "outputs": [],
   "source": [
    "from registration_param import *"
   ]
  },
  {
   "cell_type": "code",
   "execution_count": 63,
   "id": "a614c4a2-b0fb-4fb9-9e13-f2a16b15da60",
   "metadata": {},
   "outputs": [
    {
     "data": {
      "text/plain": [
       "{<function registration_param.f2()>}"
      ]
     },
     "execution_count": 63,
     "metadata": {},
     "output_type": "execute_result"
    }
   ],
   "source": [
    "registry"
   ]
  },
  {
   "cell_type": "code",
   "execution_count": 64,
   "id": "d70542a4-10de-46cc-8159-ad4a0886ae11",
   "metadata": {},
   "outputs": [
    {
     "name": "stdout",
     "output_type": "stream",
     "text": [
      "running register(active=True)->decorate(<function f3 at 0x000002146945BA60>)\n"
     ]
    },
    {
     "data": {
      "text/plain": [
       "<function registration_param.f3()>"
      ]
     },
     "execution_count": 64,
     "metadata": {},
     "output_type": "execute_result"
    }
   ],
   "source": [
    "register()(f3)"
   ]
  },
  {
   "cell_type": "code",
   "execution_count": 65,
   "id": "0f5b218d-5326-49ec-9a79-e134748afaad",
   "metadata": {},
   "outputs": [
    {
     "data": {
      "text/plain": [
       "{<function registration_param.f2()>, <function registration_param.f3()>}"
      ]
     },
     "execution_count": 65,
     "metadata": {},
     "output_type": "execute_result"
    }
   ],
   "source": [
    "registry"
   ]
  },
  {
   "cell_type": "code",
   "execution_count": 66,
   "id": "dce0adec-9f93-49e2-9b94-c6d7ddcf0e3c",
   "metadata": {},
   "outputs": [
    {
     "name": "stdout",
     "output_type": "stream",
     "text": [
      "running register(active=False)->decorate(<function f2 at 0x000002146945BD30>)\n"
     ]
    },
    {
     "data": {
      "text/plain": [
       "<function registration_param.f2()>"
      ]
     },
     "execution_count": 66,
     "metadata": {},
     "output_type": "execute_result"
    }
   ],
   "source": [
    "register(active=False)(f2)"
   ]
  },
  {
   "cell_type": "code",
   "execution_count": 67,
   "id": "5ca18f94-067c-4353-91fa-416e195b20d7",
   "metadata": {},
   "outputs": [
    {
     "data": {
      "text/plain": [
       "{<function registration_param.f3()>}"
      ]
     },
     "execution_count": 67,
     "metadata": {},
     "output_type": "execute_result"
    }
   ],
   "source": [
    "registry"
   ]
  },
  {
   "cell_type": "markdown",
   "id": "fcd74ecc-45d8-41e5-8e89-1275fb4351e4",
   "metadata": {},
   "source": [
    "### The parameterized clock decorator"
   ]
  },
  {
   "cell_type": "code",
   "execution_count": 68,
   "id": "7a838a7f-38aa-4272-8cd7-c6eb0f9091bf",
   "metadata": {},
   "outputs": [],
   "source": [
    "DEFAULT_FMT = '[{elapsed:0.8f}s] {name}({args}) -> {result}'"
   ]
  },
  {
   "cell_type": "code",
   "execution_count": 69,
   "id": "5bd77b4b-d759-479a-81f3-5fa84cf96b51",
   "metadata": {},
   "outputs": [],
   "source": [
    "def clock(fmt=DEFAULT_FMT):\n",
    "    def decorate(func):\n",
    "        def clocked(*_args):\n",
    "            t0 = time.time()\n",
    "            _result = func(*_args)\n",
    "            elapsed = time.time() - t0\n",
    "            name = func.__name__\n",
    "            args = ', '.join(repr(arg) for arg in _args)\n",
    "            result = repr(_result)\n",
    "            print(fmt.format(**locals()))\n",
    "            return _result\n",
    "        return clocked\n",
    "    return decorate"
   ]
  },
  {
   "cell_type": "code",
   "execution_count": 70,
   "id": "e1d8c8ab-c8e7-4e67-8ca8-6fe9096fd994",
   "metadata": {},
   "outputs": [],
   "source": [
    "@clock()\n",
    "def snooze(seconds):\n",
    "    time.sleep(seconds)"
   ]
  },
  {
   "cell_type": "code",
   "execution_count": 71,
   "id": "e044e13b-7e0a-40df-8938-119100120ec6",
   "metadata": {},
   "outputs": [
    {
     "name": "stdout",
     "output_type": "stream",
     "text": [
      "[0.14791679s] snooze(0.123) -> None\n",
      "[0.12808466s] snooze(0.123) -> None\n",
      "[0.12435579s] snooze(0.123) -> None\n"
     ]
    }
   ],
   "source": [
    "for i in range(3):\n",
    "    snooze(.123)"
   ]
  },
  {
   "cell_type": "code",
   "execution_count": 72,
   "id": "e7e1d2ee-35c0-4c11-b3d9-257091c72742",
   "metadata": {},
   "outputs": [],
   "source": [
    "@clock('{name}: {elapsed}s')\n",
    "def snooze(seconds):\n",
    "    time.sleep(seconds)"
   ]
  },
  {
   "cell_type": "code",
   "execution_count": 73,
   "id": "f3031a03-e1b8-42c2-9ef9-71dd58054123",
   "metadata": {},
   "outputs": [
    {
     "name": "stdout",
     "output_type": "stream",
     "text": [
      "snooze: 0.13182997703552246s\n",
      "snooze: 0.12357354164123535s\n",
      "snooze: 0.12360095977783203s\n"
     ]
    }
   ],
   "source": [
    "for i in range(3):\n",
    "    snooze(.123)"
   ]
  },
  {
   "cell_type": "code",
   "execution_count": 74,
   "id": "cfc8b19c-4537-4eaa-bb64-d59d89092f19",
   "metadata": {},
   "outputs": [],
   "source": [
    "@clock('{name}({args}) dt={elapsed:0.3f}s')\n",
    "def snooze(seconds):\n",
    "    time.sleep(seconds)"
   ]
  },
  {
   "cell_type": "code",
   "execution_count": 75,
   "id": "53206ca2-2e90-4e00-8fd9-c84cbfbe75bd",
   "metadata": {},
   "outputs": [
    {
     "name": "stdout",
     "output_type": "stream",
     "text": [
      "snooze(0.123) dt=0.136s\n",
      "snooze(0.123) dt=0.125s\n",
      "snooze(0.123) dt=0.123s\n"
     ]
    }
   ],
   "source": [
    "for i in range(3):\n",
    "    snooze(.123)"
   ]
  },
  {
   "cell_type": "markdown",
   "id": "8072f45b-8e1a-4920-b05a-5454b22d1570",
   "metadata": {},
   "source": [
    "Parameterized decorators usually replace the decorated function, and their construction requires yet another level of nesting."
   ]
  }
 ],
 "metadata": {
  "kernelspec": {
   "display_name": "Python 3 (ipykernel)",
   "language": "python",
   "name": "python3"
  },
  "language_info": {
   "codemirror_mode": {
    "name": "ipython",
    "version": 3
   },
   "file_extension": ".py",
   "mimetype": "text/x-python",
   "name": "python",
   "nbconvert_exporter": "python",
   "pygments_lexer": "ipython3",
   "version": "3.8.12"
  }
 },
 "nbformat": 4,
 "nbformat_minor": 5
}
