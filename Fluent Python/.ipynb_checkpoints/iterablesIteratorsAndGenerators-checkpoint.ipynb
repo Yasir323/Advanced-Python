{
 "cells": [
  {
   "cell_type": "code",
   "execution_count": 1,
   "id": "6397e1ba",
   "metadata": {},
   "outputs": [],
   "source": [
    "import re\n",
    "import random\n",
    "import reprlib\n",
    "import operator\n",
    "import itertools\n",
    "from fractions import Fraction\n",
    "from decimal import Decimal\n",
    "from collections import abc"
   ]
  },
  {
   "cell_type": "markdown",
   "id": "a14b2fa5",
   "metadata": {},
   "source": [
    "## Sentence Take #1: A Sequence of Words"
   ]
  },
  {
   "cell_type": "code",
   "execution_count": 2,
   "id": "c91571ed",
   "metadata": {},
   "outputs": [],
   "source": [
    "class Sentence:\n",
    "    RE_WORD = re.compile('\\w+')\n",
    "\n",
    "    def __init__(self, text):\n",
    "        \"\"\"\n",
    "        re.findall() returns a list with all nonoverlapping matches of the regular\n",
    "        expression, as a list of strings.\n",
    "        \"\"\"\n",
    "        self.text = text\n",
    "        self.words = Sentence.RE_WORD.findall(text)\n",
    "\n",
    "    def __getitem__(self, index):\n",
    "        return self.words[index]\n",
    "\n",
    "    def __len__(self):\n",
    "        return len(self.words)\n",
    "\n",
    "    def __repr__(self):\n",
    "        \"\"\"\n",
    "        reprlib.repr() is a utility function to generate abbreviated string representations\n",
    "        of data structures that can be very large.\n",
    "        \"\"\"\n",
    "        return 'Sentence(%s)' % reprlib.repr(self.text)"
   ]
  },
  {
   "cell_type": "code",
   "execution_count": 3,
   "id": "96398d3b",
   "metadata": {},
   "outputs": [
    {
     "data": {
      "text/plain": [
       "Sentence('\"The time ha... Walrus said,')"
      ]
     },
     "execution_count": 3,
     "metadata": {},
     "output_type": "execute_result"
    }
   ],
   "source": [
    "s = Sentence('\"The time has come,\" the Walrus said,')\n",
    "s"
   ]
  },
  {
   "cell_type": "code",
   "execution_count": 4,
   "id": "5e77699c",
   "metadata": {},
   "outputs": [
    {
     "name": "stdout",
     "output_type": "stream",
     "text": [
      "The\n",
      "time\n",
      "has\n",
      "come\n",
      "the\n",
      "Walrus\n",
      "said\n"
     ]
    }
   ],
   "source": [
    "for word in s:\n",
    "    print(word)"
   ]
  },
  {
   "cell_type": "code",
   "execution_count": 5,
   "id": "5324c187",
   "metadata": {},
   "outputs": [
    {
     "data": {
      "text/plain": [
       "['The', 'time', 'has', 'come', 'the', 'Walrus', 'said']"
      ]
     },
     "execution_count": 5,
     "metadata": {},
     "output_type": "execute_result"
    }
   ],
   "source": [
    "list(s)"
   ]
  },
  {
   "cell_type": "code",
   "execution_count": 6,
   "id": "baadd30c",
   "metadata": {},
   "outputs": [
    {
     "data": {
      "text/plain": [
       "'The'"
      ]
     },
     "execution_count": 6,
     "metadata": {},
     "output_type": "execute_result"
    }
   ],
   "source": [
    "s[0]"
   ]
  },
  {
   "cell_type": "code",
   "execution_count": 7,
   "id": "863f1411",
   "metadata": {},
   "outputs": [
    {
     "data": {
      "text/plain": [
       "'time'"
      ]
     },
     "execution_count": 7,
     "metadata": {},
     "output_type": "execute_result"
    }
   ],
   "source": [
    "s[1]"
   ]
  },
  {
   "cell_type": "code",
   "execution_count": 8,
   "id": "cb623caa",
   "metadata": {},
   "outputs": [
    {
     "data": {
      "text/plain": [
       "'said'"
      ]
     },
     "execution_count": 8,
     "metadata": {},
     "output_type": "execute_result"
    }
   ],
   "source": [
    "s[-1]"
   ]
  },
  {
   "cell_type": "markdown",
   "id": "7d0e1a4b",
   "metadata": {},
   "source": [
    "### Why Sequences Are Iterable: The iter Function\n",
    "\n",
    "Whenever the interpreter needs to iterate over an object x, it automatically calls iter(x). The iter built-in function:\n",
    "1. Checks whether the object implements `__iter__`, and calls that to obtain an iterator.\n",
    "2. If `__iter__` is not implemented, but `__getitem__` is implemented, Python creates an iterator that attempts to fetch items in order, starting from index 0 (zero).\n",
    "3. If that fails, Python raises `TypeError`, usually saying “C object is not iterable,” where C is the class of the target object.\n",
    "\n",
    "That is why any Python sequence is iterable: they all implement `__getitem__`. In fact, the standard sequences also implement `__iter__`, and yours should too, because the special handling of `__getitem__` exists for backward compatibility reasons and may be gone in the future (although it is not deprecated as I write this)."
   ]
  },
  {
   "cell_type": "code",
   "execution_count": 9,
   "id": "c3299937",
   "metadata": {},
   "outputs": [],
   "source": [
    "class Foo:\n",
    "    def __iter__(self):\n",
    "        pass"
   ]
  },
  {
   "cell_type": "code",
   "execution_count": 10,
   "id": "f06381fd",
   "metadata": {},
   "outputs": [
    {
     "data": {
      "text/plain": [
       "True"
      ]
     },
     "execution_count": 10,
     "metadata": {},
     "output_type": "execute_result"
    }
   ],
   "source": [
    "issubclass(Foo, abc.Iterable)"
   ]
  },
  {
   "cell_type": "code",
   "execution_count": 11,
   "id": "fd6ee2fc",
   "metadata": {},
   "outputs": [
    {
     "data": {
      "text/plain": [
       "True"
      ]
     },
     "execution_count": 11,
     "metadata": {},
     "output_type": "execute_result"
    }
   ],
   "source": [
    "f = Foo()\n",
    "isinstance(f, abc.Iterable)"
   ]
  },
  {
   "cell_type": "code",
   "execution_count": 12,
   "id": "a9dedef7",
   "metadata": {},
   "outputs": [
    {
     "data": {
      "text/plain": [
       "False"
      ]
     },
     "execution_count": 12,
     "metadata": {},
     "output_type": "execute_result"
    }
   ],
   "source": [
    "issubclass(Sentence, abc.Iterable)"
   ]
  },
  {
   "cell_type": "markdown",
   "id": "7816bc04",
   "metadata": {},
   "source": [
    "***As of Python 3.4, the most accurate way to check whether an object x is iterable is to call `iter(x)` and handle a `TypeError` exception if it isn’t. This is more accurate than using `isinstance(x, abc.Iterable)`, because `iter(x)` also considers the legacy `__getitem__` method, while the Iterable ABC does not***.\n",
    "\n",
    "Explicitly checking whether an object is iterable may not be worthwhile if right after the check you are going to iterate over the object."
   ]
  },
  {
   "cell_type": "code",
   "execution_count": 13,
   "id": "c1804e65",
   "metadata": {},
   "outputs": [],
   "source": [
    "# To check if Senetence is iterable\n",
    "s = Sentence('\"The time has come,\" the Walrus said,')\n",
    "try:\n",
    "    iter(s)\n",
    "except TypeError:\n",
    "    print(f\"Object is not iterable.\")"
   ]
  },
  {
   "cell_type": "markdown",
   "id": "126f7964",
   "metadata": {},
   "source": [
    "## Iterables Versus Iterators\n",
    "*Iterables have an `__iter__` method that instantiates a new iterator every time. Iterators implement a `__next__` method that returns individual items, and an `__iter__` method that returns self*.\n",
    "\n",
    "**Therefore, iterators are also iterable, but iterables are not iterators.**\n",
    "\n",
    "It’s important to be clear about the relationship between iterables and iterators: Python obtains iterators from iterables."
   ]
  },
  {
   "cell_type": "code",
   "execution_count": 14,
   "id": "7f3e6805",
   "metadata": {},
   "outputs": [
    {
     "name": "stdout",
     "output_type": "stream",
     "text": [
      "A\n",
      "B\n",
      "C\n"
     ]
    }
   ],
   "source": [
    "s = 'ABC'\n",
    "for char in s:\n",
    "    print(char)"
   ]
  },
  {
   "cell_type": "code",
   "execution_count": 15,
   "id": "8d0f522e",
   "metadata": {},
   "outputs": [
    {
     "name": "stdout",
     "output_type": "stream",
     "text": [
      "A\n",
      "B\n",
      "C\n"
     ]
    }
   ],
   "source": [
    "# If there was no for statement and we had to emulate the for machinery by hand with\n",
    "# a while loop, this is what we’d have to write:\n",
    "s = 'ABC'\n",
    "it = iter(s)\n",
    "while True:\n",
    "    try:\n",
    "        print(next(it))\n",
    "    except StopIteration:\n",
    "        del it\n",
    "        break"
   ]
  },
  {
   "attachments": {
    "image-2.png": {
     "image/png": "[encoded data removed]"
    },
    "image-5.png": {
     "image/png": "[encoded data removed]"
    },
    "image-7.png": {
     "image/png": "[encoded data removed]"
    },
    "image.png": {
     "image/png": "[encoded data removed]"
    }
   },
   "cell_type": "markdown",
   "id": "09051a1d",
   "metadata": {},
   "source": [
    "The standard interface for an iterator has two methods:\n",
    "* `__next__` : Returns the next available item, raising StopIteration when there are no more items.\n",
    "* `__iter__` : Returns self; this allows iterators to be used where an iterable is expected, for example, in a for loop.\n",
    "\n",
    "![image.png](attachment:image.png)\n",
    "![image-2.png](attachment:image-2.png)\n",
    "![image-5.png](attachment:image-5.png)\n",
    "![image-7.png](attachment:image-7.png)"
   ]
  },
  {
   "attachments": {},
   "cell_type": "markdown",
   "id": "ff6fa824",
   "metadata": {},
   "source": [
    "## Sentence Take #2: A Classic Iterator"
   ]
  },
  {
   "cell_type": "code",
   "execution_count": 16,
   "id": "51524965",
   "metadata": {},
   "outputs": [],
   "source": [
    "class Sentence:\n",
    "    RE_WORD = re.compile('\\w+')\n",
    "    \n",
    "    def __init__(self, text):\n",
    "        self.text = text\n",
    "        self.words = Sentence.RE_WORD.findall(text)\n",
    "    \n",
    "    def __repr__(self):\n",
    "        return 'Sentence(%s)' % reprlib.repr(self.text)\n",
    "\n",
    "    def __iter__(self):\n",
    "        return SentenceIterator(self.words)"
   ]
  },
  {
   "cell_type": "code",
   "execution_count": 17,
   "id": "258f464f",
   "metadata": {},
   "outputs": [],
   "source": [
    "class SentenceIterator:\n",
    "    \n",
    "    def __init__(self, words):\n",
    "        self.words = words\n",
    "        self.index = 0\n",
    "\n",
    "    def __next__(self):\n",
    "        try:\n",
    "            word = self.words[self.index]\n",
    "        except IndexError:\n",
    "            raise StopIteration()\n",
    "        self.index += 1\n",
    "        return word\n",
    "    \n",
    "    def __iter__(self):\n",
    "        return self"
   ]
  },
  {
   "cell_type": "markdown",
   "id": "09d025c5",
   "metadata": {},
   "source": [
    "### Making Sentence an Iterator: Bad Idea\n",
    "The “Applicability” section of the Iterator design pattern in the GoF book says:\n",
    "\n",
    "Use the Iterator pattern:\n",
    "* to access an aggregate object’s contents without exposing its internal representation.\n",
    "* to support multiple traversals of aggregate objects.\n",
    "* to provide a uniform interface for traversing different aggregate structures (that is, to support polymorphic iteration).\n",
    "\n",
    "***An iterable should never act as an iterator over itself. In other words, iterables must implement `__iter__`, but not `__next__`. On the other hand, for convenience, iterators should be iterable. An iterator’s `__iter__` should just return `self`.***\n",
    "\n",
    "## Sentence Take #3: A Generator Function"
   ]
  },
  {
   "cell_type": "code",
   "execution_count": 18,
   "id": "f447d7d4",
   "metadata": {},
   "outputs": [],
   "source": [
    "class Sentence:\n",
    "    RE_WORD = re.compile('\\w+')\n",
    "    \n",
    "    def __init__(self, text):\n",
    "        self.text = text\n",
    "        self.words = Sentence.RE_WORD.findall(text)\n",
    "    \n",
    "    def __repr__(self):\n",
    "        return 'Sentence(%s)' % reprlib.repr(self.text)\n",
    "\n",
    "    def __iter__(self):\n",
    "        \"\"\"Generator function\"\"\"\n",
    "        for word in self.words:\n",
    "            yield word\n",
    "        return\n",
    "\n",
    "\n",
    "# This return is not needed; the function can just “fall-through” and return\n",
    "# automatically. Either way, a generator function doesn’t raise StopIteration: it\n",
    "# simply exits when it’s done producing values."
   ]
  },
  {
   "cell_type": "markdown",
   "id": "6df9040d",
   "metadata": {},
   "source": [
    "### How a Generator Function Works\n",
    "***Any Python function that has the yield keyword in its body is a generator function: a function which, when called, returns a generator object. In other words, a generator function is a generator factory.***"
   ]
  },
  {
   "cell_type": "code",
   "execution_count": 19,
   "id": "ebb72d90",
   "metadata": {},
   "outputs": [],
   "source": [
    "def gen_123():\n",
    "    yield 1\n",
    "    yield 2\n",
    "    yield 3"
   ]
  },
  {
   "cell_type": "code",
   "execution_count": 20,
   "id": "0713a4b0",
   "metadata": {},
   "outputs": [
    {
     "data": {
      "text/plain": [
       "<function __main__.gen_123()>"
      ]
     },
     "execution_count": 20,
     "metadata": {},
     "output_type": "execute_result"
    }
   ],
   "source": [
    "gen_123"
   ]
  },
  {
   "cell_type": "code",
   "execution_count": 21,
   "id": "f0385c3c",
   "metadata": {},
   "outputs": [
    {
     "data": {
      "text/plain": [
       "<generator object gen_123 at 0x00000268A36AB8B0>"
      ]
     },
     "execution_count": 21,
     "metadata": {},
     "output_type": "execute_result"
    }
   ],
   "source": [
    "gen_123()"
   ]
  },
  {
   "cell_type": "code",
   "execution_count": 22,
   "id": "ffbf84d9",
   "metadata": {},
   "outputs": [
    {
     "name": "stdout",
     "output_type": "stream",
     "text": [
      "1\n",
      "2\n",
      "3\n"
     ]
    }
   ],
   "source": [
    "for i in gen_123():\n",
    "    print(i)"
   ]
  },
  {
   "cell_type": "code",
   "execution_count": 23,
   "id": "e7ea7f1d",
   "metadata": {},
   "outputs": [
    {
     "data": {
      "text/plain": [
       "1"
      ]
     },
     "execution_count": 23,
     "metadata": {},
     "output_type": "execute_result"
    }
   ],
   "source": [
    "g = gen_123()\n",
    "# g is a generator\n",
    "next(g)"
   ]
  },
  {
   "cell_type": "code",
   "execution_count": 24,
   "id": "456ede12",
   "metadata": {},
   "outputs": [
    {
     "data": {
      "text/plain": [
       "2"
      ]
     },
     "execution_count": 24,
     "metadata": {},
     "output_type": "execute_result"
    }
   ],
   "source": [
    "next(g)"
   ]
  },
  {
   "cell_type": "code",
   "execution_count": 25,
   "id": "e59d1c67",
   "metadata": {},
   "outputs": [
    {
     "data": {
      "text/plain": [
       "3"
      ]
     },
     "execution_count": 25,
     "metadata": {},
     "output_type": "execute_result"
    }
   ],
   "source": [
    "next(g)"
   ]
  },
  {
   "cell_type": "code",
   "execution_count": 26,
   "id": "bdcb3ab7",
   "metadata": {},
   "outputs": [
    {
     "name": "stdout",
     "output_type": "stream",
     "text": [
      "Nothing left to print\n"
     ]
    }
   ],
   "source": [
    "try:\n",
    "    next(g)\n",
    "except StopIteration:\n",
    "    print(\"Nothing left to print\")"
   ]
  },
  {
   "cell_type": "markdown",
   "id": "a76a61f5",
   "metadata": {},
   "source": [
    "When we invoke next(…) on the generator object, execution advances to the next yield in the function body, and the next(…) call evaluates to the value yielded when the function body is suspended. Finally, when the function body returns, the enclosing generator object raises StopIteration, in accordance with the Iterator protocol.\n",
    "\n",
    "*I find it helpful to be strict when talking about the results obtained from a generator: I say that a generator yields or produces values. But it’s confusing to say a generator “returns” values. Functions return values. Calling a generator function returns a generator. A generator yields or produces values. A generator doesn’t “return” values in the usual way: the return statement in the body of a generator function causes StopIteration to be raised by the generator object.*"
   ]
  },
  {
   "cell_type": "code",
   "execution_count": 27,
   "id": "5534f27d",
   "metadata": {},
   "outputs": [],
   "source": [
    "def gen_123():\n",
    "    print(\"Start\")\n",
    "    print(\"Up next is 1\")\n",
    "    yield 1\n",
    "    print(\"Up next is 2\")\n",
    "    yield 2\n",
    "    print(\"Up next is 3\")\n",
    "    yield 3\n",
    "    print(\"Exhausted!\")"
   ]
  },
  {
   "cell_type": "code",
   "execution_count": 28,
   "id": "90f976f9",
   "metadata": {},
   "outputs": [
    {
     "name": "stdout",
     "output_type": "stream",
     "text": [
      "Start\n",
      "Up next is 1\n",
      "1\n",
      "----------\n",
      "Up next is 2\n",
      "2\n",
      "----------\n",
      "Up next is 3\n",
      "3\n",
      "----------\n",
      "Exhausted!\n"
     ]
    }
   ],
   "source": [
    "for i in gen_123():\n",
    "    print(i)\n",
    "    print('----------')"
   ]
  },
  {
   "cell_type": "markdown",
   "id": "4158531b",
   "metadata": {},
   "source": [
    "## Sentence Take #4: A Lazy Implementation\n",
    "\n",
    "Our Sentence implementations so far have not been lazy because the `__init__` eagerly builds a list of all words in the text, binding it to the self.words attribute. This will entail processing the entire text, and the list may use as much memory as the text itself.\n",
    "\n",
    "The re.finditer function is a lazy version of re.findall which, instead of a list, returns a generator producing re.MatchObject instances on demand. If there are many matches, re.finditer saves a lot of memory. Using it, our third version of Sentence is now lazy: it only produces the next word when it is needed."
   ]
  },
  {
   "cell_type": "code",
   "execution_count": 29,
   "id": "f538e7ff",
   "metadata": {},
   "outputs": [],
   "source": [
    "class Sentence:\n",
    "    RE_WORD = re.compile('\\w+')\n",
    "    \n",
    "    def __init__(self, text):\n",
    "        self.text = text\n",
    "    \n",
    "    def __repr__(self):\n",
    "        return 'Sentence(%s)' % reprlib.repr(self.text)\n",
    "\n",
    "    def __iter__(self):\n",
    "        for match in Sentence.RE_WORD.finditer(self.text):\n",
    "            yield match.group()"
   ]
  },
  {
   "cell_type": "markdown",
   "id": "8ac0d76e",
   "metadata": {},
   "source": [
    "## Sentence Take #5: A Generator Expression"
   ]
  },
  {
   "cell_type": "code",
   "execution_count": 30,
   "id": "b0fa8c80",
   "metadata": {},
   "outputs": [],
   "source": [
    "def gen_123():\n",
    "    print(\"Start\")\n",
    "    print(\"Up next is 1\")\n",
    "    yield 1\n",
    "    print(\"Up next is 2\")\n",
    "    yield 2\n",
    "    print(\"Up next is 3\")\n",
    "    yield 3\n",
    "    print(\"Exhausted!\")"
   ]
  },
  {
   "cell_type": "code",
   "execution_count": 31,
   "id": "157385c1",
   "metadata": {},
   "outputs": [
    {
     "name": "stdout",
     "output_type": "stream",
     "text": [
      "Start\n",
      "Up next is 1\n",
      "Up next is 2\n",
      "Up next is 3\n",
      "Exhausted!\n"
     ]
    }
   ],
   "source": [
    "res1 = [x*3 for x in gen_123()]"
   ]
  },
  {
   "cell_type": "code",
   "execution_count": 32,
   "id": "1e86d2ae",
   "metadata": {},
   "outputs": [
    {
     "name": "stdout",
     "output_type": "stream",
     "text": [
      "3\n",
      "6\n",
      "9\n"
     ]
    }
   ],
   "source": [
    "for i in res1:\n",
    "    print(i)"
   ]
  },
  {
   "cell_type": "code",
   "execution_count": 33,
   "id": "556d6651",
   "metadata": {},
   "outputs": [],
   "source": [
    "res2 = (x*3 for x in gen_123())\n",
    "# Notice how the values are not calculated yet"
   ]
  },
  {
   "cell_type": "code",
   "execution_count": 34,
   "id": "3c8bcc5e",
   "metadata": {},
   "outputs": [
    {
     "name": "stdout",
     "output_type": "stream",
     "text": [
      "Start\n",
      "Up next is 1\n",
      "3\n",
      "Up next is 2\n",
      "6\n",
      "Up next is 3\n",
      "9\n",
      "Exhausted!\n"
     ]
    }
   ],
   "source": [
    "for i in res2:\n",
    "    print(i)"
   ]
  },
  {
   "cell_type": "code",
   "execution_count": 35,
   "id": "0a73e3c9",
   "metadata": {},
   "outputs": [],
   "source": [
    "class Sentence:\n",
    "    RE_WORD = re.compile('\\w+')\n",
    "    \n",
    "    def __init__(self, text):\n",
    "        self.text = text\n",
    "    \n",
    "    def __repr__(self):\n",
    "        return 'Sentence(%s)' % reprlib.repr(self.text)\n",
    "\n",
    "    def __iter__(self):\n",
    "        return (match.group() for match in\n",
    "                Sentence.RE_WORD.finditer(self.text))"
   ]
  },
  {
   "cell_type": "markdown",
   "id": "5786cd78",
   "metadata": {},
   "source": [
    "The only difference from Example 14-7 is the `__iter__` method, which here is not a generator function (it has no yield) but uses a generator expression to build a generator and then returns it. The end result is the same: the caller of `__iter__` gets a generator object.\n",
    "\n",
    "Generator expressions are syntactic sugar: they can always be replaced by generator functions, but sometimes are more convenient.\n",
    "\n",
    "## Generator Expressions: When to Use Them\n",
    "For the simpler cases, a generator expression will do, and it’s easier to read at a glance. My rule of thumb in choosing the syntax to use is simple: if the generator expression spans more than a couple of lines, I prefer to code a generator function for the sake of readability. Also, because generator functions have a name, they can be reused. You can always name a generator expression and use it later by assigning it to a variable, of course, but that is stretching its intended usage as a one-off generator.\n",
    "\n",
    "### Another Example: Arithmetic Progression Generator"
   ]
  },
  {
   "cell_type": "code",
   "execution_count": 36,
   "id": "e875b2ae",
   "metadata": {},
   "outputs": [],
   "source": [
    "class ArithmeticProgression:\n",
    "    def __init__(self, begin, step, end=None): \n",
    "        self.begin = begin\n",
    "        self.step = step\n",
    "        self.end = end # None -> \"infinite\" series\n",
    " \n",
    "    def __iter__(self):\n",
    "        result = type(self.begin + self.step)(self.begin) \n",
    "        forever = self.end is None \n",
    "        index = 0\n",
    "        while forever or result < self.end: \n",
    "            yield result \n",
    "            index += 1\n",
    "            result = self.begin + self.step * index"
   ]
  },
  {
   "cell_type": "code",
   "execution_count": 37,
   "id": "c43ef23d",
   "metadata": {},
   "outputs": [
    {
     "data": {
      "text/plain": [
       "[0, 1, 2]"
      ]
     },
     "execution_count": 37,
     "metadata": {},
     "output_type": "execute_result"
    }
   ],
   "source": [
    "ap = ArithmeticProgression(0, 1, 3)\n",
    "list(ap)"
   ]
  },
  {
   "cell_type": "code",
   "execution_count": 38,
   "id": "a7aead23",
   "metadata": {},
   "outputs": [
    {
     "data": {
      "text/plain": [
       "[0.0, 0.5, 1.0, 1.5, 2.0, 2.5]"
      ]
     },
     "execution_count": 38,
     "metadata": {},
     "output_type": "execute_result"
    }
   ],
   "source": [
    "ap = ArithmeticProgression(0, 0.5, 3)\n",
    "list(ap)"
   ]
  },
  {
   "cell_type": "code",
   "execution_count": 39,
   "id": "25a545ac",
   "metadata": {},
   "outputs": [
    {
     "data": {
      "text/plain": [
       "[0.0, 0.3333333333333333, 0.6666666666666666]"
      ]
     },
     "execution_count": 39,
     "metadata": {},
     "output_type": "execute_result"
    }
   ],
   "source": [
    "ap = ArithmeticProgression(0, 1/3, 1)\n",
    "list(ap)"
   ]
  },
  {
   "cell_type": "code",
   "execution_count": 40,
   "id": "7f6c0e87",
   "metadata": {},
   "outputs": [
    {
     "data": {
      "text/plain": [
       "[Fraction(0, 1),\n",
       " Fraction(1, 3),\n",
       " Fraction(2, 3),\n",
       " Fraction(1, 1),\n",
       " Fraction(4, 3),\n",
       " Fraction(5, 3),\n",
       " Fraction(2, 1),\n",
       " Fraction(7, 3),\n",
       " Fraction(8, 3)]"
      ]
     },
     "execution_count": 40,
     "metadata": {},
     "output_type": "execute_result"
    }
   ],
   "source": [
    "ap = ArithmeticProgression(0, Fraction(1, 3), 3)\n",
    "list(ap)"
   ]
  },
  {
   "cell_type": "code",
   "execution_count": 41,
   "id": "9da706b6",
   "metadata": {},
   "outputs": [
    {
     "data": {
      "text/plain": [
       "[Decimal('0'), Decimal('0.1'), Decimal('0.2'), Decimal('0.3'), Decimal('0.4')]"
      ]
     },
     "execution_count": 41,
     "metadata": {},
     "output_type": "execute_result"
    }
   ],
   "source": [
    "ap = ArithmeticProgression(0, Decimal('.1'), .5)\n",
    "list(ap)"
   ]
  },
  {
   "cell_type": "markdown",
   "id": "bfa8fcdb",
   "metadata": {},
   "source": [
    "Example 14-12 shows a generator function called aritprog_gen that does the same job as ArithmeticProgression but with less code."
   ]
  },
  {
   "cell_type": "code",
   "execution_count": 42,
   "id": "09e433fe",
   "metadata": {},
   "outputs": [],
   "source": [
    "def aritprog_gen(begin, step, end=None):\n",
    "    result = type(begin + step)(begin)  # Type coersion\n",
    "    forever = end is None\n",
    "    index = 0\n",
    "    while forever or result < end:\n",
    "        yield result\n",
    "        index += 1\n",
    "        result = begin + step * index"
   ]
  },
  {
   "cell_type": "markdown",
   "id": "d59446c0",
   "metadata": {},
   "source": [
    "### Arithmetic Progression with itertools\n",
    "itertools.count function returns a generator that produces numbers.\n",
    "Without arguments, it produces a series of integers starting with 0. But you can provide optional start and step values to achieve a result very similar to our aritprog_gen functions:"
   ]
  },
  {
   "cell_type": "code",
   "execution_count": 43,
   "id": "0e9316d3",
   "metadata": {},
   "outputs": [
    {
     "data": {
      "text/plain": [
       "1"
      ]
     },
     "execution_count": 43,
     "metadata": {},
     "output_type": "execute_result"
    }
   ],
   "source": [
    "gen = itertools.count(1, .5)\n",
    "next(gen)"
   ]
  },
  {
   "cell_type": "code",
   "execution_count": 44,
   "id": "d7a42c56",
   "metadata": {},
   "outputs": [
    {
     "data": {
      "text/plain": [
       "1.5"
      ]
     },
     "execution_count": 44,
     "metadata": {},
     "output_type": "execute_result"
    }
   ],
   "source": [
    "next(gen)"
   ]
  },
  {
   "cell_type": "markdown",
   "id": "5a518d25",
   "metadata": {},
   "source": [
    "However, itertools.count never stops, so if you call list(count()), Python will try to build a list larger than available memory and your machine will be very grumpy long before the call fails.\n",
    "\n",
    "On the other hand, there is the itertools.takewhile function: it produces a generator that consumes another generator and stops when a given predicate evaluates to False. So we can combine the two and write this:"
   ]
  },
  {
   "cell_type": "code",
   "execution_count": 45,
   "id": "c742e53a",
   "metadata": {},
   "outputs": [
    {
     "data": {
      "text/plain": [
       "[1, 1.5, 2.0, 2.5]"
      ]
     },
     "execution_count": 45,
     "metadata": {},
     "output_type": "execute_result"
    }
   ],
   "source": [
    "gen = itertools.takewhile(lambda n: n < 3, itertools.count(1, .5))\n",
    "list(gen)"
   ]
  },
  {
   "cell_type": "code",
   "execution_count": 46,
   "id": "92a3b538",
   "metadata": {},
   "outputs": [],
   "source": [
    "def aritprog_gen(begin, step, end=None):\n",
    "    first = type(begin + step)(begin)\n",
    "    ap_gen = itertools.count(first, step)\n",
    "    if end is not None:\n",
    "        ap_gen = itertools.takewhile(lambda n: n < end, ap_gen)\n",
    "    return ap_gen"
   ]
  },
  {
   "cell_type": "markdown",
   "id": "0860c7d1",
   "metadata": {},
   "source": [
    "Note that aritprog_gen is not a generator function in Example 14-13: it has no yield in its body. But it returns a generator, so it operates as a generator factory, just as a generator function does."
   ]
  },
  {
   "cell_type": "markdown",
   "id": "e7ee68f4",
   "metadata": {},
   "source": [
    "## Generator Functions in the Standard Library"
   ]
  },
  {
   "cell_type": "code",
   "execution_count": 47,
   "id": "dbce0cef",
   "metadata": {},
   "outputs": [],
   "source": [
    "def vowel(c):\n",
    "    return c.lower() in 'aeiou'"
   ]
  },
  {
   "cell_type": "code",
   "execution_count": 48,
   "id": "e35746e9",
   "metadata": {},
   "outputs": [
    {
     "data": {
      "text/plain": [
       "['A', 'a', 'a']"
      ]
     },
     "execution_count": 48,
     "metadata": {},
     "output_type": "execute_result"
    }
   ],
   "source": [
    "list(filter(vowel, 'Aardvark'))"
   ]
  },
  {
   "cell_type": "code",
   "execution_count": 49,
   "id": "712396e4",
   "metadata": {},
   "outputs": [
    {
     "data": {
      "text/plain": [
       "['r', 'd', 'v', 'r', 'k']"
      ]
     },
     "execution_count": 49,
     "metadata": {},
     "output_type": "execute_result"
    }
   ],
   "source": [
    "list(itertools.filterfalse(vowel, 'Aardvark'))"
   ]
  },
  {
   "cell_type": "code",
   "execution_count": 50,
   "id": "e1941b8e",
   "metadata": {},
   "outputs": [
    {
     "data": {
      "text/plain": [
       "['r', 'd', 'v', 'a', 'r', 'k']"
      ]
     },
     "execution_count": 50,
     "metadata": {},
     "output_type": "execute_result"
    }
   ],
   "source": [
    "list(itertools.dropwhile(vowel, 'Aardvark'))"
   ]
  },
  {
   "cell_type": "code",
   "execution_count": 51,
   "id": "ea5e3849",
   "metadata": {},
   "outputs": [
    {
     "data": {
      "text/plain": [
       "['r', 'd', 'v', 'a', 'r', 'k']"
      ]
     },
     "execution_count": 51,
     "metadata": {},
     "output_type": "execute_result"
    }
   ],
   "source": [
    "list(itertools.dropwhile(vowel, 'Aardvark'))"
   ]
  },
  {
   "cell_type": "code",
   "execution_count": 52,
   "id": "09732b17",
   "metadata": {},
   "outputs": [
    {
     "data": {
      "text/plain": [
       "['A', 'r', 'd', 'a']"
      ]
     },
     "execution_count": 52,
     "metadata": {},
     "output_type": "execute_result"
    }
   ],
   "source": [
    "list(itertools.compress('Aardvark', (1,0,1,1,0,1)))"
   ]
  },
  {
   "cell_type": "code",
   "execution_count": 53,
   "id": "36174179",
   "metadata": {},
   "outputs": [
    {
     "data": {
      "text/plain": [
       "['A', 'a', 'r', 'd']"
      ]
     },
     "execution_count": 53,
     "metadata": {},
     "output_type": "execute_result"
    }
   ],
   "source": [
    "list(itertools.islice('Aardvark', 4))"
   ]
  },
  {
   "cell_type": "code",
   "execution_count": 54,
   "id": "8e4773e7",
   "metadata": {},
   "outputs": [
    {
     "data": {
      "text/plain": [
       "['v', 'a', 'r']"
      ]
     },
     "execution_count": 54,
     "metadata": {},
     "output_type": "execute_result"
    }
   ],
   "source": [
    "list(itertools.islice('Aardvark', 4, 7))"
   ]
  },
  {
   "cell_type": "code",
   "execution_count": 55,
   "id": "4861137c",
   "metadata": {},
   "outputs": [
    {
     "data": {
      "text/plain": [
       "['a', 'd', 'a']"
      ]
     },
     "execution_count": 55,
     "metadata": {},
     "output_type": "execute_result"
    }
   ],
   "source": [
    "list(itertools.islice('Aardvark', 1, 7, 2))"
   ]
  },
  {
   "cell_type": "code",
   "execution_count": 56,
   "id": "ea609b99",
   "metadata": {},
   "outputs": [
    {
     "data": {
      "text/plain": [
       "[5, 9, 11, 19, 26, 32, 35, 35, 44, 45]"
      ]
     },
     "execution_count": 56,
     "metadata": {},
     "output_type": "execute_result"
    }
   ],
   "source": [
    "sample = [5, 4, 2, 8, 7, 6, 3, 0, 9, 1]\n",
    "list(itertools.accumulate(sample))"
   ]
  },
  {
   "cell_type": "code",
   "execution_count": 57,
   "id": "4bdbcc30",
   "metadata": {},
   "outputs": [
    {
     "data": {
      "text/plain": [
       "[5, 4, 2, 2, 2, 2, 2, 0, 0, 0]"
      ]
     },
     "execution_count": 57,
     "metadata": {},
     "output_type": "execute_result"
    }
   ],
   "source": [
    "list(itertools.accumulate(sample, min))"
   ]
  },
  {
   "cell_type": "code",
   "execution_count": 58,
   "id": "56d6251d",
   "metadata": {},
   "outputs": [
    {
     "data": {
      "text/plain": [
       "[5, 5, 5, 8, 8, 8, 8, 8, 9, 9]"
      ]
     },
     "execution_count": 58,
     "metadata": {},
     "output_type": "execute_result"
    }
   ],
   "source": [
    "list(itertools.accumulate(sample, max))"
   ]
  },
  {
   "cell_type": "code",
   "execution_count": 59,
   "id": "fd84a535",
   "metadata": {},
   "outputs": [
    {
     "data": {
      "text/plain": [
       "[5, 20, 40, 320, 2240, 13440, 40320, 0, 0, 0]"
      ]
     },
     "execution_count": 59,
     "metadata": {},
     "output_type": "execute_result"
    }
   ],
   "source": [
    "list(itertools.accumulate(sample, operator.mul))"
   ]
  },
  {
   "cell_type": "code",
   "execution_count": 60,
   "id": "780ba1ac",
   "metadata": {},
   "outputs": [
    {
     "data": {
      "text/plain": [
       "[1, 2, 6, 24, 120, 720, 5040, 40320, 362880, 3628800]"
      ]
     },
     "execution_count": 60,
     "metadata": {},
     "output_type": "execute_result"
    }
   ],
   "source": [
    "list(itertools.accumulate(range(1, 11), operator.mul))"
   ]
  },
  {
   "cell_type": "code",
   "execution_count": 61,
   "id": "e8f51988",
   "metadata": {},
   "outputs": [
    {
     "data": {
      "text/plain": [
       "[(1, 'a'),\n",
       " (2, 'l'),\n",
       " (3, 'b'),\n",
       " (4, 'a'),\n",
       " (5, 't'),\n",
       " (6, 'r'),\n",
       " (7, 'o'),\n",
       " (8, 'z')]"
      ]
     },
     "execution_count": 61,
     "metadata": {},
     "output_type": "execute_result"
    }
   ],
   "source": [
    "list(enumerate('albatroz', 1))"
   ]
  },
  {
   "cell_type": "code",
   "execution_count": 62,
   "id": "106780d3",
   "metadata": {},
   "outputs": [
    {
     "data": {
      "text/plain": [
       "[0, 1, 4, 9, 16, 25, 36, 49, 64, 81, 100]"
      ]
     },
     "execution_count": 62,
     "metadata": {},
     "output_type": "execute_result"
    }
   ],
   "source": [
    "list(map(operator.mul, range(11), range(11)))"
   ]
  },
  {
   "cell_type": "code",
   "execution_count": 63,
   "id": "6555ab91",
   "metadata": {},
   "outputs": [
    {
     "data": {
      "text/plain": [
       "[0, 4, 16]"
      ]
     },
     "execution_count": 63,
     "metadata": {},
     "output_type": "execute_result"
    }
   ],
   "source": [
    "list(map(operator.mul, range(11), [2, 4, 8]))"
   ]
  },
  {
   "cell_type": "code",
   "execution_count": 64,
   "id": "5beeca45",
   "metadata": {},
   "outputs": [
    {
     "data": {
      "text/plain": [
       "[(0, 2), (1, 4), (2, 8)]"
      ]
     },
     "execution_count": 64,
     "metadata": {},
     "output_type": "execute_result"
    }
   ],
   "source": [
    "list(map(lambda a, b: (a, b), range(11), [2, 4, 8]))"
   ]
  },
  {
   "cell_type": "code",
   "execution_count": 65,
   "id": "1c26fd7d",
   "metadata": {},
   "outputs": [
    {
     "data": {
      "text/plain": [
       "['a', 'll', 'bbb', 'aaaa', 'ttttt', 'rrrrrr', 'ooooooo', 'zzzzzzzz']"
      ]
     },
     "execution_count": 65,
     "metadata": {},
     "output_type": "execute_result"
    }
   ],
   "source": [
    "list(itertools.starmap(operator.mul, enumerate('albatroz', 1)))"
   ]
  },
  {
   "cell_type": "code",
   "execution_count": 66,
   "id": "ad052143",
   "metadata": {},
   "outputs": [
    {
     "data": {
      "text/plain": [
       "[5.0,\n",
       " 4.5,\n",
       " 3.6666666666666665,\n",
       " 4.75,\n",
       " 5.2,\n",
       " 5.333333333333333,\n",
       " 5.0,\n",
       " 4.375,\n",
       " 4.888888888888889,\n",
       " 4.5]"
      ]
     },
     "execution_count": 66,
     "metadata": {},
     "output_type": "execute_result"
    }
   ],
   "source": [
    "list(itertools.starmap(lambda a, b: b/a,\n",
    "    enumerate(itertools.accumulate(sample), 1)))"
   ]
  },
  {
   "cell_type": "code",
   "execution_count": 67,
   "id": "189937b8",
   "metadata": {},
   "outputs": [
    {
     "data": {
      "text/plain": [
       "['A', 'B', 'C', 0, 1]"
      ]
     },
     "execution_count": 67,
     "metadata": {},
     "output_type": "execute_result"
    }
   ],
   "source": [
    "list(itertools.chain('ABC', range(2)))"
   ]
  },
  {
   "cell_type": "code",
   "execution_count": 68,
   "id": "fc224f24",
   "metadata": {},
   "outputs": [
    {
     "data": {
      "text/plain": [
       "[(0, 'A'), (1, 'B'), (2, 'C')]"
      ]
     },
     "execution_count": 68,
     "metadata": {},
     "output_type": "execute_result"
    }
   ],
   "source": [
    "list(itertools.chain(enumerate('ABC')))"
   ]
  },
  {
   "cell_type": "code",
   "execution_count": 69,
   "id": "8eb977bc",
   "metadata": {},
   "outputs": [
    {
     "data": {
      "text/plain": [
       "[0, 'A', 1, 'B', 2, 'C']"
      ]
     },
     "execution_count": 69,
     "metadata": {},
     "output_type": "execute_result"
    }
   ],
   "source": [
    "list(itertools.chain.from_iterable(enumerate('ABC')))"
   ]
  },
  {
   "cell_type": "code",
   "execution_count": 70,
   "id": "8d65f407",
   "metadata": {},
   "outputs": [
    {
     "data": {
      "text/plain": [
       "[('A', 0), ('B', 1), ('C', 2)]"
      ]
     },
     "execution_count": 70,
     "metadata": {},
     "output_type": "execute_result"
    }
   ],
   "source": [
    "list(zip('ABC', range(5)))"
   ]
  },
  {
   "cell_type": "code",
   "execution_count": 71,
   "id": "22e483b5",
   "metadata": {},
   "outputs": [
    {
     "data": {
      "text/plain": [
       "[('A', 0, 10), ('B', 1, 20), ('C', 2, 30)]"
      ]
     },
     "execution_count": 71,
     "metadata": {},
     "output_type": "execute_result"
    }
   ],
   "source": [
    "list(zip('ABC', range(5), [10, 20, 30, 40]))"
   ]
  },
  {
   "cell_type": "code",
   "execution_count": 72,
   "id": "37d88852",
   "metadata": {},
   "outputs": [
    {
     "data": {
      "text/plain": [
       "[('A', 0), ('B', 1), ('C', 2), (None, 3), (None, 4)]"
      ]
     },
     "execution_count": 72,
     "metadata": {},
     "output_type": "execute_result"
    }
   ],
   "source": [
    "list(itertools.zip_longest('ABC', range(5)))"
   ]
  },
  {
   "cell_type": "code",
   "execution_count": 73,
   "id": "fec54f25",
   "metadata": {},
   "outputs": [
    {
     "data": {
      "text/plain": [
       "[('A', 0), ('B', 1), ('C', 2), ('?', 3), ('?', 4)]"
      ]
     },
     "execution_count": 73,
     "metadata": {},
     "output_type": "execute_result"
    }
   ],
   "source": [
    "list(itertools.zip_longest('ABC', range(5), fillvalue='?'))"
   ]
  },
  {
   "cell_type": "code",
   "execution_count": 74,
   "id": "08be5f70",
   "metadata": {},
   "outputs": [
    {
     "data": {
      "text/plain": [
       "[('A', 0), ('A', 1), ('B', 0), ('B', 1), ('C', 0), ('C', 1)]"
      ]
     },
     "execution_count": 74,
     "metadata": {},
     "output_type": "execute_result"
    }
   ],
   "source": [
    "list(itertools.product('ABC', range(2)))"
   ]
  },
  {
   "cell_type": "code",
   "execution_count": 75,
   "id": "bbb5eff2",
   "metadata": {},
   "outputs": [
    {
     "data": {
      "text/plain": [
       "[('A', 'spades'),\n",
       " ('A', 'hearts'),\n",
       " ('A', 'diamonds'),\n",
       " ('A', 'clubs'),\n",
       " ('K', 'spades'),\n",
       " ('K', 'hearts'),\n",
       " ('K', 'diamonds'),\n",
       " ('K', 'clubs')]"
      ]
     },
     "execution_count": 75,
     "metadata": {},
     "output_type": "execute_result"
    }
   ],
   "source": [
    "suits = 'spades hearts diamonds clubs'.split()\n",
    "list(itertools.product('AK', suits))"
   ]
  },
  {
   "cell_type": "code",
   "execution_count": 76,
   "id": "9c425136",
   "metadata": {},
   "outputs": [
    {
     "data": {
      "text/plain": [
       "[('A',), ('B',), ('C',)]"
      ]
     },
     "execution_count": 76,
     "metadata": {},
     "output_type": "execute_result"
    }
   ],
   "source": [
    "list(itertools.product('ABC'))"
   ]
  },
  {
   "cell_type": "code",
   "execution_count": 77,
   "id": "2a198b2b",
   "metadata": {},
   "outputs": [
    {
     "data": {
      "text/plain": [
       "[('A', 'A'),\n",
       " ('A', 'B'),\n",
       " ('A', 'C'),\n",
       " ('B', 'A'),\n",
       " ('B', 'B'),\n",
       " ('B', 'C'),\n",
       " ('C', 'A'),\n",
       " ('C', 'B'),\n",
       " ('C', 'C')]"
      ]
     },
     "execution_count": 77,
     "metadata": {},
     "output_type": "execute_result"
    }
   ],
   "source": [
    "list(itertools.product('ABC', repeat=2))"
   ]
  },
  {
   "cell_type": "code",
   "execution_count": 78,
   "id": "e1bf88e4",
   "metadata": {},
   "outputs": [
    {
     "data": {
      "text/plain": [
       "[(0, 0, 0),\n",
       " (0, 0, 1),\n",
       " (0, 1, 0),\n",
       " (0, 1, 1),\n",
       " (1, 0, 0),\n",
       " (1, 0, 1),\n",
       " (1, 1, 0),\n",
       " (1, 1, 1)]"
      ]
     },
     "execution_count": 78,
     "metadata": {},
     "output_type": "execute_result"
    }
   ],
   "source": [
    "list(itertools.product(range(2), repeat=3))"
   ]
  },
  {
   "cell_type": "code",
   "execution_count": 79,
   "id": "dbad3b41",
   "metadata": {},
   "outputs": [
    {
     "name": "stdout",
     "output_type": "stream",
     "text": [
      "('A', 0, 'A', 0)\n",
      "('A', 0, 'A', 1)\n",
      "('A', 0, 'B', 0)\n",
      "('A', 0, 'B', 1)\n",
      "('A', 1, 'A', 0)\n",
      "('A', 1, 'A', 1)\n",
      "('A', 1, 'B', 0)\n",
      "('A', 1, 'B', 1)\n",
      "('B', 0, 'A', 0)\n",
      "('B', 0, 'A', 1)\n",
      "('B', 0, 'B', 0)\n",
      "('B', 0, 'B', 1)\n",
      "('B', 1, 'A', 0)\n",
      "('B', 1, 'A', 1)\n",
      "('B', 1, 'B', 0)\n",
      "('B', 1, 'B', 1)\n"
     ]
    }
   ],
   "source": [
    "rows = itertools.product('AB', range(2), repeat=2)\n",
    "for row in rows: print(row)"
   ]
  },
  {
   "cell_type": "code",
   "execution_count": 80,
   "id": "16964cbf",
   "metadata": {},
   "outputs": [
    {
     "data": {
      "text/plain": [
       "0"
      ]
     },
     "execution_count": 80,
     "metadata": {},
     "output_type": "execute_result"
    }
   ],
   "source": [
    "ct = itertools.count() # \n",
    "next(ct)"
   ]
  },
  {
   "cell_type": "code",
   "execution_count": 81,
   "id": "70e6dab9",
   "metadata": {},
   "outputs": [
    {
     "data": {
      "text/plain": [
       "(1, 2, 3)"
      ]
     },
     "execution_count": 81,
     "metadata": {},
     "output_type": "execute_result"
    }
   ],
   "source": [
    "next(ct), next(ct), next(ct)"
   ]
  },
  {
   "cell_type": "code",
   "execution_count": 82,
   "id": "e1f61ec6",
   "metadata": {},
   "outputs": [
    {
     "data": {
      "text/plain": [
       "[1, 1.3, 1.6]"
      ]
     },
     "execution_count": 82,
     "metadata": {},
     "output_type": "execute_result"
    }
   ],
   "source": [
    "list(itertools.islice(itertools.count(1, .3), 3))"
   ]
  },
  {
   "cell_type": "code",
   "execution_count": 83,
   "id": "258217d6",
   "metadata": {},
   "outputs": [
    {
     "data": {
      "text/plain": [
       "'A'"
      ]
     },
     "execution_count": 83,
     "metadata": {},
     "output_type": "execute_result"
    }
   ],
   "source": [
    "cy = itertools.cycle('ABC') # \n",
    "next(cy)"
   ]
  },
  {
   "cell_type": "code",
   "execution_count": 84,
   "id": "001cff5a",
   "metadata": {},
   "outputs": [
    {
     "data": {
      "text/plain": [
       "['B', 'C', 'A', 'B', 'C', 'A', 'B']"
      ]
     },
     "execution_count": 84,
     "metadata": {},
     "output_type": "execute_result"
    }
   ],
   "source": [
    "list(itertools.islice(cy, 7))"
   ]
  },
  {
   "cell_type": "code",
   "execution_count": 85,
   "id": "3ce2bbc6",
   "metadata": {},
   "outputs": [
    {
     "data": {
      "text/plain": [
       "(7, 7)"
      ]
     },
     "execution_count": 85,
     "metadata": {},
     "output_type": "execute_result"
    }
   ],
   "source": [
    "rp = itertools.repeat(7) # \n",
    "next(rp), next(rp)"
   ]
  },
  {
   "cell_type": "code",
   "execution_count": 86,
   "id": "ce67b3ce",
   "metadata": {},
   "outputs": [
    {
     "data": {
      "text/plain": [
       "[8, 8, 8, 8]"
      ]
     },
     "execution_count": 86,
     "metadata": {},
     "output_type": "execute_result"
    }
   ],
   "source": [
    "list(itertools.repeat(8, 4))"
   ]
  },
  {
   "cell_type": "code",
   "execution_count": 87,
   "id": "4560f7fd",
   "metadata": {},
   "outputs": [
    {
     "data": {
      "text/plain": [
       "[0, 5, 10, 15, 20, 25, 30, 35, 40, 45, 50]"
      ]
     },
     "execution_count": 87,
     "metadata": {},
     "output_type": "execute_result"
    }
   ],
   "source": [
    "list(map(operator.mul, range(11), itertools.repeat(5)))"
   ]
  },
  {
   "cell_type": "code",
   "execution_count": 88,
   "id": "bfd7d56b",
   "metadata": {},
   "outputs": [
    {
     "data": {
      "text/plain": [
       "[('A', 'B'), ('A', 'C'), ('B', 'C')]"
      ]
     },
     "execution_count": 88,
     "metadata": {},
     "output_type": "execute_result"
    }
   ],
   "source": [
    "list(itertools.combinations('ABC', 2))"
   ]
  },
  {
   "cell_type": "code",
   "execution_count": 89,
   "id": "43b10477",
   "metadata": {},
   "outputs": [
    {
     "data": {
      "text/plain": [
       "[('A', 'A'), ('A', 'B'), ('A', 'C'), ('B', 'B'), ('B', 'C'), ('C', 'C')]"
      ]
     },
     "execution_count": 89,
     "metadata": {},
     "output_type": "execute_result"
    }
   ],
   "source": [
    "list(itertools.combinations_with_replacement('ABC', 2))"
   ]
  },
  {
   "cell_type": "code",
   "execution_count": 90,
   "id": "add766f6",
   "metadata": {},
   "outputs": [
    {
     "data": {
      "text/plain": [
       "[('A', 'B'), ('A', 'C'), ('B', 'A'), ('B', 'C'), ('C', 'A'), ('C', 'B')]"
      ]
     },
     "execution_count": 90,
     "metadata": {},
     "output_type": "execute_result"
    }
   ],
   "source": [
    "list(itertools.permutations('ABC', 2))"
   ]
  },
  {
   "cell_type": "code",
   "execution_count": 91,
   "id": "7ee29afe",
   "metadata": {},
   "outputs": [
    {
     "data": {
      "text/plain": [
       "[('A', 'A'),\n",
       " ('A', 'B'),\n",
       " ('A', 'C'),\n",
       " ('B', 'A'),\n",
       " ('B', 'B'),\n",
       " ('B', 'C'),\n",
       " ('C', 'A'),\n",
       " ('C', 'B'),\n",
       " ('C', 'C')]"
      ]
     },
     "execution_count": 91,
     "metadata": {},
     "output_type": "execute_result"
    }
   ],
   "source": [
    "list(itertools.product('ABC', repeat=2))"
   ]
  },
  {
   "cell_type": "code",
   "execution_count": 92,
   "id": "e8adead8",
   "metadata": {},
   "outputs": [
    {
     "data": {
      "text/plain": [
       "[('L', <itertools._grouper at 0x268a37acb80>),\n",
       " ('A', <itertools._grouper at 0x268a37aed70>),\n",
       " ('G', <itertools._grouper at 0x268a37af280>)]"
      ]
     },
     "execution_count": 92,
     "metadata": {},
     "output_type": "execute_result"
    }
   ],
   "source": [
    "list(itertools.groupby('LLLLAAGGG'))"
   ]
  },
  {
   "cell_type": "code",
   "execution_count": 93,
   "id": "fe4cba88",
   "metadata": {},
   "outputs": [
    {
     "name": "stdout",
     "output_type": "stream",
     "text": [
      "L -> ['L', 'L', 'L', 'L']\n",
      "A -> ['A', 'A', 'A']\n",
      "G -> ['G', 'G']\n"
     ]
    }
   ],
   "source": [
    "for char, group in itertools.groupby('LLLLAAAGG'): # \n",
    "    print(char, '->', list(group))"
   ]
  },
  {
   "cell_type": "code",
   "execution_count": 94,
   "id": "ed5d3b33",
   "metadata": {},
   "outputs": [
    {
     "data": {
      "text/plain": [
       "['rat', 'bat', 'duck', 'bear', 'lion', 'eagle', 'shark', 'giraffe', 'dolphin']"
      ]
     },
     "execution_count": 94,
     "metadata": {},
     "output_type": "execute_result"
    }
   ],
   "source": [
    "animals = ['duck', 'eagle', 'rat', 'giraffe', 'bear',\n",
    "    'bat', 'dolphin', 'shark', 'lion']\n",
    "animals.sort(key=len) # \n",
    "animals"
   ]
  },
  {
   "cell_type": "code",
   "execution_count": 95,
   "id": "bcd2fc03",
   "metadata": {},
   "outputs": [
    {
     "name": "stdout",
     "output_type": "stream",
     "text": [
      "3 -> ['rat', 'bat']\n",
      "4 -> ['duck', 'bear', 'lion']\n",
      "5 -> ['eagle', 'shark']\n",
      "7 -> ['giraffe', 'dolphin']\n"
     ]
    }
   ],
   "source": [
    "for length, group in itertools.groupby(animals, len): # \n",
    "    print(length, '->', list(group))"
   ]
  },
  {
   "cell_type": "code",
   "execution_count": 96,
   "id": "9e62cad2",
   "metadata": {},
   "outputs": [
    {
     "name": "stdout",
     "output_type": "stream",
     "text": [
      "7 -> ['dolphin', 'giraffe']\n",
      "5 -> ['shark', 'eagle']\n",
      "4 -> ['lion', 'bear', 'duck']\n",
      "3 -> ['bat', 'rat']\n"
     ]
    }
   ],
   "source": [
    "for length, group in itertools.groupby(reversed(animals), len): # \n",
    "    print(length, '->', list(group))"
   ]
  },
  {
   "cell_type": "code",
   "execution_count": 97,
   "id": "0a714d0b",
   "metadata": {},
   "outputs": [
    {
     "data": {
      "text/plain": [
       "[<itertools._tee at 0x268a37f4e00>, <itertools._tee at 0x268a37f5a40>]"
      ]
     },
     "execution_count": 97,
     "metadata": {},
     "output_type": "execute_result"
    }
   ],
   "source": [
    "list(itertools.tee('ABC'))"
   ]
  },
  {
   "cell_type": "code",
   "execution_count": 98,
   "id": "4927ea8d",
   "metadata": {},
   "outputs": [],
   "source": [
    "g1, g2 = itertools.tee('ABC')"
   ]
  },
  {
   "cell_type": "code",
   "execution_count": 99,
   "id": "0e8ccea3",
   "metadata": {},
   "outputs": [
    {
     "data": {
      "text/plain": [
       "'A'"
      ]
     },
     "execution_count": 99,
     "metadata": {},
     "output_type": "execute_result"
    }
   ],
   "source": [
    "next(g1)"
   ]
  },
  {
   "cell_type": "code",
   "execution_count": 100,
   "id": "b0b74952",
   "metadata": {},
   "outputs": [
    {
     "data": {
      "text/plain": [
       "'A'"
      ]
     },
     "execution_count": 100,
     "metadata": {},
     "output_type": "execute_result"
    }
   ],
   "source": [
    "next(g2)"
   ]
  },
  {
   "cell_type": "code",
   "execution_count": 101,
   "id": "66cf1f05",
   "metadata": {},
   "outputs": [
    {
     "data": {
      "text/plain": [
       "'B'"
      ]
     },
     "execution_count": 101,
     "metadata": {},
     "output_type": "execute_result"
    }
   ],
   "source": [
    "next(g2)"
   ]
  },
  {
   "cell_type": "code",
   "execution_count": 102,
   "id": "eff56ae5",
   "metadata": {},
   "outputs": [
    {
     "data": {
      "text/plain": [
       "['B', 'C']"
      ]
     },
     "execution_count": 102,
     "metadata": {},
     "output_type": "execute_result"
    }
   ],
   "source": [
    "list(g1)"
   ]
  },
  {
   "cell_type": "code",
   "execution_count": 103,
   "id": "21adc53d",
   "metadata": {},
   "outputs": [
    {
     "data": {
      "text/plain": [
       "['C']"
      ]
     },
     "execution_count": 103,
     "metadata": {},
     "output_type": "execute_result"
    }
   ],
   "source": [
    "list(g2)"
   ]
  },
  {
   "cell_type": "code",
   "execution_count": 104,
   "id": "c25558df",
   "metadata": {},
   "outputs": [
    {
     "data": {
      "text/plain": [
       "[('A', 'A'), ('B', 'B'), ('C', 'C')]"
      ]
     },
     "execution_count": 104,
     "metadata": {},
     "output_type": "execute_result"
    }
   ],
   "source": [
    "list(zip(*itertools.tee('ABC')))"
   ]
  },
  {
   "cell_type": "markdown",
   "id": "7c3ebc89",
   "metadata": {},
   "source": [
    "## New Syntax: `yield from`"
   ]
  },
  {
   "cell_type": "code",
   "execution_count": 105,
   "id": "af35815b",
   "metadata": {},
   "outputs": [],
   "source": [
    "def chain(*iterables):\n",
    "    for it in iterables:\n",
    "        for i in it:\n",
    "            yield i"
   ]
  },
  {
   "cell_type": "code",
   "execution_count": 106,
   "id": "7210acf0",
   "metadata": {},
   "outputs": [
    {
     "data": {
      "text/plain": [
       "['A', 'B', 'C', 0, 1, 2]"
      ]
     },
     "execution_count": 106,
     "metadata": {},
     "output_type": "execute_result"
    }
   ],
   "source": [
    "s = 'ABC'\n",
    "t = tuple(range(3))\n",
    "list(chain(s, t))"
   ]
  },
  {
   "cell_type": "code",
   "execution_count": 107,
   "id": "3d5e63cb",
   "metadata": {},
   "outputs": [],
   "source": [
    "# The chain generator function is delegating to each received iterable in turn.\n",
    "def chain(*iterables):\n",
    "    for i in iterables:\n",
    "        yield from i"
   ]
  },
  {
   "cell_type": "code",
   "execution_count": 108,
   "id": "c67e7c6f",
   "metadata": {},
   "outputs": [
    {
     "data": {
      "text/plain": [
       "['A', 'B', 'C', 0, 1, 2]"
      ]
     },
     "execution_count": 108,
     "metadata": {},
     "output_type": "execute_result"
    }
   ],
   "source": [
    "list(chain(s, t))"
   ]
  },
  {
   "cell_type": "markdown",
   "id": "523d6930",
   "metadata": {},
   "source": [
    "As you can see, yield from i replaces the inner for loop completely. The use of yield from in this example is correct, and the code reads better, but it seems like mere syntactic sugar. Besides replacing a loop, yield from creates a channel connecting the inner generator directly to the client of the outer generator. This channel becomes really important when generators are used as coroutines and not only produce but also consume values from the client code.\n",
    "\n",
    "### Iterable Reducing Functions\n",
    "Actually, every one of the built-ins listed here can be implemented with functools.reduce, but they exist as built-ins because they address some common use cases more easily. Also, in the case of all and any, there is an important optimization that can’t be done with reduce: these functions short-circuit (i.e., they stop consuming the iterator as soon as the result is determined)."
   ]
  },
  {
   "cell_type": "code",
   "execution_count": 109,
   "id": "f87cd306",
   "metadata": {},
   "outputs": [
    {
     "data": {
      "text/plain": [
       "True"
      ]
     },
     "execution_count": 109,
     "metadata": {},
     "output_type": "execute_result"
    }
   ],
   "source": [
    "all([1, 2, 3])"
   ]
  },
  {
   "cell_type": "code",
   "execution_count": 110,
   "id": "3d781846",
   "metadata": {},
   "outputs": [
    {
     "data": {
      "text/plain": [
       "True"
      ]
     },
     "execution_count": 110,
     "metadata": {},
     "output_type": "execute_result"
    }
   ],
   "source": [
    "all([1, 2, 3])"
   ]
  },
  {
   "cell_type": "code",
   "execution_count": 111,
   "id": "a95fc069",
   "metadata": {},
   "outputs": [
    {
     "data": {
      "text/plain": [
       "True"
      ]
     },
     "execution_count": 111,
     "metadata": {},
     "output_type": "execute_result"
    }
   ],
   "source": [
    "all([])"
   ]
  },
  {
   "cell_type": "code",
   "execution_count": 112,
   "id": "cde6d709",
   "metadata": {},
   "outputs": [
    {
     "data": {
      "text/plain": [
       "True"
      ]
     },
     "execution_count": 112,
     "metadata": {},
     "output_type": "execute_result"
    }
   ],
   "source": [
    "any([1, 2, 3])"
   ]
  },
  {
   "cell_type": "code",
   "execution_count": 113,
   "id": "7f22e12d",
   "metadata": {},
   "outputs": [
    {
     "data": {
      "text/plain": [
       "True"
      ]
     },
     "execution_count": 113,
     "metadata": {},
     "output_type": "execute_result"
    }
   ],
   "source": [
    "any([1, 0, 3])"
   ]
  },
  {
   "cell_type": "code",
   "execution_count": 114,
   "id": "fbf6f7a3",
   "metadata": {},
   "outputs": [
    {
     "data": {
      "text/plain": [
       "False"
      ]
     },
     "execution_count": 114,
     "metadata": {},
     "output_type": "execute_result"
    }
   ],
   "source": [
    "any([0, 0.0])"
   ]
  },
  {
   "cell_type": "code",
   "execution_count": 115,
   "id": "e2369c6f",
   "metadata": {},
   "outputs": [
    {
     "data": {
      "text/plain": [
       "False"
      ]
     },
     "execution_count": 115,
     "metadata": {},
     "output_type": "execute_result"
    }
   ],
   "source": [
    "any([])"
   ]
  },
  {
   "cell_type": "code",
   "execution_count": 116,
   "id": "c1cb7b2a",
   "metadata": {},
   "outputs": [
    {
     "data": {
      "text/plain": [
       "True"
      ]
     },
     "execution_count": 116,
     "metadata": {},
     "output_type": "execute_result"
    }
   ],
   "source": [
    "g = (n for n in [0, 0.0, 7, 8])\n",
    "any(g)"
   ]
  },
  {
   "cell_type": "code",
   "execution_count": 117,
   "id": "d9e8649b",
   "metadata": {},
   "outputs": [
    {
     "data": {
      "text/plain": [
       "8"
      ]
     },
     "execution_count": 117,
     "metadata": {},
     "output_type": "execute_result"
    }
   ],
   "source": [
    "next(g)"
   ]
  },
  {
   "cell_type": "markdown",
   "id": "f7da7643",
   "metadata": {},
   "source": [
    "Another built-in that takes an iterable and returns something else is sorted. Unlike reversed, which is a generator function, sorted builds and returns an actual list.\n",
    "\n",
    "## A Closer Look at the iter Function\n",
    "\n",
    "`iter` has another trick: it can be called with two arguments to create an iterator from a regular function or any callable object. In this usage, the first argument must be a callable to be invoked repeatedly (with no arguments) to yield values, and the second argument is a sentinel: a marker value which, when returned by the callable, causes the iterator to raise StopIteration instead of yielding the sentinel."
   ]
  },
  {
   "cell_type": "code",
   "execution_count": 118,
   "id": "36bb7e2f",
   "metadata": {},
   "outputs": [],
   "source": [
    "def d6():\n",
    "    return random.randint(1, 10)"
   ]
  },
  {
   "cell_type": "code",
   "execution_count": 119,
   "id": "8a837222",
   "metadata": {},
   "outputs": [
    {
     "data": {
      "text/plain": [
       "<callable_iterator at 0x268a4824760>"
      ]
     },
     "execution_count": 119,
     "metadata": {},
     "output_type": "execute_result"
    }
   ],
   "source": [
    "d6_iter = iter(d6, 1)\n",
    "d6_iter"
   ]
  },
  {
   "cell_type": "code",
   "execution_count": 120,
   "id": "0567828e",
   "metadata": {},
   "outputs": [
    {
     "name": "stdout",
     "output_type": "stream",
     "text": [
      "7\n"
     ]
    }
   ],
   "source": [
    "for i in d6_iter:\n",
    "    print(i)"
   ]
  },
  {
   "cell_type": "markdown",
   "id": "7f06b731",
   "metadata": {},
   "source": [
    "Note that the iter function here returns a callable_iterator. The for loop in the example may run for a very long time, but it will never display 1, because that is the sentinel value. As usual with iterators, the d6_iter object in the example becomes useless once exhausted. To start over, you must rebuild the iterator by invoking iter(…) again.\n",
    "\n",
    "A useful example is found in the iter built-in function documentation. This snippet reads lines from a file until a blank line is found or the end of file is reached:"
   ]
  },
  {
   "cell_type": "code",
   "execution_count": 121,
   "id": "bd733c6c",
   "metadata": {},
   "outputs": [
    {
     "name": "stdout",
     "output_type": "stream",
     "text": [
      "from array import array\n",
      "\n",
      "import reprlib\n",
      "\n",
      "import functools\n",
      "\n",
      "import math\n",
      "\n",
      "import itertools\n",
      "\n",
      "import numbers\n",
      "\n",
      "\n",
      "\n",
      "\n",
      "\n",
      "class Vector:\n",
      "\n",
      "    \n",
      "\n",
      "    typecode = 'd'\n",
      "\n",
      "    \n",
      "\n",
      "    def __init__(self, components):\n",
      "\n",
      "        self._components = array(self.typecode, components)\n",
      "\n",
      "\n",
      "\n",
      "    def __iter__(self):\n",
      "\n",
      "        return iter(self._components)\n",
      "\n",
      "\n",
      "\n",
      "    def __add__(self, other):\n",
      "\n",
      "        try:\n",
      "\n",
      "            pairs = itertools.zip_longest(self, other, fillvalue=0.0)\n",
      "\n",
      "            return Vector(a + b for a, b in pairs)\n",
      "\n",
      "        except TypeError:\n",
      "\n",
      "            return NotImplemented\n",
      "\n",
      "\n",
      "\n",
      "    def __radd__(self, other): # Inside the Vector class\n",
      "\n",
      "        return self + other\n",
      "\n",
      "\n",
      "\n",
      "    def __mul__(self, scalar):\n",
      "\n",
      "        if isinstance(scalar, numbers.Real):\n",
      "\n",
      "            return Vector(n * scalar for n in self)\n",
      "\n",
      "        else:\n",
      "\n",
      "            return NotImplemented\n",
      "\n",
      "\n",
      "\n",
      "    def __rmul__(self, scalar):\n",
      "\n",
      "        return self * scalar\n",
      "\n",
      "\n",
      "\n",
      "    def __matmul__(self, other):\n",
      "\n",
      "        try:\n",
      "\n",
      "            return sum(a * b for a, b in zip(self, other))\n",
      "\n",
      "        except TypeError:\n",
      "\n",
      "            return NotImplemented\n",
      "\n",
      "\n",
      "\n",
      "    def __rmatmul__(self, other):\n",
      "\n",
      "        return self @ other\n",
      "\n",
      "\n",
      "\n",
      "    def __repr__(self):\n",
      "\n",
      "        components = reprlib.repr(self._components)\n",
      "\n",
      "        components = components[components.find('['):-1]\n",
      "\n",
      "        return 'Vector({})'.format(components)\n",
      "\n",
      "\n",
      "\n",
      "    def __str__(self):\n",
      "\n",
      "        return str(tuple(self))\n",
      "\n",
      "    \n",
      "\n",
      "    def __bytes__(self):\n",
      "\n",
      "        return (bytes([ord(self.typecode)]) +\n",
      "\n",
      "                bytes(self._components))\n",
      "\n",
      "\n",
      "\n",
      "    def __eq__(self, other):\n",
      "\n",
      "        return (len(self) == len(other) and\n",
      "\n",
      "                all(a == b for a, b in zip(self, other)))\n",
      "\n",
      "\n",
      "\n",
      "    def __hash__(self):\n",
      "\n",
      "        hashes = (hash(x) for x in self)\n",
      "\n",
      "        return functools.reduce(operator.xor, hashes, 0)\n",
      "\n",
      "\n",
      "\n",
      "    def __abs__(self):\n",
      "\n",
      "        return math.sqrt(sum(x * x for x in self))\n",
      "\n",
      "\n",
      "\n",
      "    def __bool__(self):\n",
      "\n",
      "        return bool(abs(self))\n",
      "\n",
      "\n",
      "\n",
      "    def __len__(self):\n",
      "\n",
      "        return len(self._components)\n",
      "\n",
      "\n",
      "\n",
      "    def __getitem__(self, index):\n",
      "\n",
      "        cls = type(self)\n",
      "\n",
      "        if isinstance(index, slice):\n",
      "\n",
      "            return cls(self._components[index])\n",
      "\n",
      "        elif isinstance(index, numbers.Integral):\n",
      "\n",
      "            return self._components[index]\n",
      "\n",
      "        else:\n",
      "\n",
      "            msg = '{.__name__} indices must be integers'\n",
      "\n",
      "            raise TypeError(msg.format(cls))\n",
      "\n",
      "\n",
      "\n",
      "    shortcut_names = 'xyzt'\n",
      "\n",
      "\n",
      "\n",
      "    def __getattr__(self, name):\n",
      "\n",
      "        cls = type(self)\n",
      "\n",
      "        if len(name) == 1:\n",
      "\n",
      "            pos = cls.shortcut_names.find(name)\n",
      "\n",
      "            if 0 <= pos < len(self._components):\n",
      "\n",
      "                return self._components[pos]\n",
      "\n",
      "        msg = '{.__name__!r} object has no attribute {!r}'\n",
      "\n",
      "        raise AttributeError(msg.format(cls, name))\n",
      "\n",
      "\n",
      "\n",
      "    def angle(self, n):\n",
      "\n",
      "        r = math.sqrt(sum(x * x for x in self[n:]))\n",
      "\n",
      "        a = math.atan2(r, self[n-1])\n",
      "\n",
      "        if (n == len(self) - 1) and (self[-1] < 0):\n",
      "\n",
      "            return math.pi * 2 - a\n",
      "\n",
      "        else:\n",
      "\n",
      "            return a\n",
      "\n",
      "\n",
      "\n",
      "    def angles(self):\n",
      "\n",
      "        return (self.angle(n) for n in range(1, len(self)))\n",
      "\n",
      "\n",
      "\n",
      "    def __format__(self, fmt_spec=''):\n",
      "\n",
      "        if fmt_spec.endswith('h'): # hyperspherical coordinates\n",
      "\n",
      "            fmt_spec = fmt_spec[:-1]\n",
      "\n",
      "            coords = itertools.chain([abs(self)],\n",
      "\n",
      "                                        self.angles())\n",
      "\n",
      "            outer_fmt = '<{}>'\n",
      "\n",
      "        else:\n",
      "\n",
      "            coords = self\n",
      "\n",
      "            outer_fmt = '({})'\n",
      "\n",
      "        components = (format(c, fmt_spec) for c in coords)\n",
      "\n",
      "        return outer_fmt.format(', '.join(components))\n",
      "\n",
      "\n",
      "\n",
      "    @classmethod\n",
      "\n",
      "    def frombytes(cls, octets):\n",
      "\n",
      "        typecode = chr(octets[0])\n",
      "\n",
      "        memv = memoryview(octets[1:]).cast(typecode)\n",
      "\n",
      "        return cls(memv)\n",
      "\n"
     ]
    }
   ],
   "source": [
    "with open('vector.py') as fp:\n",
    "    for line in iter(fp.readline, ''):\n",
    "        # process_line(line)\n",
    "        print(line)"
   ]
  },
  {
   "cell_type": "markdown",
   "id": "7a2cc3e4",
   "metadata": {},
   "source": [
    "## Case Study: <a href=\"https://github.com/fluentpython/isis2json\">Generators in a Database Conversion Utility</a>"
   ]
  }
 ],
 "metadata": {
  "kernelspec": {
   "display_name": "Python 3 (ipykernel)",
   "language": "python",
   "name": "python3"
  },
  "language_info": {
   "codemirror_mode": {
    "name": "ipython",
    "version": 3
   },
   "file_extension": ".py",
   "mimetype": "text/x-python",
   "name": "python",
   "nbconvert_exporter": "python",
   "pygments_lexer": "ipython3",
   "version": "3.10.4"
  }
 },
 "nbformat": 4,
 "nbformat_minor": 5
}
