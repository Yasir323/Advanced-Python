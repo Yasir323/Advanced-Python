{
 "cells": [
  {
   "cell_type": "code",
   "execution_count": 1,
   "id": "27dd6827-f2b8-43f5-8e64-711548757e04",
   "metadata": {},
   "outputs": [],
   "source": [
    "import random\n",
    "from inspect import signature\n",
    "from operator import add, mul, itemgetter, attrgetter, methodcaller\n",
    "from functools import reduce, partial\n",
    "from collections import namedtuple"
   ]
  },
  {
   "cell_type": "markdown",
   "id": "30489da9-0819-44e7-a368-1ec5906e7012",
   "metadata": {},
   "source": [
    "### Create and test a function, then read its __doc__ and check its type"
   ]
  },
  {
   "cell_type": "code",
   "execution_count": 2,
   "id": "742f1f23-6828-42dd-afff-807ec17d7d67",
   "metadata": {},
   "outputs": [],
   "source": [
    "def factorial(n):\n",
    "    \"\"\"returns n!\"\"\"\n",
    "    return 1 if n < 2 else n * factorial(n - 1)"
   ]
  },
  {
   "cell_type": "code",
   "execution_count": 3,
   "id": "a8bb28f3-4610-453a-a1db-73a2f8c811bf",
   "metadata": {},
   "outputs": [
    {
     "data": {
      "text/plain": [
       "1405006117752879898543142606244511569936384000000000"
      ]
     },
     "execution_count": 3,
     "metadata": {},
     "output_type": "execute_result"
    }
   ],
   "source": [
    "factorial(42)"
   ]
  },
  {
   "cell_type": "code",
   "execution_count": 4,
   "id": "e19b9192-2137-45af-a33e-50773af76c6c",
   "metadata": {},
   "outputs": [
    {
     "data": {
      "text/plain": [
       "'returns n!'"
      ]
     },
     "execution_count": 4,
     "metadata": {},
     "output_type": "execute_result"
    }
   ],
   "source": [
    "factorial.__doc__"
   ]
  },
  {
   "cell_type": "code",
   "execution_count": 5,
   "id": "3e217264-fb0b-4714-818b-12c6d1a528e6",
   "metadata": {},
   "outputs": [
    {
     "data": {
      "text/plain": [
       "function"
      ]
     },
     "execution_count": 5,
     "metadata": {},
     "output_type": "execute_result"
    }
   ],
   "source": [
    "type(factorial)"
   ]
  },
  {
   "cell_type": "markdown",
   "id": "df20a47a-c23f-4580-a35e-f67fd5929254",
   "metadata": {},
   "source": [
    "### Use function through a different name, and pass function as argument"
   ]
  },
  {
   "cell_type": "code",
   "execution_count": 6,
   "id": "e10e280d-4d34-4d98-ac46-d216590ef8b6",
   "metadata": {},
   "outputs": [
    {
     "data": {
      "text/plain": [
       "<function __main__.factorial(n)>"
      ]
     },
     "execution_count": 6,
     "metadata": {},
     "output_type": "execute_result"
    }
   ],
   "source": [
    "fact = factorial\n",
    "fact"
   ]
  },
  {
   "cell_type": "code",
   "execution_count": 7,
   "id": "b8a6d363-9b88-4008-ba6b-7ceb2df9f94b",
   "metadata": {},
   "outputs": [
    {
     "data": {
      "text/plain": [
       "120"
      ]
     },
     "execution_count": 7,
     "metadata": {},
     "output_type": "execute_result"
    }
   ],
   "source": [
    "fact(5)"
   ]
  },
  {
   "cell_type": "code",
   "execution_count": 8,
   "id": "3d7ae20b-b6d9-4f63-9388-41b5c1438529",
   "metadata": {},
   "outputs": [
    {
     "data": {
      "text/plain": [
       "<map at 0x2568f087ca0>"
      ]
     },
     "execution_count": 8,
     "metadata": {},
     "output_type": "execute_result"
    }
   ],
   "source": [
    "map(factorial, range(10))"
   ]
  },
  {
   "cell_type": "code",
   "execution_count": 9,
   "id": "2536a4d2-bcff-4269-a681-a8160d3af3de",
   "metadata": {},
   "outputs": [
    {
     "data": {
      "text/plain": [
       "[1, 1, 2, 6, 24, 120, 720, 5040, 40320, 362880]"
      ]
     },
     "execution_count": 9,
     "metadata": {},
     "output_type": "execute_result"
    }
   ],
   "source": [
    "list(map(factorial, range(10)))"
   ]
  },
  {
   "cell_type": "markdown",
   "id": "55e6cfb3-b836-4671-868a-e5850d7397d7",
   "metadata": {},
   "source": [
    "### Sorting a list of words by length"
   ]
  },
  {
   "cell_type": "code",
   "execution_count": 10,
   "id": "4fabf58a-53f1-4175-8fe1-8932b76c9fc3",
   "metadata": {},
   "outputs": [
    {
     "data": {
      "text/plain": [
       "['fig', 'apple', 'cherry', 'banana', 'raspberry', 'strawberry']"
      ]
     },
     "execution_count": 10,
     "metadata": {},
     "output_type": "execute_result"
    }
   ],
   "source": [
    "fruits = ['strawberry', 'fig', 'apple', 'cherry', 'raspberry', 'banana']\n",
    "sorted(fruits, key=len)"
   ]
  },
  {
   "cell_type": "markdown",
   "id": "fd189d85-1cd5-42e8-a762-f31ada768639",
   "metadata": {},
   "source": [
    "### Sorting a list of words by their reversed spelling"
   ]
  },
  {
   "cell_type": "code",
   "execution_count": 11,
   "id": "523a74f9-1a22-442a-b3dc-eba7afb584d5",
   "metadata": {},
   "outputs": [],
   "source": [
    "def reverse(word):\n",
    "    return word[::-1]"
   ]
  },
  {
   "cell_type": "code",
   "execution_count": 12,
   "id": "e82eca4c-b1f7-4b2c-a0ae-d7c2c942f8c3",
   "metadata": {},
   "outputs": [
    {
     "data": {
      "text/plain": [
       "'gnitset'"
      ]
     },
     "execution_count": 12,
     "metadata": {},
     "output_type": "execute_result"
    }
   ],
   "source": [
    "reverse('testing')"
   ]
  },
  {
   "cell_type": "code",
   "execution_count": 13,
   "id": "6d2eb9aa-28a9-4d56-b22a-dbe9d2175b72",
   "metadata": {},
   "outputs": [
    {
     "data": {
      "text/plain": [
       "['banana', 'apple', 'fig', 'raspberry', 'strawberry', 'cherry']"
      ]
     },
     "execution_count": 13,
     "metadata": {},
     "output_type": "execute_result"
    }
   ],
   "source": [
    "sorted(fruits, key=reverse)"
   ]
  },
  {
   "cell_type": "markdown",
   "id": "053c5c99-52fd-4104-a7df-ce706e541368",
   "metadata": {},
   "source": [
    "### Lists of factorials produced with map and filter compared to alternatives coded as list comprehensions"
   ]
  },
  {
   "cell_type": "code",
   "execution_count": 14,
   "id": "c0513d8b-684e-4273-832e-11ca90c60913",
   "metadata": {},
   "outputs": [
    {
     "data": {
      "text/plain": [
       "[1, 1, 2, 6, 24, 120]"
      ]
     },
     "execution_count": 14,
     "metadata": {},
     "output_type": "execute_result"
    }
   ],
   "source": [
    "list(map(fact, range(6)))"
   ]
  },
  {
   "cell_type": "code",
   "execution_count": 15,
   "id": "db5202a7-749e-4be1-877e-88e6d8006411",
   "metadata": {},
   "outputs": [
    {
     "data": {
      "text/plain": [
       "[1, 1, 2, 6, 24, 120]"
      ]
     },
     "execution_count": 15,
     "metadata": {},
     "output_type": "execute_result"
    }
   ],
   "source": [
    "# Same operation, with a list comprehension.\n",
    "[fact(n) for n in range(6)]"
   ]
  },
  {
   "cell_type": "code",
   "execution_count": 16,
   "id": "6374889f-8b29-4547-a51a-2eeaa84ae2c5",
   "metadata": {},
   "outputs": [
    {
     "data": {
      "text/plain": [
       "[1, 6, 120]"
      ]
     },
     "execution_count": 16,
     "metadata": {},
     "output_type": "execute_result"
    }
   ],
   "source": [
    "list(map(factorial, filter(lambda n: n % 2, range(6))))"
   ]
  },
  {
   "cell_type": "code",
   "execution_count": 17,
   "id": "b0dc05fa-22b2-4cf9-b6c2-5a28fb1fce7b",
   "metadata": {},
   "outputs": [
    {
     "data": {
      "text/plain": [
       "[1, 6, 120]"
      ]
     },
     "execution_count": 17,
     "metadata": {},
     "output_type": "execute_result"
    }
   ],
   "source": [
    "# Same operation, with a list comprehension.\n",
    "[factorial(n) for n in range(6) if n % 2]"
   ]
  },
  {
   "cell_type": "markdown",
   "id": "7870d1be-1c36-4bfe-a76d-d550d9f030fb",
   "metadata": {},
   "source": [
    "### Sum of integers up to 99 performed with reduce and sum"
   ]
  },
  {
   "cell_type": "code",
   "execution_count": 18,
   "id": "874f8f0a-0fcd-4988-a929-2b440e55dbd2",
   "metadata": {},
   "outputs": [
    {
     "name": "stdout",
     "output_type": "stream",
     "text": [
      "806 µs ± 92.8 µs per loop (mean ± std. dev. of 7 runs, 1000 loops each)\n"
     ]
    }
   ],
   "source": [
    "%%timeit\n",
    "reduce(add, range(10000))"
   ]
  },
  {
   "cell_type": "code",
   "execution_count": 19,
   "id": "c58c578d-720d-4784-9599-95aad22f9a8d",
   "metadata": {},
   "outputs": [
    {
     "name": "stdout",
     "output_type": "stream",
     "text": [
      "275 µs ± 4.55 µs per loop (mean ± std. dev. of 7 runs, 1000 loops each)\n"
     ]
    }
   ],
   "source": [
    "%%timeit\n",
    "sum(range(10000))"
   ]
  },
  {
   "cell_type": "markdown",
   "id": "77d609e2-c372-45a4-aa0e-c34f6c6dfee0",
   "metadata": {},
   "source": [
    "### Sorting a list of words by their reversed spelling using lambda"
   ]
  },
  {
   "cell_type": "code",
   "execution_count": 20,
   "id": "0e565069-2fee-42f3-bcf2-193b2ea02489",
   "metadata": {},
   "outputs": [
    {
     "data": {
      "text/plain": [
       "['banana', 'apple', 'fig', 'raspberry', 'strawberry', 'cherry']"
      ]
     },
     "execution_count": 20,
     "metadata": {},
     "output_type": "execute_result"
    }
   ],
   "source": [
    "fruits = ['strawberry', 'fig', 'apple', 'cherry', 'raspberry', 'banana']\n",
    "sorted(fruits, key=lambda word: word[::-1])"
   ]
  },
  {
   "cell_type": "markdown",
   "id": "01460f52-a389-4a38-bae3-44501640f8c6",
   "metadata": {},
   "source": [
    "## Callable Objects"
   ]
  },
  {
   "cell_type": "code",
   "execution_count": 21,
   "id": "2ac2b5b5-8f57-4770-b550-631234e69ba5",
   "metadata": {},
   "outputs": [
    {
     "data": {
      "text/plain": [
       "(<function abs(x, /)>, str, 13)"
      ]
     },
     "execution_count": 21,
     "metadata": {},
     "output_type": "execute_result"
    }
   ],
   "source": [
    "abs, str, 13"
   ]
  },
  {
   "cell_type": "code",
   "execution_count": 22,
   "id": "0498e72f-befa-406d-937b-d3c75e927f0a",
   "metadata": {},
   "outputs": [
    {
     "data": {
      "text/plain": [
       "[True, True, False]"
      ]
     },
     "execution_count": 22,
     "metadata": {},
     "output_type": "execute_result"
    }
   ],
   "source": [
    "[callable(obj) for obj in (abs, str, 13)]"
   ]
  },
  {
   "cell_type": "markdown",
   "id": "a0640b18-7a2c-4975-8839-c237b94349fa",
   "metadata": {},
   "source": [
    "### A BingoCage does one thing: picks items from a shuffled list"
   ]
  },
  {
   "cell_type": "code",
   "execution_count": 23,
   "id": "f7cf45e4-476f-4e22-b62c-f787abee6d31",
   "metadata": {},
   "outputs": [],
   "source": [
    "class BingoCage:\n",
    "    def __init__(self, items):\n",
    "        self._items = list(items)\n",
    "        random.shuffle(self._items)\n",
    "    \n",
    "    def pick(self):\n",
    "        try:\n",
    "            return self._items.pop()\n",
    "        except IndexError:\n",
    "            raise LookupError('pick from empty BingoCage')\n",
    "    \n",
    "    def __call__(self):\n",
    "        return self.pick()"
   ]
  },
  {
   "cell_type": "code",
   "execution_count": 24,
   "id": "356dc6b5-3dde-4d77-8de4-06546bbe441a",
   "metadata": {},
   "outputs": [
    {
     "data": {
      "text/plain": [
       "2"
      ]
     },
     "execution_count": 24,
     "metadata": {},
     "output_type": "execute_result"
    }
   ],
   "source": [
    "bingo = BingoCage(range(3))\n",
    "bingo.pick()"
   ]
  },
  {
   "cell_type": "code",
   "execution_count": 25,
   "id": "b87f0c98-a8fc-4bd6-9da3-d2283f81372c",
   "metadata": {},
   "outputs": [
    {
     "data": {
      "text/plain": [
       "True"
      ]
     },
     "execution_count": 25,
     "metadata": {},
     "output_type": "execute_result"
    }
   ],
   "source": [
    "callable(bingo)  # bingo is a callable"
   ]
  },
  {
   "cell_type": "code",
   "execution_count": 26,
   "id": "c8671c34-602c-4b93-8506-406a6708140e",
   "metadata": {},
   "outputs": [
    {
     "data": {
      "text/plain": [
       "1"
      ]
     },
     "execution_count": 26,
     "metadata": {},
     "output_type": "execute_result"
    }
   ],
   "source": [
    "bingo()"
   ]
  },
  {
   "cell_type": "markdown",
   "id": "fb61b173-7a3d-4902-b378-da2af02a3f21",
   "metadata": {},
   "source": [
    "## Function Introspection"
   ]
  },
  {
   "cell_type": "code",
   "execution_count": 27,
   "id": "39dd1a7e-9a6e-46e2-95d1-c2783ff6fa57",
   "metadata": {},
   "outputs": [
    {
     "data": {
      "text/plain": [
       "['__annotations__',\n",
       " '__call__',\n",
       " '__class__',\n",
       " '__closure__',\n",
       " '__code__',\n",
       " '__defaults__',\n",
       " '__delattr__',\n",
       " '__dict__',\n",
       " '__dir__',\n",
       " '__doc__',\n",
       " '__eq__',\n",
       " '__format__',\n",
       " '__ge__',\n",
       " '__get__',\n",
       " '__getattribute__',\n",
       " '__globals__',\n",
       " '__gt__',\n",
       " '__hash__',\n",
       " '__init__',\n",
       " '__init_subclass__',\n",
       " '__kwdefaults__',\n",
       " '__le__',\n",
       " '__lt__',\n",
       " '__module__',\n",
       " '__name__',\n",
       " '__ne__',\n",
       " '__new__',\n",
       " '__qualname__',\n",
       " '__reduce__',\n",
       " '__reduce_ex__',\n",
       " '__repr__',\n",
       " '__setattr__',\n",
       " '__sizeof__',\n",
       " '__str__',\n",
       " '__subclasshook__']"
      ]
     },
     "execution_count": 27,
     "metadata": {},
     "output_type": "execute_result"
    }
   ],
   "source": [
    "dir(factorial)"
   ]
  },
  {
   "cell_type": "code",
   "execution_count": 28,
   "id": "671528b7-1775-4f71-a1b1-fc5ab1340a53",
   "metadata": {},
   "outputs": [],
   "source": [
    "def upper_case_name(obj):\n",
    "    return (\"%s %s\" % (obj.first_name, obj.last_name)).upper()"
   ]
  },
  {
   "cell_type": "code",
   "execution_count": 29,
   "id": "5315d94c-dbff-4317-93a9-682315cd7f39",
   "metadata": {},
   "outputs": [],
   "source": [
    "upper_case_name.short_description = 'Customer name'"
   ]
  },
  {
   "cell_type": "code",
   "execution_count": 30,
   "id": "0c723b8c-cf7d-4831-b059-4600c34012b2",
   "metadata": {},
   "outputs": [
    {
     "data": {
      "text/plain": [
       "{'short_description'}"
      ]
     },
     "execution_count": 30,
     "metadata": {},
     "output_type": "execute_result"
    }
   ],
   "source": [
    "set(dir(upper_case_name)) - set(dir(factorial))"
   ]
  },
  {
   "cell_type": "markdown",
   "id": "798ed595-f974-4c05-a28c-c33969298d0f",
   "metadata": {},
   "source": [
    "### Listing attributes of functions that don’t exist in plain instances"
   ]
  },
  {
   "cell_type": "code",
   "execution_count": 31,
   "id": "5aa9cf68-e538-4339-9f0a-a99aaa52fe85",
   "metadata": {},
   "outputs": [],
   "source": [
    "class C: pass"
   ]
  },
  {
   "cell_type": "code",
   "execution_count": 32,
   "id": "d5a9572c-bb24-46db-bbb3-99688d8767eb",
   "metadata": {},
   "outputs": [],
   "source": [
    "obj = C()"
   ]
  },
  {
   "cell_type": "code",
   "execution_count": 33,
   "id": "de264068-94f4-45c6-ad70-0d6476f817eb",
   "metadata": {},
   "outputs": [],
   "source": [
    "def func(): pass"
   ]
  },
  {
   "cell_type": "code",
   "execution_count": 34,
   "id": "18eec855-27a2-4e2b-9547-6cebad9c8739",
   "metadata": {},
   "outputs": [
    {
     "data": {
      "text/plain": [
       "['__annotations__',\n",
       " '__call__',\n",
       " '__closure__',\n",
       " '__code__',\n",
       " '__defaults__',\n",
       " '__get__',\n",
       " '__globals__',\n",
       " '__kwdefaults__',\n",
       " '__name__',\n",
       " '__qualname__']"
      ]
     },
     "execution_count": 34,
     "metadata": {},
     "output_type": "execute_result"
    }
   ],
   "source": [
    "sorted(set(dir(func)) - set(dir(obj)))"
   ]
  },
  {
   "cell_type": "markdown",
   "id": "fba0a08d-663b-46bd-8b97-fd18539fe348",
   "metadata": {},
   "source": [
    "## From Positional to Keyword-Only Parameters\n",
    "### tag generates HTML; a keyword-only argument cls is used to pass “class” attributes as a workaround because class is a keyword in Python"
   ]
  },
  {
   "cell_type": "code",
   "execution_count": 35,
   "id": "5a5c373a-951a-4224-a319-2cf1a39323f1",
   "metadata": {},
   "outputs": [],
   "source": [
    "def tag(name, *content, cls=None, **attrs):\n",
    "    \"\"\"Generate one or more HTML tags\"\"\"\n",
    "    if cls is not None:\n",
    "        attrs['class'] = cls\n",
    "    if attrs:\n",
    "        attr_str = ''.join(' %s=\"%s\"' % (attr, value)\n",
    "                            for attr, value\n",
    "                            in sorted(attrs.items()))\n",
    "    else:\n",
    "        attr_str = ''\n",
    "    if content:\n",
    "        return '\\n'.join('<%s%s>%s</%s>' %\n",
    "                        (name, attr_str, c, name) for c in content)\n",
    "    else:\n",
    "        return '<%s%s />' % (name, attr_str)"
   ]
  },
  {
   "cell_type": "code",
   "execution_count": 36,
   "id": "85d3c965-2d0f-4b84-9e0d-1485c33c35a5",
   "metadata": {},
   "outputs": [
    {
     "data": {
      "text/plain": [
       "'<br />'"
      ]
     },
     "execution_count": 36,
     "metadata": {},
     "output_type": "execute_result"
    }
   ],
   "source": [
    "tag('br')"
   ]
  },
  {
   "cell_type": "code",
   "execution_count": 37,
   "id": "e058a47d-365b-46c1-bb69-c77ea237568e",
   "metadata": {},
   "outputs": [
    {
     "data": {
      "text/plain": [
       "'<p>hello</p>'"
      ]
     },
     "execution_count": 37,
     "metadata": {},
     "output_type": "execute_result"
    }
   ],
   "source": [
    "tag('p', 'hello')"
   ]
  },
  {
   "cell_type": "code",
   "execution_count": 38,
   "id": "c51cfd29-829c-4faa-a9c9-26f223b72152",
   "metadata": {},
   "outputs": [
    {
     "name": "stdout",
     "output_type": "stream",
     "text": [
      "<p>hello</p>\n",
      "<p>world</p>\n"
     ]
    }
   ],
   "source": [
    "print(tag('p', 'hello', 'world'))"
   ]
  },
  {
   "cell_type": "code",
   "execution_count": 39,
   "id": "59a9948a-3bed-4ff6-a754-8391299f2cb7",
   "metadata": {},
   "outputs": [
    {
     "data": {
      "text/plain": [
       "'<p id=\"33\">hello</p>'"
      ]
     },
     "execution_count": 39,
     "metadata": {},
     "output_type": "execute_result"
    }
   ],
   "source": [
    "tag('p', 'hello', id=33)"
   ]
  },
  {
   "cell_type": "code",
   "execution_count": 40,
   "id": "de0339c1-32d3-4633-895c-6bd067f98487",
   "metadata": {},
   "outputs": [
    {
     "name": "stdout",
     "output_type": "stream",
     "text": [
      "<p class=\"sidebar\">hello</p>\n",
      "<p class=\"sidebar\">world</p>\n"
     ]
    }
   ],
   "source": [
    "print(tag('p', 'hello', 'world', cls='sidebar'))"
   ]
  },
  {
   "cell_type": "code",
   "execution_count": 41,
   "id": "1c14cd3a-a447-4f31-a3d4-8936946230c9",
   "metadata": {},
   "outputs": [
    {
     "data": {
      "text/plain": [
       "'<img content=\"testing\" />'"
      ]
     },
     "execution_count": 41,
     "metadata": {},
     "output_type": "execute_result"
    }
   ],
   "source": [
    "tag(content='testing', name=\"img\")"
   ]
  },
  {
   "cell_type": "code",
   "execution_count": 42,
   "id": "5799ff0e-cb27-43b0-a193-17f8ed00fe00",
   "metadata": {},
   "outputs": [
    {
     "data": {
      "text/plain": [
       "'<img class=\"framed\" src=\"sunset.jpg\" title=\"Sunset Boulevard\" />'"
      ]
     },
     "execution_count": 42,
     "metadata": {},
     "output_type": "execute_result"
    }
   ],
   "source": [
    "my_tag = {'name': 'img', 'title': 'Sunset Boulevard',\n",
    "            'src': 'sunset.jpg', 'cls': 'framed'}\n",
    "tag(**my_tag)"
   ]
  },
  {
   "cell_type": "code",
   "execution_count": 43,
   "id": "bfba4d5f-d6c5-47ee-b1ed-e0ee7e3486d3",
   "metadata": {},
   "outputs": [],
   "source": [
    "def f(a, *, b):\n",
    "    return a, b"
   ]
  },
  {
   "cell_type": "code",
   "execution_count": 44,
   "id": "8d48a7db-cb3e-4afd-998c-193a85d7c178",
   "metadata": {},
   "outputs": [
    {
     "data": {
      "text/plain": [
       "(1, 2)"
      ]
     },
     "execution_count": 44,
     "metadata": {},
     "output_type": "execute_result"
    }
   ],
   "source": [
    "f(1, b=2)  # b, here can only be passed as keyword argument"
   ]
  },
  {
   "cell_type": "markdown",
   "id": "7dbb4415-aa28-4981-8996-33b7bcb47660",
   "metadata": {},
   "source": [
    "## Retrieving Information About Parameters"
   ]
  },
  {
   "cell_type": "markdown",
   "id": "b080f63a-df4a-4782-8901-54dd970e7782",
   "metadata": {},
   "source": [
    "### Function to shorten a string by clipping at a space near the desired length"
   ]
  },
  {
   "cell_type": "code",
   "execution_count": 45,
   "id": "e1b92dc8-2295-47f6-8a05-da626920dc2d",
   "metadata": {},
   "outputs": [],
   "source": [
    "def clip(text, max_len=80):\n",
    "    \"\"\"Return text clipped at the last space before or after max_len\n",
    "    \"\"\"\n",
    "    end = None\n",
    "    if len(text) > max_len:\n",
    "        space_before = text.rfind(' ', 0, max_len)\n",
    "    if space_before >= 0:\n",
    "        end = space_before\n",
    "    else:\n",
    "        space_after = text.rfind(' ', max_len)\n",
    "    if space_after >= 0:\n",
    "        end = space_after\n",
    "    if end is None: # no spaces were found\n",
    "        end = len(text)\n",
    "    return text[:end].rstrip()"
   ]
  },
  {
   "cell_type": "markdown",
   "id": "26703a1b-91e6-4785-b917-36f1fbefec87",
   "metadata": {},
   "source": [
    "### Extracting information about the function arguments"
   ]
  },
  {
   "cell_type": "code",
   "execution_count": 46,
   "id": "139cd239-a6a7-487c-9002-13081ad7cf0b",
   "metadata": {},
   "outputs": [
    {
     "data": {
      "text/plain": [
       "(80,)"
      ]
     },
     "execution_count": 46,
     "metadata": {},
     "output_type": "execute_result"
    }
   ],
   "source": [
    "clip.__defaults__"
   ]
  },
  {
   "cell_type": "code",
   "execution_count": 47,
   "id": "678b0a54-e568-40cb-9f18-5b4f9489aa15",
   "metadata": {},
   "outputs": [
    {
     "data": {
      "text/plain": [
       "<code object clip at 0x000002568F0BE920, file \"C:\\Users\\Dell\\AppData\\Local\\Temp/ipykernel_7860/1732165803.py\", line 1>"
      ]
     },
     "execution_count": 47,
     "metadata": {},
     "output_type": "execute_result"
    }
   ],
   "source": [
    "clip.__code__"
   ]
  },
  {
   "cell_type": "code",
   "execution_count": 48,
   "id": "d54b8a49-0f6a-4a3a-9a1c-17fbe7f1f043",
   "metadata": {},
   "outputs": [
    {
     "data": {
      "text/plain": [
       "('text', 'max_len', 'end', 'space_before', 'space_after')"
      ]
     },
     "execution_count": 48,
     "metadata": {},
     "output_type": "execute_result"
    }
   ],
   "source": [
    "# The argument names appear in __code__.co_varnames, but that \n",
    "# also includes the names of the local variables created in the \n",
    "# body of the function.\n",
    "clip.__code__.co_varnames"
   ]
  },
  {
   "cell_type": "markdown",
   "id": "b01d3ee2-61bf-4e6f-ae74-a83b1c8c262c",
   "metadata": {},
   "source": [
    "### Extracting the function signature"
   ]
  },
  {
   "cell_type": "code",
   "execution_count": 49,
   "id": "ee683c71-9565-42ea-9c34-4aa25de1b684",
   "metadata": {},
   "outputs": [
    {
     "data": {
      "text/plain": [
       "<Signature (text, max_len=80)>"
      ]
     },
     "execution_count": 49,
     "metadata": {},
     "output_type": "execute_result"
    }
   ],
   "source": [
    "sig = signature(clip)\n",
    "sig"
   ]
  },
  {
   "cell_type": "code",
   "execution_count": 50,
   "id": "97d41920-5497-4bae-95d1-133b0262859c",
   "metadata": {},
   "outputs": [
    {
     "data": {
      "text/plain": [
       "'(text, max_len=80)'"
      ]
     },
     "execution_count": 50,
     "metadata": {},
     "output_type": "execute_result"
    }
   ],
   "source": [
    "str(sig)"
   ]
  },
  {
   "cell_type": "code",
   "execution_count": 51,
   "id": "1935f4c0-d5b5-41cb-a13d-51f9fbd2ee76",
   "metadata": {},
   "outputs": [
    {
     "data": {
      "text/plain": [
       "mappingproxy({'text': <Parameter \"text\">, 'max_len': <Parameter \"max_len=80\">})"
      ]
     },
     "execution_count": 51,
     "metadata": {},
     "output_type": "execute_result"
    }
   ],
   "source": [
    "sig.parameters"
   ]
  },
  {
   "cell_type": "code",
   "execution_count": 52,
   "id": "abc90fd8-4601-4ced-b764-4155a0ae4d1a",
   "metadata": {},
   "outputs": [
    {
     "name": "stdout",
     "output_type": "stream",
     "text": [
      "POSITIONAL_OR_KEYWORD : text = <class 'inspect._empty'>\n",
      "POSITIONAL_OR_KEYWORD : max_len = 80\n"
     ]
    }
   ],
   "source": [
    "for name, param in sig.parameters.items():\n",
    "    print(param.kind, ':', name, '=', param.default)"
   ]
  },
  {
   "cell_type": "markdown",
   "id": "192e9dea-28ca-4e4b-b9fe-b4a1df6f124d",
   "metadata": {},
   "source": [
    "### Binding the function signature from the tag function in Example 5-10 to a dict of arguments"
   ]
  },
  {
   "cell_type": "code",
   "execution_count": 53,
   "id": "8e50b1f3-98f3-47e6-912a-3e715711475c",
   "metadata": {},
   "outputs": [],
   "source": [
    "sig = signature(tag)\n",
    "my_tag = {\n",
    "    'name': 'img',\n",
    "    'title': 'Sunset Boulevard',\n",
    "    'src': 'sunset.jpg',\n",
    "    'cls': 'framed'\n",
    "}"
   ]
  },
  {
   "cell_type": "code",
   "execution_count": 54,
   "id": "bfb55e13-37ff-4614-be61-7db10c60420d",
   "metadata": {},
   "outputs": [
    {
     "data": {
      "text/plain": [
       "<BoundArguments (name='img', cls='framed', attrs={'title': 'Sunset Boulevard', 'src': 'sunset.jpg'})>"
      ]
     },
     "execution_count": 54,
     "metadata": {},
     "output_type": "execute_result"
    }
   ],
   "source": [
    "bound_args = sig.bind(**my_tag)\n",
    "bound_args"
   ]
  },
  {
   "cell_type": "code",
   "execution_count": 55,
   "id": "6066086a-a3ba-4efc-82e5-c3303e5055c5",
   "metadata": {},
   "outputs": [
    {
     "name": "stdout",
     "output_type": "stream",
     "text": [
      "name = img\n",
      "cls = framed\n",
      "attrs = {'title': 'Sunset Boulevard', 'src': 'sunset.jpg'}\n"
     ]
    }
   ],
   "source": [
    "for name, value in bound_args.arguments.items():\n",
    "    print(name, '=', value)"
   ]
  },
  {
   "cell_type": "code",
   "execution_count": 56,
   "id": "80e6f04c-60c8-4600-b1e2-7c5a2a0db082",
   "metadata": {},
   "outputs": [],
   "source": [
    "del my_tag['name']"
   ]
  },
  {
   "cell_type": "code",
   "execution_count": 57,
   "id": "9acb76fd-5d0b-4fe7-b0db-09c4c774f2cc",
   "metadata": {},
   "outputs": [
    {
     "name": "stdout",
     "output_type": "stream",
     "text": [
      "missing a required argument: name\n"
     ]
    }
   ],
   "source": [
    "try:\n",
    "    bound_args = sig.bind(**my_tag)\n",
    "except TypeError:\n",
    "    print('missing a required argument: name')"
   ]
  },
  {
   "cell_type": "markdown",
   "id": "23799104-56a3-4a35-90ee-068db8bfb704",
   "metadata": {},
   "source": [
    "## Function Annotations"
   ]
  },
  {
   "cell_type": "markdown",
   "id": "ddd2e8bb-b018-43ce-ad36-e872bb850469",
   "metadata": {},
   "source": [
    "### Annotated clip function"
   ]
  },
  {
   "cell_type": "code",
   "execution_count": 58,
   "id": "de0be533-3150-4c4f-94bb-6798b2651d35",
   "metadata": {},
   "outputs": [],
   "source": [
    "def clip(text:str, max_len:'int > 0'=80) -> str:\n",
    "    \"\"\"Return text clipped at the last space before or after max_len\n",
    "    \"\"\"\n",
    "    end = None\n",
    "    if len(text) > max_len:\n",
    "        space_before = text.rfind(' ', 0, max_len)\n",
    "    if space_before >= 0:\n",
    "        end = space_before\n",
    "    else:\n",
    "        space_after = text.rfind(' ', max_len)\n",
    "    if space_after >= 0:\n",
    "        end = space_after\n",
    "    if end is None: # no spaces were found\n",
    "        end = len(text)\n",
    "    return text[:end].rstrip()"
   ]
  },
  {
   "cell_type": "code",
   "execution_count": 59,
   "id": "7b15e77a-f1ca-4a89-9a39-3344e8be6081",
   "metadata": {},
   "outputs": [
    {
     "data": {
      "text/plain": [
       "{'text': str, 'max_len': 'int > 0', 'return': str}"
      ]
     },
     "execution_count": 59,
     "metadata": {},
     "output_type": "execute_result"
    }
   ],
   "source": [
    "clip.__annotations__"
   ]
  },
  {
   "cell_type": "markdown",
   "id": "9fdab457-89d3-4bfd-a0b6-83a87d01a927",
   "metadata": {},
   "source": [
    "### Extracting annotations from the function signature"
   ]
  },
  {
   "cell_type": "code",
   "execution_count": 60,
   "id": "57fe3d64-ec3c-4749-b61a-d14752ab6bf3",
   "metadata": {},
   "outputs": [
    {
     "data": {
      "text/plain": [
       "str"
      ]
     },
     "execution_count": 60,
     "metadata": {},
     "output_type": "execute_result"
    }
   ],
   "source": [
    "sig = signature(clip)\n",
    "sig.return_annotation"
   ]
  },
  {
   "cell_type": "code",
   "execution_count": 61,
   "id": "9b17ad0c-9c1e-4439-a7f3-c8136d91ddac",
   "metadata": {},
   "outputs": [
    {
     "name": "stdout",
     "output_type": "stream",
     "text": [
      "<class 'str'> : text = <class 'inspect._empty'>\n",
      "'int > 0'     : max_len = 80\n"
     ]
    }
   ],
   "source": [
    "for param in sig.parameters.values():\n",
    "    note = repr(param.annotation).ljust(13)\n",
    "    print(note, ':', param.name, '=', param.default)"
   ]
  },
  {
   "cell_type": "markdown",
   "id": "f7ddd671-0361-4916-83bf-631757641134",
   "metadata": {},
   "source": [
    "## The operator Module"
   ]
  },
  {
   "cell_type": "markdown",
   "id": "af15f5ce-c403-4114-a039-e22107abba7e",
   "metadata": {},
   "source": [
    "### Factorial implemented with reduce and an anonymous function"
   ]
  },
  {
   "cell_type": "code",
   "execution_count": 62,
   "id": "e5e65c7e-fe90-48ee-8f56-113f4caf69df",
   "metadata": {},
   "outputs": [],
   "source": [
    "def fact(n):\n",
    "    return reduce(lambda a, b: a*b, range(1, n+1))"
   ]
  },
  {
   "cell_type": "markdown",
   "id": "ffaa9c65-a21c-41ba-a383-2338f1f50ee1",
   "metadata": {},
   "source": [
    "### Factorial implemented with reduce and operator.mul"
   ]
  },
  {
   "cell_type": "code",
   "execution_count": 63,
   "id": "c92093a8-8d0c-474d-b09d-1b44e55541fc",
   "metadata": {},
   "outputs": [],
   "source": [
    "def fact(n):\n",
    "    return reduce(mul, range(1, n+1))"
   ]
  },
  {
   "cell_type": "code",
   "execution_count": 64,
   "id": "a28f1d9a-ede0-407d-8f7e-55489bb1d71d",
   "metadata": {},
   "outputs": [],
   "source": [
    "metro_data = [\n",
    "    ('Tokyo', 'JP', 36.933, (35.689722, 139.691667)),\n",
    "    ('Delhi NCR', 'IN', 21.935, (28.613889, 77.208889)),\n",
    "    ('Mexico City', 'MX', 20.142, (19.433333, -99.133333)),\n",
    "    ('New York-Newark', 'US', 20.104, (40.808611, -74.020386)),\n",
    "    ('Sao Paulo', 'BR', 19.649, (-23.547778, -46.635833)),\n",
    "]"
   ]
  },
  {
   "cell_type": "code",
   "execution_count": 65,
   "id": "52414c20-4d80-4f2f-ad7a-592580b320e4",
   "metadata": {},
   "outputs": [
    {
     "name": "stdout",
     "output_type": "stream",
     "text": [
      "('Sao Paulo', 'BR', 19.649, (-23.547778, -46.635833))\n",
      "('Delhi NCR', 'IN', 21.935, (28.613889, 77.208889))\n",
      "('Tokyo', 'JP', 36.933, (35.689722, 139.691667))\n",
      "('Mexico City', 'MX', 20.142, (19.433333, -99.133333))\n",
      "('New York-Newark', 'US', 20.104, (40.808611, -74.020386))\n"
     ]
    }
   ],
   "source": [
    "for city in sorted(metro_data, key=itemgetter(1)):\n",
    "    print(city)"
   ]
  },
  {
   "cell_type": "code",
   "execution_count": 66,
   "id": "05553e8c-b2be-41a3-b971-d09635378ecf",
   "metadata": {},
   "outputs": [],
   "source": [
    "cc_name = itemgetter(1, 0)"
   ]
  },
  {
   "cell_type": "code",
   "execution_count": 67,
   "id": "5e0d15f1-4588-49d4-9007-300ed096335b",
   "metadata": {},
   "outputs": [
    {
     "name": "stdout",
     "output_type": "stream",
     "text": [
      "('JP', 'Tokyo')\n",
      "('IN', 'Delhi NCR')\n",
      "('MX', 'Mexico City')\n",
      "('US', 'New York-Newark')\n",
      "('BR', 'Sao Paulo')\n"
     ]
    }
   ],
   "source": [
    "for city in metro_data:\n",
    "    print(cc_name(city))"
   ]
  },
  {
   "cell_type": "markdown",
   "id": "4f81ed6f-9008-4b00-b5d8-7135de202e52",
   "metadata": {},
   "source": [
    "### Demo of attrgetter to process a previously defined list of namedtuple called metro_data"
   ]
  },
  {
   "cell_type": "code",
   "execution_count": 68,
   "id": "a402adea-79b5-4823-886a-999a82bbb9a2",
   "metadata": {},
   "outputs": [],
   "source": [
    "LatLong = namedtuple('LatLong', 'lat long')\n",
    "Metropolis = namedtuple('Metropolis', 'name cc pop coord')"
   ]
  },
  {
   "cell_type": "code",
   "execution_count": 69,
   "id": "0717dc28-dac0-45d7-985c-fbbbfeece8e3",
   "metadata": {},
   "outputs": [],
   "source": [
    "metro_areas = [Metropolis(name, cc, pop, LatLong(lat, long)) #\n",
    "                for name, cc, pop, (lat, long) in metro_data]"
   ]
  },
  {
   "cell_type": "code",
   "execution_count": 70,
   "id": "8e0992ad-5b86-4edc-8c7d-826ec5c11ba6",
   "metadata": {},
   "outputs": [
    {
     "data": {
      "text/plain": [
       "Metropolis(name='Tokyo', cc='JP', pop=36.933, coord=LatLong(lat=35.689722, long=139.691667))"
      ]
     },
     "execution_count": 70,
     "metadata": {},
     "output_type": "execute_result"
    }
   ],
   "source": [
    "metro_areas[0]"
   ]
  },
  {
   "cell_type": "code",
   "execution_count": 71,
   "id": "c095fda7-3fba-4c6b-a163-f6e88646c2b6",
   "metadata": {},
   "outputs": [
    {
     "data": {
      "text/plain": [
       "35.689722"
      ]
     },
     "execution_count": 71,
     "metadata": {},
     "output_type": "execute_result"
    }
   ],
   "source": [
    "metro_areas[0].coord.lat"
   ]
  },
  {
   "cell_type": "code",
   "execution_count": 72,
   "id": "84c77a89-ba38-4840-8dac-34254e33055b",
   "metadata": {},
   "outputs": [
    {
     "data": {
      "text/plain": [
       "operator.attrgetter('name', 'coord.lat')"
      ]
     },
     "execution_count": 72,
     "metadata": {},
     "output_type": "execute_result"
    }
   ],
   "source": [
    "name_lat = attrgetter('name', 'coord.lat')\n",
    "name_lat"
   ]
  },
  {
   "cell_type": "code",
   "execution_count": 73,
   "id": "f5a37697-18dc-46a0-981f-9169e3b6543c",
   "metadata": {},
   "outputs": [
    {
     "name": "stdout",
     "output_type": "stream",
     "text": [
      "('Sao Paulo', -23.547778)\n",
      "('Mexico City', 19.433333)\n",
      "('Delhi NCR', 28.613889)\n",
      "('Tokyo', 35.689722)\n",
      "('New York-Newark', 40.808611)\n"
     ]
    }
   ],
   "source": [
    "for city in sorted(metro_areas, key=attrgetter('coord.lat')):\n",
    "    print(name_lat(city))"
   ]
  },
  {
   "cell_type": "markdown",
   "id": "af1c6f9f-3ebf-4026-b2ea-20bfa4acd8ab",
   "metadata": {},
   "source": [
    "### Demo of methodcaller: second test shows the binding of extra arguments"
   ]
  },
  {
   "cell_type": "code",
   "execution_count": 74,
   "id": "07236bfb-3baa-4283-9ea8-d4000cb72bb9",
   "metadata": {},
   "outputs": [
    {
     "data": {
      "text/plain": [
       "'THE TIME HAS COME'"
      ]
     },
     "execution_count": 74,
     "metadata": {},
     "output_type": "execute_result"
    }
   ],
   "source": [
    "s = 'The time has come'\n",
    "uppercase = methodcaller('upper')\n",
    "uppercase(s)  # Same as str.upper(s)"
   ]
  },
  {
   "cell_type": "code",
   "execution_count": 75,
   "id": "747749a0-d233-4e22-b9fa-e81f38e676f4",
   "metadata": {},
   "outputs": [
    {
     "data": {
      "text/plain": [
       "'The-time-has-come'"
      ]
     },
     "execution_count": 75,
     "metadata": {},
     "output_type": "execute_result"
    }
   ],
   "source": [
    "hiphenate = methodcaller('replace', ' ', '-')\n",
    "hiphenate(s)  ## # Same as str.repolace(' ', '-')"
   ]
  },
  {
   "cell_type": "markdown",
   "id": "01712cc4-a204-4655-8041-749f056e8032",
   "metadata": {},
   "source": [
    "## Freezing Arguments with functools.partial"
   ]
  },
  {
   "cell_type": "code",
   "execution_count": 76,
   "id": "e36b8f11-1bc1-4368-bc25-818c45d4fd13",
   "metadata": {},
   "outputs": [
    {
     "data": {
      "text/plain": [
       "21"
      ]
     },
     "execution_count": 76,
     "metadata": {},
     "output_type": "execute_result"
    }
   ],
   "source": [
    "triple = partial(mul, 3)\n",
    "triple(7)"
   ]
  },
  {
   "cell_type": "code",
   "execution_count": 77,
   "id": "c4a118bf-fe40-4742-9ff5-3aa1950db95a",
   "metadata": {},
   "outputs": [
    {
     "data": {
      "text/plain": [
       "[3, 6, 9, 12, 15, 18, 21, 24, 27]"
      ]
     },
     "execution_count": 77,
     "metadata": {},
     "output_type": "execute_result"
    }
   ],
   "source": [
    "list(map(triple, range(1, 10)))"
   ]
  },
  {
   "cell_type": "markdown",
   "id": "ac7f6708-59b0-4c20-8d13-21dc7125583e",
   "metadata": {},
   "source": [
    "### Demo of partial applied to the function tag"
   ]
  },
  {
   "cell_type": "code",
   "execution_count": 78,
   "id": "366403f1-01c8-48c4-a19c-beb24877e50a",
   "metadata": {},
   "outputs": [
    {
     "data": {
      "text/plain": [
       "functools.partial(<function tag at 0x000002568F0E4310>, 'img', cls='pic-frame')"
      ]
     },
     "execution_count": 78,
     "metadata": {},
     "output_type": "execute_result"
    }
   ],
   "source": [
    "picture = partial(tag, 'img', cls='pic-frame')\n",
    "picture(src='wumpus.jpeg')\n",
    "picture"
   ]
  },
  {
   "cell_type": "code",
   "execution_count": 79,
   "id": "ede7936e-d736-4025-ad7f-fcf153db107c",
   "metadata": {},
   "outputs": [
    {
     "data": {
      "text/plain": [
       "<function __main__.tag(name, *content, cls=None, **attrs)>"
      ]
     },
     "execution_count": 79,
     "metadata": {},
     "output_type": "execute_result"
    }
   ],
   "source": [
    "picture.func"
   ]
  },
  {
   "cell_type": "code",
   "execution_count": 80,
   "id": "e8215f43-e316-43f0-9784-689386a865ae",
   "metadata": {},
   "outputs": [
    {
     "data": {
      "text/plain": [
       "('img',)"
      ]
     },
     "execution_count": 80,
     "metadata": {},
     "output_type": "execute_result"
    }
   ],
   "source": [
    "picture.args"
   ]
  },
  {
   "cell_type": "code",
   "execution_count": 81,
   "id": "211425cc-6d59-40c4-859e-1e9b2da1f58e",
   "metadata": {},
   "outputs": [
    {
     "data": {
      "text/plain": [
       "{'cls': 'pic-frame'}"
      ]
     },
     "execution_count": 81,
     "metadata": {},
     "output_type": "execute_result"
    }
   ],
   "source": [
    "picture.keywords"
   ]
  }
 ],
 "metadata": {
  "kernelspec": {
   "display_name": "Python 3 (ipykernel)",
   "language": "python",
   "name": "python3"
  },
  "language_info": {
   "codemirror_mode": {
    "name": "ipython",
    "version": 3
   },
   "file_extension": ".py",
   "mimetype": "text/x-python",
   "name": "python",
   "nbconvert_exporter": "python",
   "pygments_lexer": "ipython3",
   "version": "3.8.12"
  }
 },
 "nbformat": 4,
 "nbformat_minor": 5
}
